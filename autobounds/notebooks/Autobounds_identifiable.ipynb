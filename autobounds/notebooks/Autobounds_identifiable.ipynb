{
 "cells": [
  {
   "cell_type": "markdown",
   "metadata": {},
   "source": [
    "# Using Autobounds to handle a model without latent confounders"
   ]
  },
  {
   "cell_type": "code",
   "execution_count": 9,
   "metadata": {},
   "outputs": [],
   "source": [
    "from autobounds.causalProblem import causalProblem\n",
    "from autobounds.DAG import DAG\n",
    "from autobounds.Query import Query\n",
    "import io\n",
    "from copy import deepcopy\n",
    "\n",
    "import networkx as nx\n",
    "import pandas as pd\n",
    "import plotnine as pn\n",
    "import matplotlib.pyplot as plt\n",
    "import numpy as np\n",
    "import statsmodels.api as sm\n",
    "import statsmodels.formula.api as smf\n",
    "import warnings\n",
    "warnings.simplefilter(action='ignore')"
   ]
  },
  {
   "cell_type": "markdown",
   "metadata": {},
   "source": [
    "## Creating the model"
   ]
  },
  {
   "cell_type": "markdown",
   "metadata": {},
   "source": [
    "### Setting the DAG"
   ]
  },
  {
   "cell_type": "code",
   "execution_count": 10,
   "metadata": {},
   "outputs": [
    {
     "data": {
      "image/png": "[encoded data removed]",
      "text/plain": [
       "<Figure size 640x480 with 1 Axes>"
      ]
     },
     "metadata": {},
     "output_type": "display_data"
    }
   ],
   "source": [
    "dag_just = DAG()\n",
    "dag_just.from_structure(edges=\"C -> X, X -> Y, C -> Y\", unob='')\n",
    "dag_just.plot()"
   ]
  },
  {
   "cell_type": "markdown",
   "metadata": {},
   "source": [
    "### Generating the data"
   ]
  },
  {
   "cell_type": "code",
   "execution_count": 11,
   "metadata": {},
   "outputs": [
    {
     "name": "stdout",
     "output_type": "stream",
     "text": [
      "   C  X  Y\n",
      "0  0  0  0\n",
      "1  0  1  0\n",
      "2  0  0  0\n",
      "3  0  0  0\n",
      "4  1  1  1\n",
      "\n",
      "Empirical probabilities:\n",
      "P(C=0): 0.5\n",
      "P(C=1): 0.5\n",
      "P(X=1 | C=0): 0.3\n",
      "P(X=1 | C=1): 0.7\n",
      "P(Y=1 | X=0, C=0): 0.2\n",
      "P(Y=1 | X=1, C=0): 0.4\n",
      "P(Y=1 | X=0, C=1): 0.6\n",
      "P(Y=1 | X=1, C=1): 0.8\n"
     ]
    }
   ],
   "source": [
    "# Number of data points to generate\n",
    "num_samples = 1000\n",
    "\n",
    "# Determine the counts based on the probabilities given\n",
    "counts = {\n",
    "    (0, 0): int(num_samples * 0.5 * 0.7 * 0.8),  # P(C=0, X=0, Y=0)\n",
    "    (0, 1): int(num_samples * 0.5 * 0.7 * 0.2),  # P(C=0, X=0, Y=1)\n",
    "    (1, 0): int(num_samples * 0.5 * 0.3 * 0.6),  # P(C=0, X=1, Y=1)\n",
    "    (1, 1): int(num_samples * 0.5 * 0.3 * 0.4),  # P(C=0, X=1, Y=0)\n",
    "    (2, 0): int(num_samples * 0.5 * 0.3 * 0.4),  # P(C=1, X=0, Y=0)\n",
    "    (2, 1): int(num_samples * 0.5 * 0.3 * 0.6),  # P(C=1, X=0, Y=1)\n",
    "    (3, 0): int(num_samples * 0.5 * 0.7 * 0.2),  # P(C=1, X=1, Y=0)\n",
    "    (3, 1): int(num_samples * 0.5 * 0.7 * 0.8),  # P(C=1, X=1, Y=1)\n",
    "}\n",
    "\n",
    "# Adjust counts to ensure the sum matches the total number of samples\n",
    "adjustment = num_samples - sum(counts.values())\n",
    "counts[(0, 0)] += adjustment  # Adjust one cell to match the total\n",
    "\n",
    "# Generate the data based on the counts\n",
    "data = []\n",
    "for (key, count) in counts.items():\n",
    "    C_value = key[0] // 2  # Maps (0, 1) -> C=0 and (2, 3) -> C=1\n",
    "    X_value = key[0] % 2   # Maps (0, 2) -> X=0 and (1, 3) -> X=1\n",
    "    Y_value = key[1]\n",
    "    data.extend([(C_value, X_value, Y_value)] * count)\n",
    "\n",
    "# Convert the list of tuples into a DataFrame\n",
    "data = pd.DataFrame(data, columns=['C', 'X', 'Y'])\n",
    "\n",
    "# Shuffle the data to randomize the order\n",
    "data = data.sample(frac=1).reset_index(drop=True)\n",
    "\n",
    "# Display the first few rows of the dataset\n",
    "print(data.head())\n",
    "\n",
    "# Verify the empirical probabilities\n",
    "print(\"\\nEmpirical probabilities:\")\n",
    "print(\"P(C=0):\", np.mean(data['C'] == 0))\n",
    "print(\"P(C=1):\", np.mean(data['C'] == 1))\n",
    "print(\"P(X=1 | C=0):\", np.mean(data[data['C'] == 0]['X'] == 1))\n",
    "print(\"P(X=1 | C=1):\", np.mean(data[data['C'] == 1]['X'] == 1))\n",
    "print(\"P(Y=1 | X=0, C=0):\", np.mean(data[(data['X'] == 0) & (data['C'] == 0)]['Y'] == 1))\n",
    "print(\"P(Y=1 | X=1, C=0):\", np.mean(data[(data['X'] == 1) & (data['C'] == 0)]['Y'] == 1))\n",
    "print(\"P(Y=1 | X=0, C=1):\", np.mean(data[(data['X'] == 0) & (data['C'] == 1)]['Y'] == 1))\n",
    "print(\"P(Y=1 | X=1, C=1):\", np.mean(data[(data['X'] == 1) & (data['C'] == 1)]['Y'] == 1))\n"
   ]
  },
  {
   "cell_type": "markdown",
   "metadata": {},
   "source": [
    "### Computing probabilities for each strata of the population"
   ]
  },
  {
   "cell_type": "markdown",
   "metadata": {},
   "source": [
    "Since we have 3 binary observable variables, we have 8 ($2^3$) possible strata for our population. In the Data Frame below, we will calculate the empirical probability for each of them, i.e., $P(C=c, X=x, Y=y)$."
   ]
  },
  {
   "cell_type": "code",
   "execution_count": 12,
   "metadata": {},
   "outputs": [
    {
     "data": {
      "text/html": [
       "<div>\n",
       "<style scoped>\n",
       "    .dataframe tbody tr th:only-of-type {\n",
       "        vertical-align: middle;\n",
       "    }\n",
       "\n",
       "    .dataframe tbody tr th {\n",
       "        vertical-align: top;\n",
       "    }\n",
       "\n",
       "    .dataframe thead th {\n",
       "        text-align: right;\n",
       "    }\n",
       "</style>\n",
       "<table border=\"1\" class=\"dataframe\">\n",
       "  <thead>\n",
       "    <tr style=\"text-align: right;\">\n",
       "      <th></th>\n",
       "      <th>C</th>\n",
       "      <th>X</th>\n",
       "      <th>Y</th>\n",
       "      <th>prob</th>\n",
       "    </tr>\n",
       "  </thead>\n",
       "  <tbody>\n",
       "    <tr>\n",
       "      <th>0</th>\n",
       "      <td>0</td>\n",
       "      <td>0</td>\n",
       "      <td>0</td>\n",
       "      <td>0.28</td>\n",
       "    </tr>\n",
       "    <tr>\n",
       "      <th>1</th>\n",
       "      <td>0</td>\n",
       "      <td>0</td>\n",
       "      <td>1</td>\n",
       "      <td>0.07</td>\n",
       "    </tr>\n",
       "    <tr>\n",
       "      <th>2</th>\n",
       "      <td>0</td>\n",
       "      <td>1</td>\n",
       "      <td>0</td>\n",
       "      <td>0.09</td>\n",
       "    </tr>\n",
       "    <tr>\n",
       "      <th>3</th>\n",
       "      <td>0</td>\n",
       "      <td>1</td>\n",
       "      <td>1</td>\n",
       "      <td>0.06</td>\n",
       "    </tr>\n",
       "    <tr>\n",
       "      <th>4</th>\n",
       "      <td>1</td>\n",
       "      <td>0</td>\n",
       "      <td>0</td>\n",
       "      <td>0.06</td>\n",
       "    </tr>\n",
       "    <tr>\n",
       "      <th>5</th>\n",
       "      <td>1</td>\n",
       "      <td>0</td>\n",
       "      <td>1</td>\n",
       "      <td>0.09</td>\n",
       "    </tr>\n",
       "    <tr>\n",
       "      <th>6</th>\n",
       "      <td>1</td>\n",
       "      <td>1</td>\n",
       "      <td>0</td>\n",
       "      <td>0.07</td>\n",
       "    </tr>\n",
       "    <tr>\n",
       "      <th>7</th>\n",
       "      <td>1</td>\n",
       "      <td>1</td>\n",
       "      <td>1</td>\n",
       "      <td>0.28</td>\n",
       "    </tr>\n",
       "  </tbody>\n",
       "</table>\n",
       "</div>"
      ],
      "text/plain": [
       "   C  X  Y  prob\n",
       "0  0  0  0  0.28\n",
       "1  0  0  1  0.07\n",
       "2  0  1  0  0.09\n",
       "3  0  1  1  0.06\n",
       "4  1  0  0  0.06\n",
       "5  1  0  1  0.09\n",
       "6  1  1  0  0.07\n",
       "7  1  1  1  0.28"
      ]
     },
     "execution_count": 12,
     "metadata": {},
     "output_type": "execute_result"
    }
   ],
   "source": [
    "# group individuals into strata\n",
    "dat = pd.DataFrame(data.groupby(['C', 'X', 'Y']).value_counts().reset_index()) \n",
    "dat['prob'] = dat['count'] / dat['count'].sum()\n",
    "dat = dat.drop(columns='count', axis=0)\n",
    "dat"
   ]
  },
  {
   "cell_type": "markdown",
   "metadata": {},
   "source": [
    "### Defining the problem"
   ]
  },
  {
   "cell_type": "code",
   "execution_count": 13,
   "metadata": {},
   "outputs": [],
   "source": [
    "problem_just = causalProblem(dag_just)\n",
    "problem_just.load_data(dat)"
   ]
  },
  {
   "cell_type": "markdown",
   "metadata": {},
   "source": [
    "### Adding the constraints for the optimization problem"
   ]
  },
  {
   "cell_type": "code",
   "execution_count": 14,
   "metadata": {},
   "outputs": [],
   "source": [
    "problem_just.add_prob_constraints()"
   ]
  },
  {
   "cell_type": "markdown",
   "metadata": {},
   "source": [
    "## Calculating the ATE"
   ]
  },
  {
   "cell_type": "code",
   "execution_count": 15,
   "metadata": {},
   "outputs": [
    {
     "name": "stdout",
     "output_type": "stream",
     "text": [
      "[('C0', 0.5), ('C1', 0.5)]\n"
     ]
    },
    {
     "name": "stdout",
     "output_type": "stream",
     "text": [
      "LOWER BOUND: # -- Primal: 0.2 / Dual: 0.02439587 / Time: d 0.5 ##\n",
      "UPPER BOUND: # -- Primal: 0.2 / Dual: 0.5497454 / Time: 0.3 ##\n",
      "CURRENT THRESHOLDS: # -- Theta: 0.5253495300000001 / Epsilon: 99999999 ##\n",
      "LOWER BOUND: # -- Primal: 0.2 / Dual: 0.1870764 / Time: 5.4 ##\n",
      "UPPER BOUND: # -- Primal: 0.2 / Dual: 0.2142446 / Time: 5.4 ##\n",
      "CURRENT THRESHOLDS: # -- Theta: 0.027168200000000003 / Epsilon: 99999999 ##\n",
      "LOWER BOUND: # -- Primal: 0.2 / Dual: 0.1902069 / Time: 10.4 ##\n",
      "UPPER BOUND: # -- Primal: 0.2 / Dual: 0.2107869 / Time: 10.4 ##\n",
      "CURRENT THRESHOLDS: # -- Theta: 0.020579999999999987 / Epsilon: 99999999 ##\n",
      "LOWER BOUND: # -- Primal: 0.2 / Dual: 0.191316 / Time: 15.4 ##\n",
      "UPPER BOUND: # -- Primal: 0.2 / Dual: 0.2095961 / Time: 15.4 ##\n",
      "CURRENT THRESHOLDS: # -- Theta: 0.018280099999999994 / Epsilon: 99999999 ##\n",
      "LOWER BOUND: # -- Primal: 0.2 / Dual: 0.1920257 / Time: 20.5 ##\n",
      "UPPER BOUND: # -- Primal: 0.2000001 / Dual: 0.2087882 / Time: 20.5 ##\n",
      "CURRENT THRESHOLDS: # -- Theta: 0.016762500000000014 / Epsilon: 167624.00004170524 ##\n",
      "LOWER BOUND: # -- Primal: 0.2 / Dual: 0.1924848 / Time: 25.4 ##\n",
      "UPPER BOUND: # -- Primal: 0.2000001 / Dual: 0.2082193 / Time: 25.4 ##\n",
      "CURRENT THRESHOLDS: # -- Theta: 0.015734499999999985 / Epsilon: 157344.0000391473 ##\n",
      "LOWER BOUND: # -- Primal: 0.2 / Dual: 0.1927927 / Time: 30.4 ##\n",
      "UPPER BOUND: # -- Primal: 0.2000001 / Dual: 0.2078523 / Time: 30.4 ##\n",
      "CURRENT THRESHOLDS: # -- Theta: 0.015059599999999979 / Epsilon: 150595.0000374681 ##\n",
      "LOWER BOUND: # -- Primal: 0.2 / Dual: 0.1930054 / Time: 35.5 ##\n",
      "UPPER BOUND: # -- Primal: 0.2000001 / Dual: 0.2075819 / Time: 35.4 ##\n",
      "CURRENT THRESHOLDS: # -- Theta: 0.01457650000000002 / Epsilon: 145764.00003626655 ##\n",
      "LOWER BOUND: # -- Primal: 0.2 / Dual: 0.1931525 / Time: 40.5 ##\n",
      "UPPER BOUND: # -- Primal: 0.2000001 / Dual: 0.2073339 / Time: 40.5 ##\n",
      "CURRENT THRESHOLDS: # -- Theta: 0.014181399999999983 / Epsilon: 141813.00003528316 ##\n",
      "LOWER BOUND: # -- Primal: 0.2 / Dual: 0.1933296 / Time: 45.5 ##\n",
      "UPPER BOUND: # -- Primal: 0.2000001 / Dual: 0.207132 / Time: 45.4 ##\n",
      "CURRENT THRESHOLDS: # -- Theta: 0.01380240000000002 / Epsilon: 138023.0000343406 ##\n",
      "LOWER BOUND: # -- Primal: 0.2 / Dual: 0.1934294 / Time: 50.4 ##\n",
      "UPPER BOUND: # -- Primal: 0.2000001 / Dual: 0.2069216 / Time: 50.5 ##\n",
      "CURRENT THRESHOLDS: # -- Theta: 0.01349220000000001 / Epsilon: 134921.0000335687 ##\n",
      "LOWER BOUND: # -- Primal: 0.1999932 / Dual: 0.1936018 / Time: 55.5 ##\n",
      "UPPER BOUND: # -- Primal: 0.2000001 / Dual: 0.2067829 / Time: 55.4 ##\n",
      "CURRENT THRESHOLDS: # -- Theta: 0.013181100000000001 / Epsilon: 1909.3043478326294 ##\n",
      "LOWER BOUND: # -- Primal: 0.1999932 / Dual: 0.1937138 / Time: 60.5 ##\n",
      "UPPER BOUND: # -- Primal: 0.2000001 / Dual: 0.2066515 / Time: 60.4 ##\n",
      "CURRENT THRESHOLDS: # -- Theta: 0.012937699999999996 / Epsilon: 1874.0289855136673 ##\n",
      "LOWER BOUND: # -- Primal: 0.1999932 / Dual: 0.1937899 / Time: 65.5 ##\n",
      "UPPER BOUND: # -- Primal: 0.2000001 / Dual: 0.2065312 / Time: 65.4 ##\n",
      "CURRENT THRESHOLDS: # -- Theta: 0.012741300000000011 / Epsilon: 1845.5652173976298 ##\n",
      "LOWER BOUND: # -- Primal: 0.1999932 / Dual: 0.1938706 / Time: 70.4 ##\n",
      "UPPER BOUND: # -- Primal: 0.2000001 / Dual: 0.2064068 / Time: 70.5 ##\n",
      "CURRENT THRESHOLDS: # -- Theta: 0.012536199999999997 / Epsilon: 1815.8405797163666 ##\n",
      "LOWER BOUND: # -- Primal: 0.1999932 / Dual: 0.1939554 / Time: 75.4 ##\n",
      "UPPER BOUND: # -- Primal: 0.2000001 / Dual: 0.2063081 / Time: 75.5 ##\n",
      "CURRENT THRESHOLDS: # -- Theta: 0.012352699999999994 / Epsilon: 1789.2463768177245 ##\n",
      "LOWER BOUND: # -- Primal: 0.1999932 / Dual: 0.1940199 / Time: 80.5 ##\n",
      "UPPER BOUND: # -- Primal: 0.2000001 / Dual: 0.2062203 / Time: 80.4 ##\n",
      "CURRENT THRESHOLDS: # -- Theta: 0.0122004 / Epsilon: 1767.1739130495337 ##\n",
      "LOWER BOUND: # -- Primal: 0.1999932 / Dual: 0.1941168 / Time: 85.5 ##\n",
      "UPPER BOUND: # -- Primal: 0.2000001 / Dual: 0.206135 / Time: 85.5 ##\n",
      "CURRENT THRESHOLDS: # -- Theta: 0.012018200000000007 / Epsilon: 1740.768115947995 ##\n",
      "LOWER BOUND: # -- Primal: 0.1999932 / Dual: 0.1941725 / Time: 90.4 ##\n",
      "UPPER BOUND: # -- Primal: 0.2000001 / Dual: 0.2060354 / Time: 90.4 ##\n",
      "CURRENT THRESHOLDS: # -- Theta: 0.01186290000000001 / Epsilon: 1718.2608695711067 ##\n",
      "LOWER BOUND: # -- Primal: 0.1999932 / Dual: 0.1942509 / Time: 95.4 ##\n",
      "UPPER BOUND: # -- Primal: 0.2000001 / Dual: 0.2059545 / Time: 95.4 ##\n",
      "CURRENT THRESHOLDS: # -- Theta: 0.011703600000000008 / Epsilon: 1695.1739130492883 ##\n",
      "LOWER BOUND: # -- Primal: 0.1999932 / Dual: 0.1943154 / Time: 100.0 ##\n",
      "UPPER BOUND: # -- Primal: 0.2000001 / Dual: 0.2058846 / Time: 101.0 ##\n",
      "CURRENT THRESHOLDS: # -- Theta: 0.011569200000000002 / Epsilon: 1675.6956521796556 ##\n",
      "LOWER BOUND: # -- Primal: 0.1999932 / Dual: 0.1943638 / Time: 105.0 ##\n",
      "UPPER BOUND: # -- Primal: 0.2000001 / Dual: 0.2058195 / Time: 105.0 ##\n",
      "CURRENT THRESHOLDS: # -- Theta: 0.011455699999999985 / Epsilon: 1659.246376817278 ##\n",
      "LOWER BOUND: # -- Primal: 0.1999932 / Dual: 0.1943974 / Time: 110.0 ##\n",
      "UPPER BOUND: # -- Primal: 0.2000001 / Dual: 0.2057487 / Time: 110.0 ##\n",
      "CURRENT THRESHOLDS: # -- Theta: 0.011351300000000009 / Epsilon: 1644.1159420346207 ##\n",
      "LOWER BOUND: # -- Primal: 0.1999932 / Dual: 0.1944693 / Time: 115.0 ##\n",
      "UPPER BOUND: # -- Primal: 0.2000001 / Dual: 0.2056727 / Time: 116.0 ##\n",
      "CURRENT THRESHOLDS: # -- Theta: 0.011203400000000002 / Epsilon: 1622.6811594258509 ##\n",
      "LOWER BOUND: # -- Primal: 0.1999932 / Dual: 0.1945028 / Time: 120.0 ##\n",
      "UPPER BOUND: # -- Primal: 0.2000001 / Dual: 0.2056096 / Time: 120.0 ##\n",
      "CURRENT THRESHOLDS: # -- Theta: 0.0111068 / Epsilon: 1608.6811594258027 ##\n",
      "LOWER BOUND: # -- Primal: 0.1999932 / Dual: 0.194547 / Time: 125.0 ##\n",
      "UPPER BOUND: # -- Primal: 0.2000001 / Dual: 0.2055583 / Time: 126.0 ##\n",
      "CURRENT THRESHOLDS: # -- Theta: 0.011011300000000002 / Epsilon: 1594.8405797156104 ##\n",
      "LOWER BOUND: # -- Primal: 0.1999932 / Dual: 0.1945895 / Time: 131.0 ##\n",
      "UPPER BOUND: # -- Primal: 0.2000001 / Dual: 0.2054974 / Time: 131.0 ##\n",
      "CURRENT THRESHOLDS: # -- Theta: 0.010907899999999998 / Epsilon: 1579.8550724691818 ##\n",
      "LOWER BOUND: # -- Primal: 0.1999932 / Dual: 0.1946157 / Time: 135.0 ##\n",
      "UPPER BOUND: # -- Primal: 0.2000001 / Dual: 0.2054643 / Time: 135.0 ##\n",
      "CURRENT THRESHOLDS: # -- Theta: 0.010848599999999986 / Epsilon: 1571.2608695705999 ##\n",
      "LOWER BOUND: # -- Primal: 0.1999932 / Dual: 0.1946596 / Time: 141.0 ##\n",
      "UPPER BOUND: # -- Primal: 0.2000001 / Dual: 0.2054302 / Time: 140.0 ##\n",
      "CURRENT THRESHOLDS: # -- Theta: 0.010770600000000019 / Epsilon: 1559.956521744479 ##\n",
      "LOWER BOUND: # -- Primal: 0.1999932 / Dual: 0.1946884 / Time: 145.0 ##\n",
      "UPPER BOUND: # -- Primal: 0.2000001 / Dual: 0.2053972 / Time: 145.0 ##\n",
      "CURRENT THRESHOLDS: # -- Theta: 0.01070879999999999 / Epsilon: 1551.0000000053137 ##\n",
      "LOWER BOUND: # -- Primal: 0.1999932 / Dual: 0.1947081 / Time: 151.0 ##\n",
      "UPPER BOUND: # -- Primal: 0.2000001 / Dual: 0.2053622 / Time: 150.0 ##\n",
      "CURRENT THRESHOLDS: # -- Theta: 0.0106541 / Epsilon: 1543.0724637734038 ##\n",
      "LOWER BOUND: # -- Primal: 0.1999932 / Dual: 0.1947548 / Time: 155.0 ##\n",
      "UPPER BOUND: # -- Primal: 0.2000001 / Dual: 0.2053421 / Time: 155.0 ##\n",
      "CURRENT THRESHOLDS: # -- Theta: 0.010587299999999994 / Epsilon: 1533.3913043530802 ##\n",
      "LOWER BOUND: # -- Primal: 0.1999932 / Dual: 0.1947787 / Time: 161.0 ##\n",
      "UPPER BOUND: # -- Primal: 0.2000001 / Dual: 0.2053107 / Time: 161.0 ##\n",
      "CURRENT THRESHOLDS: # -- Theta: 0.010532000000000014 / Epsilon: 1525.3768115994324 ##\n",
      "LOWER BOUND: # -- Primal: 0.1999932 / Dual: 0.1948052 / Time: 165.0 ##\n",
      "UPPER BOUND: # -- Primal: 0.2000001 / Dual: 0.2052803 / Time: 165.0 ##\n",
      "CURRENT THRESHOLDS: # -- Theta: 0.010475099999999987 / Epsilon: 1517.130434787806 ##\n",
      "LOWER BOUND: # -- Primal: 0.1999932 / Dual: 0.194831 / Time: 171.0 ##\n",
      "UPPER BOUND: # -- Primal: 0.2000001 / Dual: 0.2052607 / Time: 170.0 ##\n",
      "CURRENT THRESHOLDS: # -- Theta: 0.010429699999999986 / Epsilon: 1510.5507246428558 ##\n",
      "LOWER BOUND: # -- Primal: 0.1999932 / Dual: 0.1948649 / Time: 176.0 ##\n",
      "UPPER BOUND: # -- Primal: 0.2000001 / Dual: 0.2052398 / Time: 176.0 ##\n",
      "CURRENT THRESHOLDS: # -- Theta: 0.010374899999999992 / Epsilon: 1502.6086956573222 ##\n",
      "LOWER BOUND: # -- Primal: 0.1999932 / Dual: 0.1948809 / Time: 180.0 ##\n",
      "UPPER BOUND: # -- Primal: 0.2000001 / Dual: 0.2052081 / Time: 181.0 ##\n",
      "CURRENT THRESHOLDS: # -- Theta: 0.010327200000000009 / Epsilon: 1495.69565217904 ##\n",
      "LOWER BOUND: # -- Primal: 0.1999932 / Dual: 0.1949065 / Time: 185.0 ##\n",
      "UPPER BOUND: # -- Primal: 0.2000001 / Dual: 0.205171 / Time: 185.0 ##\n",
      "CURRENT THRESHOLDS: # -- Theta: 0.010264499999999982 / Epsilon: 1486.608695657266 ##\n",
      "LOWER BOUND: # -- Primal: 0.1999932 / Dual: 0.1949263 / Time: 191.0 ##\n",
      "UPPER BOUND: # -- Primal: 0.2000001 / Dual: 0.2051444 / Time: 190.0 ##\n",
      "CURRENT THRESHOLDS: # -- Theta: 0.010218100000000008 / Epsilon: 1479.8840579760872 ##\n",
      "LOWER BOUND: # -- Primal: 0.1999932 / Dual: 0.1949497 / Time: 196.0 ##\n",
      "UPPER BOUND: # -- Primal: 0.2000001 / Dual: 0.2051222 / Time: 196.0 ##\n",
      "CURRENT THRESHOLDS: # -- Theta: 0.010172500000000001 / Epsilon: 1473.2753623238898 ##\n",
      "LOWER BOUND: # -- Primal: 0.1999932 / Dual: 0.1949684 / Time: 201.0 ##\n",
      "UPPER BOUND: # -- Primal: 0.2000001 / Dual: 0.2051137 / Time: 200.0 ##\n",
      "CURRENT THRESHOLDS: # -- Theta: 0.010145300000000024 / Epsilon: 1469.3333333383723 ##\n",
      "LOWER BOUND: # -- Primal: 0.1999932 / Dual: 0.1949814 / Time: 205.0 ##\n",
      "UPPER BOUND: # -- Primal: 0.2000001 / Dual: 0.2050865 / Time: 206.0 ##\n",
      "CURRENT THRESHOLDS: # -- Theta: 0.010105100000000006 / Epsilon: 1463.507246381828 ##\n",
      "LOWER BOUND: # -- Primal: 0.1999932 / Dual: 0.1950007 / Time: 210.0 ##\n",
      "UPPER BOUND: # -- Primal: 0.2000001 / Dual: 0.2050679 / Time: 211.0 ##\n",
      "CURRENT THRESHOLDS: # -- Theta: 0.010067199999999998 / Epsilon: 1458.0144927586196 ##\n",
      "LOWER BOUND: # -- Primal: 0.1999932 / Dual: 0.1950213 / Time: 216.0 ##\n",
      "UPPER BOUND: # -- Primal: 0.2000001 / Dual: 0.2050469 / Time: 215.0 ##\n",
      "CURRENT THRESHOLDS: # -- Theta: 0.010025599999999996 / Epsilon: 1451.9855072513521 ##\n",
      "LOWER BOUND: # -- Primal: 0.1999932 / Dual: 0.1950354 / Time: 221.0 ##\n",
      "UPPER BOUND: # -- Primal: 0.2000001 / Dual: 0.2050278 / Time: 220.0 ##\n",
      "CURRENT THRESHOLDS: # -- Theta: 0.009992400000000012 / Epsilon: 1447.1739130484395 ##\n",
      "==============================================\n",
      "Causal effect lies in the interval [0.195, 0.205]\n"
     ]
    }
   ],
   "source": [
    "problem_just.set_ate(ind=\"X\", dep=\"Y\")\n",
    "just_prog_ate = problem_just.write_program()\n",
    "\n",
    "\n",
    "# run optimisation routine, argument saves results at filename\n",
    "just_prog_ate_optim = just_prog_ate.run_scip('replication_files/results/Identifiable.csv')\n",
    "\n",
    "print(\"==============================================\")\n",
    "print(f\"Causal effect lies in the interval [{np.round(just_prog_ate_optim[0]['dual'], 3)}, \"\n",
    "      f\"{np.round(just_prog_ate_optim[1]['dual'], 3)}]\" \n",
    ")"
   ]
  },
  {
   "cell_type": "code",
   "execution_count": 16,
   "metadata": {},
   "outputs": [
    {
     "ename": "IndexError",
     "evalue": "list index out of range",
     "output_type": "error",
     "traceback": [
      "\u001b[0;31m---------------------------------------------------------------------------\u001b[0m",
      "\u001b[0;31mIndexError\u001b[0m                                Traceback (most recent call last)",
      "Cell \u001b[0;32mIn[16], line 1\u001b[0m\n\u001b[0;32m----> 1\u001b[0m \u001b[43mjust_prog_ate\u001b[49m\u001b[38;5;241;43m.\u001b[39;49m\u001b[43mplot\u001b[49m\u001b[43m(\u001b[49m\u001b[43m)\u001b[49m\n",
      "File \u001b[0;32m~/cinf/myenv/lib/python3.11/site-packages/autobounds/Program.py:44\u001b[0m, in \u001b[0;36mProgram.plot\u001b[0;34m(self)\u001b[0m\n\u001b[1;32m     43\u001b[0m \u001b[38;5;28;01mdef\u001b[39;00m \u001b[38;5;21mplot\u001b[39m(\u001b[38;5;28mself\u001b[39m):\n\u001b[0;32m---> 44\u001b[0m     \u001b[38;5;28;43mself\u001b[39;49m\u001b[38;5;241;43m.\u001b[39;49m\u001b[43mtrack_result_scip\u001b[49m\u001b[43m(\u001b[49m\u001b[43m)\u001b[49m\n\u001b[1;32m     45\u001b[0m     \u001b[38;5;28mself\u001b[39m\u001b[38;5;241m.\u001b[39mres_scip \u001b[38;5;241m=\u001b[39m \u001b[38;5;28mself\u001b[39m\u001b[38;5;241m.\u001b[39mres_scip\u001b[38;5;241m.\u001b[39mloc[\u001b[38;5;28;01mlambda\u001b[39;00m k: k\u001b[38;5;241m.\u001b[39mseconds \u001b[38;5;241m!=\u001b[39m \u001b[38;5;124m'\u001b[39m\u001b[38;5;124mtime\u001b[39m\u001b[38;5;124m'\u001b[39m]\n\u001b[1;32m     46\u001b[0m     \u001b[38;5;28mself\u001b[39m\u001b[38;5;241m.\u001b[39mres_scip \u001b[38;5;241m=\u001b[39m \u001b[38;5;28mself\u001b[39m\u001b[38;5;241m.\u001b[39mres_scip\u001b[38;5;241m.\u001b[39mastype(\u001b[38;5;28mfloat\u001b[39m)\n",
      "File \u001b[0;32m~/cinf/myenv/lib/python3.11/site-packages/autobounds/Program.py:57\u001b[0m, in \u001b[0;36mProgram.track_result_scip\u001b[0;34m(self)\u001b[0m\n\u001b[1;32m     52\u001b[0m \u001b[38;5;28;01mdef\u001b[39;00m \u001b[38;5;21mtrack_result_scip\u001b[39m(\u001b[38;5;28mself\u001b[39m):\n\u001b[1;32m     53\u001b[0m \u001b[38;5;250m    \u001b[39m\u001b[38;5;124;03m\"\"\" \u001b[39;00m\n\u001b[1;32m     54\u001b[0m \u001b[38;5;124;03m    After running the optimization, this method obtains data from \u001b[39;00m\n\u001b[1;32m     55\u001b[0m \u001b[38;5;124;03m    the optimization routine and saves it into self.res_scip\u001b[39;00m\n\u001b[1;32m     56\u001b[0m \u001b[38;5;124;03m    \"\"\"\u001b[39;00m\n\u001b[0;32m---> 57\u001b[0m     res_lower \u001b[38;5;241m=\u001b[39m \u001b[43mparse_whole_file_scip\u001b[49m\u001b[43m(\u001b[49m\u001b[38;5;28;43mself\u001b[39;49m\u001b[38;5;241;43m.\u001b[39;49m\u001b[43mscip_lower_filename\u001b[49m\u001b[43m)\u001b[49m\n\u001b[1;32m     58\u001b[0m     res_upper \u001b[38;5;241m=\u001b[39m parse_whole_file_scip(\u001b[38;5;28mself\u001b[39m\u001b[38;5;241m.\u001b[39mscip_upper_filename)\n\u001b[1;32m     59\u001b[0m     \u001b[38;5;28;01mif\u001b[39;00m \u001b[38;5;28mlen\u001b[39m(res_lower) \u001b[38;5;241m==\u001b[39m \u001b[38;5;241m0\u001b[39m \u001b[38;5;129;01mand\u001b[39;00m \u001b[38;5;28mlen\u001b[39m(res_upper) \u001b[38;5;241m==\u001b[39m \u001b[38;5;241m0\u001b[39m:\n",
      "File \u001b[0;32m~/cinf/myenv/lib/python3.11/site-packages/autobounds/ProgramUtils.py:205\u001b[0m, in \u001b[0;36mparse_whole_file_scip\u001b[0;34m(filename)\u001b[0m\n\u001b[1;32m    202\u001b[0m \u001b[38;5;28;01mif\u001b[39;00m \u001b[38;5;28mlen\u001b[39m(datarows) \u001b[38;5;241m>\u001b[39m \u001b[38;5;241m0\u001b[39m:\n\u001b[1;32m    203\u001b[0m     getn \u001b[38;5;241m=\u001b[39m \u001b[38;5;28;01mlambda\u001b[39;00m l: l[\u001b[38;5;241m0\u001b[39m:\u001b[38;5;241m1\u001b[39m] \u001b[38;5;241m+\u001b[39m l[\u001b[38;5;241m-\u001b[39m\u001b[38;5;241m4\u001b[39m:\u001b[38;5;241m-\u001b[39m\u001b[38;5;241m2\u001b[39m]\n\u001b[1;32m    204\u001b[0m     \u001b[38;5;28;01mreturn\u001b[39;00m [ get_parse_file_vals_scip(getn(k\u001b[38;5;241m.\u001b[39msplit(\u001b[38;5;124m'\u001b[39m\u001b[38;5;124m|\u001b[39m\u001b[38;5;124m'\u001b[39m))) \n\u001b[0;32m--> 205\u001b[0m             \u001b[38;5;28;01mfor\u001b[39;00m k \u001b[38;5;129;01min\u001b[39;00m datarows ] \u001b[38;5;241m+\u001b[39m [ \u001b[43mget_final_bound_scip\u001b[49m\u001b[43m(\u001b[49m\u001b[43mfilename\u001b[49m\u001b[43m)\u001b[49m ]\n\u001b[1;32m    206\u001b[0m \u001b[38;5;28;01melse\u001b[39;00m:\n\u001b[1;32m    207\u001b[0m     \u001b[38;5;28;01mreturn\u001b[39;00m \u001b[38;5;28;01mNone\u001b[39;00m\n",
      "File \u001b[0;32m~/cinf/myenv/lib/python3.11/site-packages/autobounds/ProgramUtils.py:255\u001b[0m, in \u001b[0;36mget_final_bound_scip\u001b[0;34m(filename)\u001b[0m\n\u001b[1;32m    253\u001b[0m     data \u001b[38;5;241m=\u001b[39m f\u001b[38;5;241m.\u001b[39mreadlines()\n\u001b[1;32m    254\u001b[0m result \u001b[38;5;241m=\u001b[39m {}\n\u001b[0;32m--> 255\u001b[0m result[\u001b[38;5;124m'\u001b[39m\u001b[38;5;124mprimal\u001b[39m\u001b[38;5;124m'\u001b[39m] \u001b[38;5;241m=\u001b[39m \u001b[38;5;28mfloat\u001b[39m(\u001b[43m[\u001b[49m\u001b[43m \u001b[49m\u001b[43mk\u001b[49m\u001b[43m \u001b[49m\u001b[38;5;28;43;01mfor\u001b[39;49;00m\u001b[43m \u001b[49m\u001b[43mk\u001b[49m\u001b[43m \u001b[49m\u001b[38;5;129;43;01min\u001b[39;49;00m\u001b[43m \u001b[49m\u001b[43mdata\u001b[49m\u001b[43m \u001b[49m\u001b[38;5;28;43;01mif\u001b[39;49;00m\u001b[43m \u001b[49m\u001b[43mk\u001b[49m\u001b[38;5;241;43m.\u001b[39;49m\u001b[43mstartswith\u001b[49m\u001b[43m(\u001b[49m\u001b[38;5;124;43m'\u001b[39;49m\u001b[38;5;124;43mPrimal Bound\u001b[39;49m\u001b[38;5;124;43m'\u001b[39;49m\u001b[43m)\u001b[49m\u001b[43m]\u001b[49m\u001b[43m[\u001b[49m\u001b[38;5;241;43m-\u001b[39;49m\u001b[38;5;241;43m1\u001b[39;49m\u001b[43m]\u001b[49m\n\u001b[1;32m    256\u001b[0m         \u001b[38;5;241m.\u001b[39msplit(\u001b[38;5;124m'\u001b[39m\u001b[38;5;124m:\u001b[39m\u001b[38;5;124m'\u001b[39m)[\u001b[38;5;241m1\u001b[39m]\u001b[38;5;241m.\u001b[39msplit(\u001b[38;5;124m'\u001b[39m\u001b[38;5;124m(\u001b[39m\u001b[38;5;124m'\u001b[39m)[\u001b[38;5;241m0\u001b[39m]\u001b[38;5;241m.\u001b[39mstrip())\n\u001b[1;32m    257\u001b[0m result[\u001b[38;5;124m'\u001b[39m\u001b[38;5;124mdual\u001b[39m\u001b[38;5;124m'\u001b[39m] \u001b[38;5;241m=\u001b[39m \u001b[38;5;28mfloat\u001b[39m([ k \u001b[38;5;28;01mfor\u001b[39;00m k \u001b[38;5;129;01min\u001b[39;00m data \u001b[38;5;28;01mif\u001b[39;00m k\u001b[38;5;241m.\u001b[39mstartswith(\u001b[38;5;124m'\u001b[39m\u001b[38;5;124mDual Bound\u001b[39m\u001b[38;5;124m'\u001b[39m)][\u001b[38;5;241m-\u001b[39m\u001b[38;5;241m1\u001b[39m]\n\u001b[1;32m    258\u001b[0m         \u001b[38;5;241m.\u001b[39msplit(\u001b[38;5;124m'\u001b[39m\u001b[38;5;124m:\u001b[39m\u001b[38;5;124m'\u001b[39m)[\u001b[38;5;241m1\u001b[39m]\u001b[38;5;241m.\u001b[39msplit(\u001b[38;5;124m'\u001b[39m\u001b[38;5;124m(\u001b[39m\u001b[38;5;124m'\u001b[39m)[\u001b[38;5;241m0\u001b[39m]\u001b[38;5;241m.\u001b[39mstrip())\n\u001b[1;32m    259\u001b[0m result[\u001b[38;5;124m'\u001b[39m\u001b[38;5;124mtime\u001b[39m\u001b[38;5;124m'\u001b[39m] \u001b[38;5;241m=\u001b[39m \u001b[38;5;28mfloat\u001b[39m([ k \u001b[38;5;28;01mfor\u001b[39;00m k \u001b[38;5;129;01min\u001b[39;00m data \u001b[38;5;28;01mif\u001b[39;00m k\u001b[38;5;241m.\u001b[39mstartswith(\u001b[38;5;124m'\u001b[39m\u001b[38;5;124mSolving Time\u001b[39m\u001b[38;5;124m'\u001b[39m)][\u001b[38;5;241m-\u001b[39m\u001b[38;5;241m1\u001b[39m]\n\u001b[1;32m    260\u001b[0m         \u001b[38;5;241m.\u001b[39msplit(\u001b[38;5;124m'\u001b[39m\u001b[38;5;124m:\u001b[39m\u001b[38;5;124m'\u001b[39m)[\u001b[38;5;241m1\u001b[39m]\u001b[38;5;241m.\u001b[39msplit(\u001b[38;5;124m'\u001b[39m\u001b[38;5;124ms\u001b[39m\u001b[38;5;124m'\u001b[39m)[\u001b[38;5;241m0\u001b[39m]\u001b[38;5;241m.\u001b[39mstrip())\n",
      "\u001b[0;31mIndexError\u001b[0m: list index out of range"
     ]
    }
   ],
   "source": [
    "just_prog_ate.plot()"
   ]
  },
  {
   "cell_type": "markdown",
   "metadata": {},
   "source": [
    "## Conclusion "
   ]
  },
  {
   "cell_type": "markdown",
   "metadata": {},
   "source": [
    "The result we were looking for was $0.2$, considering that\n",
    "$$ \\mathbb{P}(Y=y | do(X=x)) = \\sum_c \\mathbb{P}(Y = y | X=x, C=c)\\mathbb{P}(C=c) $$\n",
    "we get\n",
    "$$ \\mathbb{P}(Y=1 | do(X=1)) = \\mathbb{P}(Y = 1 | X=1, C=1)\\mathbb{P}(C=1) + \\mathbb{P}(Y = 1 | X=1, C=0)\\mathbb{P}(C=0) = (0.8)(0.5) + (0.4)(0.5) = 0.6 $$\n",
    "$$ \\mathbb{P}(Y=1 | do(X=0)) = \\mathbb{P}(Y = 1 | X=0, C=1)\\mathbb{P}(C=1) + \\mathbb{P}(Y = 1 | X=0, C=0)\\mathbb{P}(C=0) = (0.6)(0.5) + (0.2)(0.5) = 0.4 $$\n",
    "Now, to calculate the ATE:\n",
    "$$ ATE = \\mathbb{P}(Y=1 | do(X=1)) - \\mathbb{P}(Y=1 | do(X=0)) = 0.6 - 0.4 = 0.2 $$"
   ]
  },
  {
   "cell_type": "markdown",
   "metadata": {},
   "source": [
    "It is possible to conclude that Autobounds is **not the best tool** for completely identifiable models. \n",
    "\n",
    "In this case, we believe the algorithm would be able to find the actual ATE, but its execution **inexplicably stops** before doing so. We are able to suppose that since its theta is still far from zero when the results are given. Moreover, we normally also get a summary of the execution at the end of the log file when it's done, but it's missing in this example, which makes it impossible to plot the graph afterward.\n",
    "\n",
    "Even if the program actually returned accurate results after running for a longer period of time, it's still not ideal considering other tools like DoWhy usually take less than a second to solve such a simple problem."
   ]
  }
 ],
 "metadata": {
  "kernelspec": {
   "display_name": "Python (myenv)",
   "language": "python",
   "name": "myenv"
  },
  "language_info": {
   "codemirror_mode": {
    "name": "ipython",
    "version": 3
   },
   "file_extension": ".py",
   "mimetype": "text/x-python",
   "name": "python",
   "nbconvert_exporter": "python",
   "pygments_lexer": "ipython3",
   "version": "3.11.10"
  }
 },
 "nbformat": 4,
 "nbformat_minor": 2
}
