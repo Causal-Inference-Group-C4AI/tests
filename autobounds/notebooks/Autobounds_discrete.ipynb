{
 "cells": [
  {
   "cell_type": "markdown",
   "metadata": {},
   "source": [
    "# Using Autobounds to solve discrete problems"
   ]
  },
  {
   "cell_type": "code",
   "execution_count": 15,
   "metadata": {},
   "outputs": [],
   "source": [
    "from autobounds.causalProblem import causalProblem\n",
    "from autobounds.DAG import DAG\n",
    "import pandas as pd\n",
    "import numpy as np\n",
    "import warnings\n",
    "warnings.simplefilter(action='ignore')"
   ]
  },
  {
   "cell_type": "markdown",
   "metadata": {},
   "source": [
    "## Creating the model"
   ]
  },
  {
   "cell_type": "markdown",
   "metadata": {},
   "source": [
    "### Setting the DAG"
   ]
  },
  {
   "cell_type": "markdown",
   "metadata": {},
   "source": [
    "In this example, we're going to use the same causal graph used in Balke and Pearl's paper. The only difference is that we will generate our own data."
   ]
  },
  {
   "cell_type": "code",
   "execution_count": 16,
   "metadata": {},
   "outputs": [
    {
     "data": {
      "image/png": "[encoded data removed]",
      "text/plain": [
       "<Figure size 640x480 with 1 Axes>"
      ]
     },
     "metadata": {},
     "output_type": "display_data"
    }
   ],
   "source": [
    "dag = DAG()\n",
    "dag.from_structure(edges=\"Z -> X, X -> Y, Uxy -> X, Uxy -> Y\", unob = \"Uxy\")\n",
    "dag.plot()"
   ]
  },
  {
   "cell_type": "markdown",
   "metadata": {},
   "source": [
    "### Generating the data"
   ]
  },
  {
   "cell_type": "markdown",
   "metadata": {},
   "source": [
    "At first, only $Z$ will be ternary and the rest of the variables will remain binary."
   ]
  },
  {
   "cell_type": "code",
   "execution_count": 17,
   "metadata": {},
   "outputs": [
    {
     "data": {
      "text/html": [
       "<div>\n",
       "<style scoped>\n",
       "    .dataframe tbody tr th:only-of-type {\n",
       "        vertical-align: middle;\n",
       "    }\n",
       "\n",
       "    .dataframe tbody tr th {\n",
       "        vertical-align: top;\n",
       "    }\n",
       "\n",
       "    .dataframe thead th {\n",
       "        text-align: right;\n",
       "    }\n",
       "</style>\n",
       "<table border=\"1\" class=\"dataframe\">\n",
       "  <thead>\n",
       "    <tr style=\"text-align: right;\">\n",
       "      <th></th>\n",
       "      <th>Z</th>\n",
       "      <th>X</th>\n",
       "      <th>Y</th>\n",
       "    </tr>\n",
       "  </thead>\n",
       "  <tbody>\n",
       "    <tr>\n",
       "      <th>0</th>\n",
       "      <td>1</td>\n",
       "      <td>0</td>\n",
       "      <td>0</td>\n",
       "    </tr>\n",
       "    <tr>\n",
       "      <th>1</th>\n",
       "      <td>2</td>\n",
       "      <td>1</td>\n",
       "      <td>1</td>\n",
       "    </tr>\n",
       "    <tr>\n",
       "      <th>2</th>\n",
       "      <td>1</td>\n",
       "      <td>1</td>\n",
       "      <td>1</td>\n",
       "    </tr>\n",
       "    <tr>\n",
       "      <th>3</th>\n",
       "      <td>1</td>\n",
       "      <td>1</td>\n",
       "      <td>1</td>\n",
       "    </tr>\n",
       "    <tr>\n",
       "      <th>4</th>\n",
       "      <td>0</td>\n",
       "      <td>0</td>\n",
       "      <td>1</td>\n",
       "    </tr>\n",
       "  </tbody>\n",
       "</table>\n",
       "</div>"
      ],
      "text/plain": [
       "   Z  X  Y\n",
       "0  1  0  0\n",
       "1  2  1  1\n",
       "2  1  1  1\n",
       "3  1  1  1\n",
       "4  0  0  1"
      ]
     },
     "execution_count": 17,
     "metadata": {},
     "output_type": "execute_result"
    }
   ],
   "source": [
    "# Set a random seed for reproducibility\n",
    "np.random.seed(42)\n",
    "\n",
    "# Define the number of samples\n",
    "n = 1000\n",
    "\n",
    "# Generate data for exogenous variables Z and U\n",
    "Z = np.random.choice([0, 1, 2], size=n, p=[0.3, 0.5, 0.2])  # Discrete with 3 values\n",
    "U = np.random.choice([0, 1], size=n, p=[0.6, 0.4])          # Binary variable\n",
    "\n",
    "# Generate X as a function of Z and U (binary)\n",
    "X = np.zeros(n, dtype=int)\n",
    "# Define P(X=1 | Z, U)\n",
    "prob_X_given_Z_U = np.array([\n",
    "    [0.1, 0.7],   # P(X=1 | Z=0, U=0), P(X=1 | Z=0, U=1)\n",
    "    [0.4, 0.8],   # P(X=1 | Z=1, U=0), P(X=1 | Z=1, U=1)\n",
    "    [0.9, 0.95]   # P(X=1 | Z=2, U=0), P(X=1 | Z=2, U=1)\n",
    "])\n",
    "\n",
    "for i in range(n):\n",
    "    Z_i, U_i = Z[i], U[i]\n",
    "    p_X = prob_X_given_Z_U[Z_i, U_i]\n",
    "    X[i] = np.random.choice([0, 1], p=[1 - p_X, p_X])\n",
    "\n",
    "# Generate Y as a function of X and U (binary)\n",
    "Y = np.zeros(n, dtype=int)\n",
    "# Define P(Y=1 | X, U)\n",
    "prob_Y_given_X_U = np.array([\n",
    "    [0.3, 0.6],   # P(Y=1 | X=0, U=0), P(Y=1 | X=0, U=1)\n",
    "    [0.7, 0.9]    # P(Y=1 | X=1, U=0), P(Y=1 | X=1, U=1)\n",
    "])\n",
    "\n",
    "for i in range(n):\n",
    "    X_i, U_i = X[i], U[i]\n",
    "    p_Y = prob_Y_given_X_U[X_i, U_i]\n",
    "    Y[i] = np.random.choice([0, 1], p=[1 - p_Y, p_Y])\n",
    "\n",
    "# Create a DataFrame to store the generated data\n",
    "data = pd.DataFrame({'Z': Z, 'X': X, 'Y': Y})\n",
    "\n",
    "# Display the first few rows of the generated data\n",
    "data.head()\n"
   ]
  },
  {
   "cell_type": "markdown",
   "metadata": {},
   "source": [
    "### Computing probabilities for each strata of the population"
   ]
  },
  {
   "cell_type": "markdown",
   "metadata": {},
   "source": [
    "Since we have 2 binary observable variables and 1 ternary observable variable, we have 12 ($3\\cdot2^2$) possible strata for our population. In the Data Frame below, we will calculate the empirical probability for each of them, i.e., $P(Z=z, X=x, Y=y)$."
   ]
  },
  {
   "cell_type": "code",
   "execution_count": 18,
   "metadata": {},
   "outputs": [
    {
     "data": {
      "text/html": [
       "<div>\n",
       "<style scoped>\n",
       "    .dataframe tbody tr th:only-of-type {\n",
       "        vertical-align: middle;\n",
       "    }\n",
       "\n",
       "    .dataframe tbody tr th {\n",
       "        vertical-align: top;\n",
       "    }\n",
       "\n",
       "    .dataframe thead th {\n",
       "        text-align: right;\n",
       "    }\n",
       "</style>\n",
       "<table border=\"1\" class=\"dataframe\">\n",
       "  <thead>\n",
       "    <tr style=\"text-align: right;\">\n",
       "      <th></th>\n",
       "      <th>Z</th>\n",
       "      <th>X</th>\n",
       "      <th>Y</th>\n",
       "      <th>prob</th>\n",
       "    </tr>\n",
       "  </thead>\n",
       "  <tbody>\n",
       "    <tr>\n",
       "      <th>0</th>\n",
       "      <td>0</td>\n",
       "      <td>0</td>\n",
       "      <td>0</td>\n",
       "      <td>0.140</td>\n",
       "    </tr>\n",
       "    <tr>\n",
       "      <th>1</th>\n",
       "      <td>0</td>\n",
       "      <td>0</td>\n",
       "      <td>1</td>\n",
       "      <td>0.075</td>\n",
       "    </tr>\n",
       "    <tr>\n",
       "      <th>2</th>\n",
       "      <td>0</td>\n",
       "      <td>1</td>\n",
       "      <td>0</td>\n",
       "      <td>0.018</td>\n",
       "    </tr>\n",
       "    <tr>\n",
       "      <th>3</th>\n",
       "      <td>0</td>\n",
       "      <td>1</td>\n",
       "      <td>1</td>\n",
       "      <td>0.086</td>\n",
       "    </tr>\n",
       "    <tr>\n",
       "      <th>4</th>\n",
       "      <td>1</td>\n",
       "      <td>0</td>\n",
       "      <td>0</td>\n",
       "      <td>0.142</td>\n",
       "    </tr>\n",
       "    <tr>\n",
       "      <th>5</th>\n",
       "      <td>1</td>\n",
       "      <td>0</td>\n",
       "      <td>1</td>\n",
       "      <td>0.068</td>\n",
       "    </tr>\n",
       "    <tr>\n",
       "      <th>6</th>\n",
       "      <td>1</td>\n",
       "      <td>1</td>\n",
       "      <td>0</td>\n",
       "      <td>0.059</td>\n",
       "    </tr>\n",
       "    <tr>\n",
       "      <th>7</th>\n",
       "      <td>1</td>\n",
       "      <td>1</td>\n",
       "      <td>1</td>\n",
       "      <td>0.213</td>\n",
       "    </tr>\n",
       "    <tr>\n",
       "      <th>8</th>\n",
       "      <td>2</td>\n",
       "      <td>0</td>\n",
       "      <td>0</td>\n",
       "      <td>0.007</td>\n",
       "    </tr>\n",
       "    <tr>\n",
       "      <th>9</th>\n",
       "      <td>2</td>\n",
       "      <td>0</td>\n",
       "      <td>1</td>\n",
       "      <td>0.003</td>\n",
       "    </tr>\n",
       "    <tr>\n",
       "      <th>10</th>\n",
       "      <td>2</td>\n",
       "      <td>1</td>\n",
       "      <td>0</td>\n",
       "      <td>0.039</td>\n",
       "    </tr>\n",
       "    <tr>\n",
       "      <th>11</th>\n",
       "      <td>2</td>\n",
       "      <td>1</td>\n",
       "      <td>1</td>\n",
       "      <td>0.150</td>\n",
       "    </tr>\n",
       "  </tbody>\n",
       "</table>\n",
       "</div>"
      ],
      "text/plain": [
       "    Z  X  Y   prob\n",
       "0   0  0  0  0.140\n",
       "1   0  0  1  0.075\n",
       "2   0  1  0  0.018\n",
       "3   0  1  1  0.086\n",
       "4   1  0  0  0.142\n",
       "5   1  0  1  0.068\n",
       "6   1  1  0  0.059\n",
       "7   1  1  1  0.213\n",
       "8   2  0  0  0.007\n",
       "9   2  0  1  0.003\n",
       "10  2  1  0  0.039\n",
       "11  2  1  1  0.150"
      ]
     },
     "execution_count": 18,
     "metadata": {},
     "output_type": "execute_result"
    }
   ],
   "source": [
    "# group individuals into strata\n",
    "dat = pd.DataFrame(data.groupby(['Z', 'X', 'Y']).value_counts().reset_index()) \n",
    "dat['prob'] = dat['count'] / dat['count'].sum()\n",
    "dat = dat.drop(columns='count', axis=0)\n",
    "dat"
   ]
  },
  {
   "cell_type": "markdown",
   "metadata": {},
   "source": [
    "### Defining the problem"
   ]
  },
  {
   "cell_type": "markdown",
   "metadata": {},
   "source": [
    "When creating our causal problem, we need to specify which variables are not binary and their actual cardinalities using the `number_values` parameter inside the `causalProblem` class."
   ]
  },
  {
   "cell_type": "code",
   "execution_count": 19,
   "metadata": {},
   "outputs": [],
   "source": [
    "problem = causalProblem(dag, {'Z':3})\n",
    "problem.load_data(dat)"
   ]
  },
  {
   "cell_type": "markdown",
   "metadata": {},
   "source": [
    "### Adding the constraints for the optimization problem"
   ]
  },
  {
   "cell_type": "code",
   "execution_count": 20,
   "metadata": {},
   "outputs": [],
   "source": [
    "problem.add_prob_constraints()"
   ]
  },
  {
   "cell_type": "markdown",
   "metadata": {},
   "source": [
    "### Calculating the ATE"
   ]
  },
  {
   "cell_type": "code",
   "execution_count": 21,
   "metadata": {},
   "outputs": [
    {
     "name": "stdout",
     "output_type": "stream",
     "text": [
      "[('Z0', 0.319), ('Z1', 0.482), ('Z2', 0.199)]\n",
      "LOWER BOUND: # -- Primal: 0.1926403 / Dual: 0.1926403 / Time: 0.0 ##\n",
      "UPPER BOUND: # -- Primal: 0.5689104 / Dual: 0.5689104 / Time: 0.0 ##\n",
      "Problem is finished! Returning final values\n",
      "Problem is finished! Returning final values\n",
      "CURRENT THRESHOLDS: # -- Theta: 0.37627010000000005 / Epsilon: 0.0 ##\n",
      "==============================================\n",
      "Causal effect lies in the interval [0.193, 0.569]\n"
     ]
    }
   ],
   "source": [
    "problem.set_ate(ind=\"X\", dep=\"Y\")\n",
    "prog_ate = problem.write_program()\n",
    "\n",
    "\n",
    "# run optimisation routine, argument saves results at filename\n",
    "prog_ate_optim = prog_ate.run_scip('replication_files/results/BalkePearl.csv')\n",
    "\n",
    "print(\"==============================================\")\n",
    "print(f\"Causal effect lies in the interval [{np.round(prog_ate_optim[0]['dual'], 3)}, \"\n",
    "      f\"{np.round(prog_ate_optim[1]['dual'], 3)}]\" \n",
    ")"
   ]
  },
  {
   "cell_type": "code",
   "execution_count": 22,
   "metadata": {},
   "outputs": [
    {
     "data": {
      "image/png": "[encoded data removed]"
     },
     "metadata": {
      "image/png": {
       "height": 480,
       "width": 640
      }
     },
     "output_type": "display_data"
    }
   ],
   "source": [
    "prog_ate.plot()"
   ]
  },
  {
   "cell_type": "markdown",
   "metadata": {},
   "source": [
    "The actual value of the ATE is 0.36, since\n",
    "$$ \\mathbb{P}(Y=y | do(X=x)) = \\sum_u \\mathbb{P}(Y = y | X=x, U=u)\\mathbb{P}(U=u) $$\n",
    "we get\n",
    "$$ \\mathbb{P}(Y=1 | do(X=1)) = \\mathbb{P}(Y = 1 | X=1, U=1)\\mathbb{P}(U=1) + \\mathbb{P}(Y = 1 | X=1, U=0)\\mathbb{P}(U=0) = (0.9)(0.4) + (0.7)(0.6) = 0.78 $$\n",
    "$$ \\mathbb{P}(Y=1 | do(X=0)) = \\mathbb{P}(Y = 1 | X=0, U=1)\\mathbb{P}(U=1) + \\mathbb{P}(Y = 1 | X=0, U=0)\\mathbb{P}(U=0) = (0.6)(0.4) + (0.3)(0.6) = 0.42 $$\n",
    "Now, to calculate the ATE:\n",
    "$$ ATE = \\mathbb{P}(Y=1 | do(X=1)) - \\mathbb{P}(Y=1 | do(X=0)) = 0.78- 0.42 = 0.36 $$\n",
    "\n"
   ]
  },
  {
   "cell_type": "markdown",
   "metadata": {},
   "source": [
    "Since 0.36 is contained inside the bounds found by the program, we can conclude the results were satisfactory in this example."
   ]
  },
  {
   "cell_type": "markdown",
   "metadata": {},
   "source": [
    "## Repeating the same process"
   ]
  },
  {
   "cell_type": "markdown",
   "metadata": {},
   "source": [
    "At last, in the example below Y will also be ternary."
   ]
  },
  {
   "cell_type": "code",
   "execution_count": 23,
   "metadata": {},
   "outputs": [
    {
     "data": {
      "text/html": [
       "<div>\n",
       "<style scoped>\n",
       "    .dataframe tbody tr th:only-of-type {\n",
       "        vertical-align: middle;\n",
       "    }\n",
       "\n",
       "    .dataframe tbody tr th {\n",
       "        vertical-align: top;\n",
       "    }\n",
       "\n",
       "    .dataframe thead th {\n",
       "        text-align: right;\n",
       "    }\n",
       "</style>\n",
       "<table border=\"1\" class=\"dataframe\">\n",
       "  <thead>\n",
       "    <tr style=\"text-align: right;\">\n",
       "      <th></th>\n",
       "      <th>Z</th>\n",
       "      <th>X</th>\n",
       "      <th>Y</th>\n",
       "    </tr>\n",
       "  </thead>\n",
       "  <tbody>\n",
       "    <tr>\n",
       "      <th>0</th>\n",
       "      <td>1</td>\n",
       "      <td>0</td>\n",
       "      <td>1</td>\n",
       "    </tr>\n",
       "    <tr>\n",
       "      <th>1</th>\n",
       "      <td>2</td>\n",
       "      <td>1</td>\n",
       "      <td>2</td>\n",
       "    </tr>\n",
       "    <tr>\n",
       "      <th>2</th>\n",
       "      <td>1</td>\n",
       "      <td>1</td>\n",
       "      <td>1</td>\n",
       "    </tr>\n",
       "    <tr>\n",
       "      <th>3</th>\n",
       "      <td>1</td>\n",
       "      <td>0</td>\n",
       "      <td>1</td>\n",
       "    </tr>\n",
       "    <tr>\n",
       "      <th>4</th>\n",
       "      <td>0</td>\n",
       "      <td>0</td>\n",
       "      <td>1</td>\n",
       "    </tr>\n",
       "  </tbody>\n",
       "</table>\n",
       "</div>"
      ],
      "text/plain": [
       "   Z  X  Y\n",
       "0  1  0  1\n",
       "1  2  1  2\n",
       "2  1  1  1\n",
       "3  1  0  1\n",
       "4  0  0  1"
      ]
     },
     "execution_count": 23,
     "metadata": {},
     "output_type": "execute_result"
    }
   ],
   "source": [
    "# Set a random seed for reproducibility\n",
    "np.random.seed(42)\n",
    "\n",
    "# Define the number of samples\n",
    "n = 1000\n",
    "\n",
    "# Generate data for exogenous variables Z and U\n",
    "# Z is now a ternary variable (values 0, 1, 2)\n",
    "Z = np.random.choice([0, 1, 2], size=n, p=[0.3, 0.5, 0.2])  # Adjust probabilities as needed\n",
    "\n",
    "# U remains a binary variable (values 0, 1)\n",
    "U = np.random.choice([0, 1], size=n, p=[0.6, 0.4])          # Adjust probabilities as needed\n",
    "\n",
    "# Generate X as a function of Z and U (binary)\n",
    "X = np.zeros(n, dtype=int)\n",
    "\n",
    "# Define P(X=1 | Z, U)\n",
    "# A 3x2 matrix: rows for Z values (0,1,2), columns for U values (0,1)\n",
    "prob_X_given_Z_U = np.array([\n",
    "    [0.2, 0.6],   # P(X=1 | Z=0, U=0), P(X=1 | Z=0, U=1)\n",
    "    [0.5, 0.7],   # P(X=1 | Z=1, U=0), P(X=1 | Z=1, U=1)\n",
    "    [0.8, 0.9]    # P(X=1 | Z=2, U=0), P(X=1 | Z=2, U=1)\n",
    "])\n",
    "\n",
    "for i in range(n):\n",
    "    Z_i, U_i = Z[i], U[i]\n",
    "    p_X = prob_X_given_Z_U[Z_i, U_i]\n",
    "    X[i] = np.random.choice([0, 1], p=[1 - p_X, p_X])\n",
    "\n",
    "# Generate Y as a function of X and U (ternary variable)\n",
    "Y = np.zeros(n, dtype=int)\n",
    "\n",
    "# Define P(Y=y | X, U), where y ∈ {0, 1, 2}\n",
    "# A 2x2x3 tensor: X values (0,1), U values (0,1), Y values (0,1,2)\n",
    "prob_Y_given_X_U = np.array([\n",
    "    [  # X=0\n",
    "        [0.6, 0.3, 0.1],  # U=0: P(Y=0 | X=0, U=0), P(Y=1 | X=0, U=0), P(Y=2 | X=0, U=0)\n",
    "        [0.3, 0.4, 0.3]   # U=1: P(Y=0 | X=0, U=1), P(Y=1 | X=0, U=1), P(Y=2 | X=0, U=1)\n",
    "    ],\n",
    "    [  # X=1\n",
    "        [0.2, 0.5, 0.3],  # U=0: P(Y=0 | X=1, U=0), P(Y=1 | X=1, U=0), P(Y=2 | X=1, U=0)\n",
    "        [0.1, 0.3, 0.6]   # U=1: P(Y=0 | X=1, U=1), P(Y=1 | X=1, U=1), P(Y=2 | X=1, U=1)\n",
    "    ]\n",
    "])\n",
    "\n",
    "for i in range(n):\n",
    "    X_i, U_i = X[i], U[i]\n",
    "    p_Y = prob_Y_given_X_U[X_i, U_i]\n",
    "    Y[i] = np.random.choice([0, 1, 2], p=p_Y)\n",
    "\n",
    "# Create a DataFrame to store the generated data\n",
    "data = pd.DataFrame({'Z': Z, 'X': X, 'Y': Y})\n",
    "\n",
    "# Display the first few rows of the generated data\n",
    "data.head()"
   ]
  },
  {
   "cell_type": "markdown",
   "metadata": {},
   "source": [
    "Since we have 1 binary observable variable and 2 ternary observable variables, we have 18 ($3^2\\cdot2$) possible strata for our population. In the Data Frame below, we will calculate the empirical probability for each of them, i.e., $P(Z=z, X=x, Y=y)$."
   ]
  },
  {
   "cell_type": "code",
   "execution_count": 24,
   "metadata": {},
   "outputs": [
    {
     "data": {
      "text/html": [
       "<div>\n",
       "<style scoped>\n",
       "    .dataframe tbody tr th:only-of-type {\n",
       "        vertical-align: middle;\n",
       "    }\n",
       "\n",
       "    .dataframe tbody tr th {\n",
       "        vertical-align: top;\n",
       "    }\n",
       "\n",
       "    .dataframe thead th {\n",
       "        text-align: right;\n",
       "    }\n",
       "</style>\n",
       "<table border=\"1\" class=\"dataframe\">\n",
       "  <thead>\n",
       "    <tr style=\"text-align: right;\">\n",
       "      <th></th>\n",
       "      <th>Z</th>\n",
       "      <th>X</th>\n",
       "      <th>Y</th>\n",
       "      <th>prob</th>\n",
       "    </tr>\n",
       "  </thead>\n",
       "  <tbody>\n",
       "    <tr>\n",
       "      <th>0</th>\n",
       "      <td>0</td>\n",
       "      <td>0</td>\n",
       "      <td>0</td>\n",
       "      <td>0.112</td>\n",
       "    </tr>\n",
       "    <tr>\n",
       "      <th>1</th>\n",
       "      <td>0</td>\n",
       "      <td>0</td>\n",
       "      <td>1</td>\n",
       "      <td>0.066</td>\n",
       "    </tr>\n",
       "    <tr>\n",
       "      <th>2</th>\n",
       "      <td>0</td>\n",
       "      <td>0</td>\n",
       "      <td>2</td>\n",
       "      <td>0.032</td>\n",
       "    </tr>\n",
       "    <tr>\n",
       "      <th>3</th>\n",
       "      <td>0</td>\n",
       "      <td>1</td>\n",
       "      <td>0</td>\n",
       "      <td>0.019</td>\n",
       "    </tr>\n",
       "    <tr>\n",
       "      <th>4</th>\n",
       "      <td>0</td>\n",
       "      <td>1</td>\n",
       "      <td>1</td>\n",
       "      <td>0.038</td>\n",
       "    </tr>\n",
       "    <tr>\n",
       "      <th>5</th>\n",
       "      <td>0</td>\n",
       "      <td>1</td>\n",
       "      <td>2</td>\n",
       "      <td>0.052</td>\n",
       "    </tr>\n",
       "    <tr>\n",
       "      <th>6</th>\n",
       "      <td>1</td>\n",
       "      <td>0</td>\n",
       "      <td>0</td>\n",
       "      <td>0.106</td>\n",
       "    </tr>\n",
       "    <tr>\n",
       "      <th>7</th>\n",
       "      <td>1</td>\n",
       "      <td>0</td>\n",
       "      <td>1</td>\n",
       "      <td>0.071</td>\n",
       "    </tr>\n",
       "    <tr>\n",
       "      <th>8</th>\n",
       "      <td>1</td>\n",
       "      <td>0</td>\n",
       "      <td>2</td>\n",
       "      <td>0.028</td>\n",
       "    </tr>\n",
       "    <tr>\n",
       "      <th>9</th>\n",
       "      <td>1</td>\n",
       "      <td>1</td>\n",
       "      <td>0</td>\n",
       "      <td>0.043</td>\n",
       "    </tr>\n",
       "    <tr>\n",
       "      <th>10</th>\n",
       "      <td>1</td>\n",
       "      <td>1</td>\n",
       "      <td>1</td>\n",
       "      <td>0.101</td>\n",
       "    </tr>\n",
       "    <tr>\n",
       "      <th>11</th>\n",
       "      <td>1</td>\n",
       "      <td>1</td>\n",
       "      <td>2</td>\n",
       "      <td>0.133</td>\n",
       "    </tr>\n",
       "    <tr>\n",
       "      <th>12</th>\n",
       "      <td>2</td>\n",
       "      <td>0</td>\n",
       "      <td>0</td>\n",
       "      <td>0.009</td>\n",
       "    </tr>\n",
       "    <tr>\n",
       "      <th>13</th>\n",
       "      <td>2</td>\n",
       "      <td>0</td>\n",
       "      <td>1</td>\n",
       "      <td>0.012</td>\n",
       "    </tr>\n",
       "    <tr>\n",
       "      <th>14</th>\n",
       "      <td>2</td>\n",
       "      <td>0</td>\n",
       "      <td>2</td>\n",
       "      <td>0.001</td>\n",
       "    </tr>\n",
       "    <tr>\n",
       "      <th>15</th>\n",
       "      <td>2</td>\n",
       "      <td>1</td>\n",
       "      <td>0</td>\n",
       "      <td>0.024</td>\n",
       "    </tr>\n",
       "    <tr>\n",
       "      <th>16</th>\n",
       "      <td>2</td>\n",
       "      <td>1</td>\n",
       "      <td>1</td>\n",
       "      <td>0.081</td>\n",
       "    </tr>\n",
       "    <tr>\n",
       "      <th>17</th>\n",
       "      <td>2</td>\n",
       "      <td>1</td>\n",
       "      <td>2</td>\n",
       "      <td>0.072</td>\n",
       "    </tr>\n",
       "  </tbody>\n",
       "</table>\n",
       "</div>"
      ],
      "text/plain": [
       "    Z  X  Y   prob\n",
       "0   0  0  0  0.112\n",
       "1   0  0  1  0.066\n",
       "2   0  0  2  0.032\n",
       "3   0  1  0  0.019\n",
       "4   0  1  1  0.038\n",
       "5   0  1  2  0.052\n",
       "6   1  0  0  0.106\n",
       "7   1  0  1  0.071\n",
       "8   1  0  2  0.028\n",
       "9   1  1  0  0.043\n",
       "10  1  1  1  0.101\n",
       "11  1  1  2  0.133\n",
       "12  2  0  0  0.009\n",
       "13  2  0  1  0.012\n",
       "14  2  0  2  0.001\n",
       "15  2  1  0  0.024\n",
       "16  2  1  1  0.081\n",
       "17  2  1  2  0.072"
      ]
     },
     "execution_count": 24,
     "metadata": {},
     "output_type": "execute_result"
    }
   ],
   "source": [
    "dat = pd.DataFrame(data.groupby(['Z', 'X', 'Y']).value_counts().reset_index()) \n",
    "dat['prob'] = dat['count'] / dat['count'].sum()\n",
    "dat = dat.drop(columns='count', axis=0)\n",
    "dat"
   ]
  },
  {
   "cell_type": "code",
   "execution_count": 25,
   "metadata": {},
   "outputs": [],
   "source": [
    "problem = causalProblem(dag, {'Z':3, 'Y':3})\n",
    "problem.load_data(dat)"
   ]
  },
  {
   "cell_type": "code",
   "execution_count": 26,
   "metadata": {},
   "outputs": [],
   "source": [
    "problem.add_prob_constraints()"
   ]
  },
  {
   "cell_type": "markdown",
   "metadata": {},
   "source": [
    "Autobounds by default considers that, in summary, $ATE = P(ind=1|dep=1) - P(ind=1|dep=0)$\n",
    "\n",
    "So, in this case, we will only observe the effect of $X$ on $P(Y=1)$, and not the actual average effect on $Y$. For the latter, we would have to consider $Y$'s possible values (0, 1, 2) and weight our probabilities according to them."
   ]
  },
  {
   "cell_type": "code",
   "execution_count": 27,
   "metadata": {},
   "outputs": [
    {
     "name": "stdout",
     "output_type": "stream",
     "text": [
      "[('Z0', 0.319), ('Z1', 0.482), ('Z2', 0.199)]\n",
      "LOWER BOUND: # -- Primal: -0.1415542 / Dual: -0.1415542 / Time: 0.0 ##\n",
      "UPPER BOUND: # -- Primal: 0.3106914 / Dual: 0.3106914 / Time: 0.0 ##\n",
      "Problem is finished! Returning final values\n",
      "Problem is finished! Returning final values\n",
      "CURRENT THRESHOLDS: # -- Theta: 0.4522456 / Epsilon: 0.0 ##\n",
      "==============================================\n",
      "Causal effect lies in the interval [-0.142, 0.311]\n"
     ]
    }
   ],
   "source": [
    "problem.set_ate(ind=\"X\", dep=\"Y\")\n",
    "prog_ate = problem.write_program()\n",
    "\n",
    "\n",
    "# run optimisation routine, argument saves results at filename\n",
    "prog_ate_optim = prog_ate.run_scip('replication_files/results/BalkePearl.csv')\n",
    "\n",
    "print(\"==============================================\")\n",
    "print(f\"Causal effect lies in the interval [{np.round(prog_ate_optim[0]['dual'], 3)}, \"\n",
    "      f\"{np.round(prog_ate_optim[1]['dual'], 3)}]\" \n",
    ")"
   ]
  },
  {
   "cell_type": "code",
   "execution_count": 28,
   "metadata": {},
   "outputs": [
    {
     "data": {
      "image/png": "[encoded data removed]"
     },
     "metadata": {
      "image/png": {
       "height": 480,
       "width": 640
      }
     },
     "output_type": "display_data"
    }
   ],
   "source": [
    "prog_ate.plot()"
   ]
  },
  {
   "cell_type": "markdown",
   "metadata": {},
   "source": [
    "The actual value of the ATE is 0.08, since\n",
    "$$ \\mathbb{P}(Y=y | do(X=x)) = \\sum_u \\mathbb{P}(Y = y | X=x, U=u)\\mathbb{P}(U=u) $$\n",
    "we get\n",
    "$$ \\mathbb{P}(Y=1 | do(X=1)) = \\mathbb{P}(Y = 1 | X=1, U=1)\\mathbb{P}(U=1) + \\mathbb{P}(Y = 1 | X=1, U=0)\\mathbb{P}(U=0) = (0.3)(0.4) + (0.5)(0.6) = 0.42 $$\n",
    "$$ \\mathbb{P}(Y=1 | do(X=0)) = \\mathbb{P}(Y = 1 | X=0, U=1)\\mathbb{P}(U=1) + \\mathbb{P}(Y = 1 | X=0, U=0)\\mathbb{P}(U=0) = (0.4)(0.4) + (0.3)(0.6) = 0.34 $$\n",
    "Now, to calculate the ATE:\n",
    "$$ ATE = \\mathbb{P}(Y=1 | do(X=1)) - \\mathbb{P}(Y=1 | do(X=0)) = 0.42- 0.34 = 0.08 $$\n",
    "\n"
   ]
  },
  {
   "cell_type": "markdown",
   "metadata": {},
   "source": [
    "Since 0.08 is contained inside the bounds found by the program, we can conclude the results were satisfactory in this example as well.\n"
   ]
  },
  {
   "cell_type": "markdown",
   "metadata": {},
   "source": [
    "## Conclusion "
   ]
  },
  {
   "cell_type": "markdown",
   "metadata": {},
   "source": [
    "As the results show, Autobounds supports problems with discrete variables.\n",
    "\n",
    "The only downside is we're not given the option to calculate the Average Treatment Effect (ATE) using the expected value of $Y$ over its possible values (0, 1, 2), only the probability of Y being 1."
   ]
  }
 ],
 "metadata": {
  "kernelspec": {
   "display_name": "myenv",
   "language": "python",
   "name": "python3"
  },
  "language_info": {
   "codemirror_mode": {
    "name": "ipython",
    "version": 3
   },
   "file_extension": ".py",
   "mimetype": "text/x-python",
   "name": "python",
   "nbconvert_exporter": "python",
   "pygments_lexer": "ipython3",
   "version": "3.11.10"
  }
 },
 "nbformat": 4,
 "nbformat_minor": 2
}
