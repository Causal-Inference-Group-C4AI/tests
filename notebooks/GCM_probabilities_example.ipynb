{
 "cells": [
  {
   "cell_type": "markdown",
   "metadata": {},
   "source": [
    "# Using GCM to handle an example with probabilities"
   ]
  },
  {
   "cell_type": "code",
   "execution_count": 305,
   "metadata": {},
   "outputs": [],
   "source": [
    "from dowhy import gcm\n",
    "import networkx as nx\n",
    "import matplotlib.pyplot as plt\n",
    "from dowhy.utils import plot\n",
    "from dowhy.gcm.causal_mechanisms import ConditionalStochasticModel\n",
    "from dowhy.graph import get_ordered_predecessors\n",
    "import numpy as np\n",
    "import pandas as pd"
   ]
  },
  {
   "cell_type": "markdown",
   "metadata": {},
   "source": [
    "### Creating the GCM"
   ]
  },
  {
   "cell_type": "markdown",
   "metadata": {},
   "source": [
    "#### Setting the DAG"
   ]
  },
  {
   "cell_type": "markdown",
   "metadata": {},
   "source": [
    "Instead of using a *StructuralCausalModel*, this time we're using a *ProbabilisticCausalModel*. A PCM provides the greatest flexibility in modeling causal mechanisms, as it only requires generating samples conditioned on a node’s parents. Any model that can handle conditional distributions, such as a wide array of Bayesian models, can be employed."
   ]
  },
  {
   "cell_type": "code",
   "execution_count": 306,
   "metadata": {},
   "outputs": [
    {
     "data": {
      "image/png": "[encoded data removed]",
      "text/plain": [
       "<Figure size 640x480 with 1 Axes>"
      ]
     },
     "metadata": {},
     "output_type": "display_data"
    }
   ],
   "source": [
    "causal_graph = nx.DiGraph([\n",
    "    ('Z', 'X'),\n",
    "    ('X', 'Y'),\n",
    "    ('U', 'Z'),\n",
    "    ('U', 'Y')\n",
    "])\n",
    "\n",
    "causal_model = gcm.ProbabilisticCausalModel(causal_graph)\n",
    "\n",
    "nx.draw(causal_graph, with_labels=True, node_size=2000, node_color='lightblue', font_size=10, font_weight='bold')\n",
    "plt.show()"
   ]
  },
  {
   "cell_type": "markdown",
   "metadata": {},
   "source": [
    "#### Setting the causal mechanisms"
   ]
  },
  {
   "cell_type": "markdown",
   "metadata": {},
   "source": [
    "In the first example, U is not going to be a latent variable, so data for U will be given and an Empirical Distribution will be the choise for its mechanism.\n",
    "\n",
    "\n",
    "For the rest of the variables, we are going to create a custom model for each of them. They are going to take after an abstract class called *ConditionalStochasticModel*, which is used to represent causal mechanisms for non-root nodes in a GCM. \n",
    "\n",
    "Aside from the functions clone and fit, we need to implement the draw_samples function. For that, we're going to use conditional probabilities between the variables and plug them into a binomial distribution, since the variables are binary."
   ]
  },
  {
   "cell_type": "code",
   "execution_count": 307,
   "metadata": {},
   "outputs": [],
   "source": [
    "causal_model.set_causal_mechanism('U', gcm.EmpiricalDistribution())\n",
    "\n",
    "# Get parent names for each node\n",
    "parent_names_Z = get_ordered_predecessors(causal_graph, 'Z')  # ['U']\n",
    "parent_names_X = get_ordered_predecessors(causal_graph, 'X')  # ['Z']\n",
    "parent_names_Y = get_ordered_predecessors(causal_graph, 'Y')  # ['U', 'X'] or ['X', 'U']\n",
    "\n",
    "class Z_Mechanism(ConditionalStochasticModel):\n",
    "    def __init__(self, parent_names):\n",
    "        self.parent_names = parent_names  # ['U']\n",
    "    \n",
    "    def fit(self, X, Y=None):\n",
    "        pass\n",
    "    \n",
    "    def draw_samples(self, parent_samples):\n",
    "        U = parent_samples\n",
    "        U = U.astype(int)  # Convert U to integers\n",
    "        prob_Z_given_U = np.where(U == 1, 0.8, 0.2)\n",
    "        return np.random.binomial(1, prob_Z_given_U)\n",
    "    \n",
    "    def clone(self):\n",
    "        return Z_Mechanism(self.parent_names)\n",
    "\n",
    "class X_Mechanism(ConditionalStochasticModel):\n",
    "    def __init__(self, parent_names):\n",
    "        self.parent_names = parent_names  # ['Z']\n",
    "    \n",
    "    def fit(self, X, Y=None):\n",
    "        pass\n",
    "    \n",
    "    def draw_samples(self, parent_samples):\n",
    "        Z = parent_samples\n",
    "        Z = Z.astype(int)  # Convert Z to integers\n",
    "        prob_X_given_Z = np.where(Z == 1, 0.9, 0.1)\n",
    "        return np.random.binomial(1, prob_X_given_Z)\n",
    "    \n",
    "    def clone(self):\n",
    "        return X_Mechanism(self.parent_names)\n",
    "\n",
    "class Y_Mechanism(ConditionalStochasticModel):\n",
    "    def __init__(self, parent_names):\n",
    "        self.parent_names = parent_names  # ['U', 'X']\n",
    "    \n",
    "    def fit(self, X, Y=None):\n",
    "        pass\n",
    "    \n",
    "    def draw_samples(self, parent_samples):\n",
    "        if parent_samples.ndim == 1:\n",
    "            raise ValueError(\"parent_samples for Y should be 2D\")\n",
    "        else:\n",
    "            U_index = self.parent_names.index('U')\n",
    "            X_index = self.parent_names.index('X')\n",
    "            U = parent_samples[:, U_index]\n",
    "            X = parent_samples[:, X_index]\n",
    "        \n",
    "        # Convert U and X to integers\n",
    "        U = U.astype(int)\n",
    "        X = X.astype(int)\n",
    "        \n",
    "        prob_Y_given_UX = np.zeros_like(U, dtype=float)\n",
    "        prob_Y_given_UX[(U == 1) & (X == 1)] = 0.95\n",
    "        prob_Y_given_UX[(U == 1) & (X == 0)] = 0.85\n",
    "        prob_Y_given_UX[(U == 0) & (X == 1)] = 0.7\n",
    "        prob_Y_given_UX[(U == 0) & (X == 0)] = 0.4\n",
    "        \n",
    "        return np.random.binomial(1, prob_Y_given_UX)\n",
    "    \n",
    "    def clone(self):\n",
    "        return Y_Mechanism(self.parent_names)\n",
    "\n",
    "\n",
    "# Set the mechanisms\n",
    "causal_model.set_causal_mechanism('Z', Z_Mechanism(parent_names_Z))\n",
    "causal_model.set_causal_mechanism('X', X_Mechanism(parent_names_X))\n",
    "causal_model.set_causal_mechanism('Y', Y_Mechanism(parent_names_Y))\n"
   ]
  },
  {
   "cell_type": "markdown",
   "metadata": {},
   "source": [
    "#### Generating Data"
   ]
  },
  {
   "cell_type": "markdown",
   "metadata": {},
   "source": [
    "To generate data that would be faithful to the probabilities defined above and minimize rounding errors, we increased the total sample size to 100,000. That way, we can generate an integer amount of data for each configuration of the variables and their corresponding probability. "
   ]
  },
  {
   "cell_type": "code",
   "execution_count": 308,
   "metadata": {},
   "outputs": [
    {
     "data": {
      "text/html": [
       "<div>\n",
       "<style scoped>\n",
       "    .dataframe tbody tr th:only-of-type {\n",
       "        vertical-align: middle;\n",
       "    }\n",
       "\n",
       "    .dataframe tbody tr th {\n",
       "        vertical-align: top;\n",
       "    }\n",
       "\n",
       "    .dataframe thead th {\n",
       "        text-align: right;\n",
       "    }\n",
       "</style>\n",
       "<table border=\"1\" class=\"dataframe\">\n",
       "  <thead>\n",
       "    <tr style=\"text-align: right;\">\n",
       "      <th></th>\n",
       "      <th>U</th>\n",
       "      <th>Z</th>\n",
       "      <th>X</th>\n",
       "      <th>Y</th>\n",
       "    </tr>\n",
       "  </thead>\n",
       "  <tbody>\n",
       "    <tr>\n",
       "      <th>0</th>\n",
       "      <td>0</td>\n",
       "      <td>1</td>\n",
       "      <td>0</td>\n",
       "      <td>0</td>\n",
       "    </tr>\n",
       "    <tr>\n",
       "      <th>1</th>\n",
       "      <td>0</td>\n",
       "      <td>0</td>\n",
       "      <td>0</td>\n",
       "      <td>1</td>\n",
       "    </tr>\n",
       "    <tr>\n",
       "      <th>2</th>\n",
       "      <td>1</td>\n",
       "      <td>1</td>\n",
       "      <td>1</td>\n",
       "      <td>1</td>\n",
       "    </tr>\n",
       "    <tr>\n",
       "      <th>3</th>\n",
       "      <td>0</td>\n",
       "      <td>0</td>\n",
       "      <td>1</td>\n",
       "      <td>1</td>\n",
       "    </tr>\n",
       "    <tr>\n",
       "      <th>4</th>\n",
       "      <td>0</td>\n",
       "      <td>0</td>\n",
       "      <td>0</td>\n",
       "      <td>0</td>\n",
       "    </tr>\n",
       "  </tbody>\n",
       "</table>\n",
       "</div>"
      ],
      "text/plain": [
       "   U  Z  X  Y\n",
       "0  0  1  0  0\n",
       "1  0  0  0  1\n",
       "2  1  1  1  1\n",
       "3  0  0  1  1\n",
       "4  0  0  0  0"
      ]
     },
     "execution_count": 308,
     "metadata": {},
     "output_type": "execute_result"
    }
   ],
   "source": [
    "# Define the probabilities\n",
    "P_U = {1: 0.7, 0: 0.3}\n",
    "P_Z_given_U = {\n",
    "    (1, 1): 0.8,  # P(Z=1|U=1)\n",
    "    (1, 0): 0.2,  # P(Z=0|U=1)\n",
    "    (0, 1): 0.2,  # P(Z=1|U=0)\n",
    "    (0, 0): 0.8,  # P(Z=0|U=0)\n",
    "}\n",
    "P_X_given_Z = {\n",
    "    (1, 1): 0.9,  # P(X=1|Z=1)\n",
    "    (1, 0): 0.1,  # P(X=0|Z=1)\n",
    "    (0, 1): 0.1,  # P(X=1|Z=0)\n",
    "    (0, 0): 0.9,  # P(X=0|Z=0)\n",
    "}\n",
    "P_Y_given_UX = {\n",
    "    (1, 1, 1): 0.95,\n",
    "    (1, 1, 0): 0.05,\n",
    "    (1, 0, 1): 0.85,\n",
    "    (1, 0, 0): 0.15,\n",
    "    (0, 1, 1): 0.7,\n",
    "    (0, 1, 0): 0.3,\n",
    "    (0, 0, 1): 0.4,\n",
    "    (0, 0, 0): 0.6,\n",
    "}\n",
    "\n",
    "# Generate all combinations\n",
    "data = []\n",
    "for U in [1, 0]:\n",
    "    for Z in [1, 0]:\n",
    "        for X in [1, 0]:\n",
    "            for Y in [1, 0]:\n",
    "                # Compute joint probability\n",
    "                p = (\n",
    "                    P_U[U]\n",
    "                    * P_Z_given_U[(U, Z)]\n",
    "                    * P_X_given_Z[(Z, X)]\n",
    "                    * P_Y_given_UX[(U, X, Y)]\n",
    "                )\n",
    "                data.append({'U': U, 'Z': Z, 'X': X, 'Y': Y, 'Probability': p})\n",
    "\n",
    "# Create DataFrame\n",
    "df = pd.DataFrame(data)\n",
    "\n",
    "# Multiply probabilities to get counts\n",
    "total_samples = 100000  # Increase this number as needed\n",
    "df['Count'] = df['Probability'] * total_samples\n",
    "\n",
    "# Ensure counts are integers\n",
    "df['Count'] = df['Count'].round().astype(int)\n",
    "\n",
    "# Expand DataFrame according to counts\n",
    "expanded_data = df.loc[df.index.repeat(df['Count'])].reset_index(drop=True)\n",
    "expanded_data = expanded_data[['U', 'Z', 'X', 'Y']]\n",
    "\n",
    "# Shuffle the data\n",
    "expanded_data = expanded_data.sample(frac=1, random_state=42).reset_index(drop=True)\n",
    "\n",
    "# Changing data types to string\n",
    "expanded_data = expanded_data.astype(str)\n",
    "\n",
    "# Display the first few rows\n",
    "expanded_data.head()"
   ]
  },
  {
   "cell_type": "markdown",
   "metadata": {},
   "source": [
    "#### Fitting the model and generating new data"
   ]
  },
  {
   "cell_type": "code",
   "execution_count": 309,
   "metadata": {},
   "outputs": [
    {
     "name": "stderr",
     "output_type": "stream",
     "text": [
      "Fitting causal mechanism of node U: 100%|██████████| 4/4 [00:00<00:00, 113.70it/s]\n"
     ]
    },
    {
     "data": {
      "text/html": [
       "<div>\n",
       "<style scoped>\n",
       "    .dataframe tbody tr th:only-of-type {\n",
       "        vertical-align: middle;\n",
       "    }\n",
       "\n",
       "    .dataframe tbody tr th {\n",
       "        vertical-align: top;\n",
       "    }\n",
       "\n",
       "    .dataframe thead th {\n",
       "        text-align: right;\n",
       "    }\n",
       "</style>\n",
       "<table border=\"1\" class=\"dataframe\">\n",
       "  <thead>\n",
       "    <tr style=\"text-align: right;\">\n",
       "      <th></th>\n",
       "      <th>U</th>\n",
       "      <th>Z</th>\n",
       "      <th>X</th>\n",
       "      <th>Y</th>\n",
       "    </tr>\n",
       "  </thead>\n",
       "  <tbody>\n",
       "    <tr>\n",
       "      <th>0</th>\n",
       "      <td>1</td>\n",
       "      <td>1</td>\n",
       "      <td>1</td>\n",
       "      <td>1</td>\n",
       "    </tr>\n",
       "    <tr>\n",
       "      <th>1</th>\n",
       "      <td>1</td>\n",
       "      <td>0</td>\n",
       "      <td>0</td>\n",
       "      <td>0</td>\n",
       "    </tr>\n",
       "    <tr>\n",
       "      <th>2</th>\n",
       "      <td>1</td>\n",
       "      <td>1</td>\n",
       "      <td>1</td>\n",
       "      <td>1</td>\n",
       "    </tr>\n",
       "    <tr>\n",
       "      <th>3</th>\n",
       "      <td>1</td>\n",
       "      <td>1</td>\n",
       "      <td>1</td>\n",
       "      <td>1</td>\n",
       "    </tr>\n",
       "    <tr>\n",
       "      <th>4</th>\n",
       "      <td>1</td>\n",
       "      <td>0</td>\n",
       "      <td>0</td>\n",
       "      <td>1</td>\n",
       "    </tr>\n",
       "  </tbody>\n",
       "</table>\n",
       "</div>"
      ],
      "text/plain": [
       "   U  Z  X  Y\n",
       "0  1  1  1  1\n",
       "1  1  0  0  0\n",
       "2  1  1  1  1\n",
       "3  1  1  1  1\n",
       "4  1  0  0  1"
      ]
     },
     "execution_count": 309,
     "metadata": {},
     "output_type": "execute_result"
    }
   ],
   "source": [
    "gcm.fit(causal_model, expanded_data)\n",
    "generated_data = gcm.draw_samples(causal_model, num_samples=100000)\n",
    "generated_data.head()"
   ]
  },
  {
   "cell_type": "markdown",
   "metadata": {},
   "source": [
    "### Calculating the ATE"
   ]
  },
  {
   "cell_type": "code",
   "execution_count": 310,
   "metadata": {},
   "outputs": [
    {
     "data": {
      "image/png": "[encoded data removed]",
      "text/latex": [
       "$\\displaystyle 0.15954$"
      ],
      "text/plain": [
       "np.float64(0.15954000000000002)"
      ]
     },
     "execution_count": 310,
     "metadata": {},
     "output_type": "execute_result"
    }
   ],
   "source": [
    "gcm.average_causal_effect(causal_model,\n",
    "                         'Y',\n",
    "                         interventions_alternative={'X': lambda x: 1},\n",
    "                         interventions_reference={'X': lambda x: 0},\n",
    "                         num_samples_to_draw=100000)"
   ]
  },
  {
   "cell_type": "markdown",
   "metadata": {},
   "source": [
    "Calculating the Theoretical Average Causal Effect (ACE)\n",
    "\n",
    "The **Average Causal Effect (ACE)** of $ X $ on $ Y $ is defined as:\n",
    "\n",
    "$$\n",
    "\\text{ACE} = E[Y \\mid \\text{do}(X=1)] - E[Y \\mid \\text{do}(X=0)]\n",
    "$$\n",
    "\n",
    "Calculations\n",
    "Compute $ E[Y \\mid \\text{do}(X=1) $:\n",
    "$$\n",
    "\\begin{align*}\n",
    "E[Y \\mid \\text{do}(X=1)] &= \\sum_{u} P(U=u) \\cdot P(Y=1 \\mid U=u, X=1) \\\\\n",
    "&= P(U=1) \\cdot P(Y=1 \\mid U=1, X=1) + P(U=0) \\cdot P(Y=1 \\mid U=0, X=1) \\\\\n",
    "&= (0.7)(0.95) + (0.3)(0.7) \\\\\n",
    "&= 0.665 + 0.21 \\\\\n",
    "&= 0.875\n",
    "\\end{align*}\n",
    "$$\n",
    "Compute $ E[Y \\mid \\text{do}(X=0)] $:\n",
    "$$\n",
    "\\begin{align*}\n",
    "E[Y \\mid \\text{do}(X=0)] &= \\sum_{u} P(U=u) \\cdot P(Y=1 \\mid U=u, X=0) \\\\\n",
    "&= P(U=1) \\cdot P(Y=1 \\mid U=1, X=0) + P(U=0) \\cdot P(Y=1 \\mid U=0, X=0) \\\\\n",
    "&= (0.7)(0.85) + (0.3)(0.4) \\\\\n",
    "&= 0.595 + 0.12 \\\\\n",
    "&= 0.715\n",
    "\\end{align*}\n",
    "$$\n",
    "Calculate ACE:\n",
    "$$\n",
    "\\text{ACE} = E[Y \\mid \\text{do}(X=1)] - E[Y \\mid \\text{do}(X=0)] = 0.875 - 0.715 = 0.16\n",
    "$$\n",
    "**Conclusion:** The theoretical Average Causal Effect of $ X $ on $ Y $ is **0.16**"
   ]
  },
  {
   "cell_type": "markdown",
   "metadata": {},
   "source": [
    "### Estimating Confidence Intervals (Confidence level = 0.95)"
   ]
  },
  {
   "cell_type": "code",
   "execution_count": 311,
   "metadata": {},
   "outputs": [
    {
     "name": "stderr",
     "output_type": "stream",
     "text": [
      "Estimating bootstrap interval...: 100%|██████████| 20/20 [00:04<00:00,  4.61it/s]\n"
     ]
    },
    {
     "data": {
      "text/plain": [
       "(array([0.15931199]), array([[0.1561885, 0.1615775]]))"
      ]
     },
     "execution_count": 311,
     "metadata": {},
     "output_type": "execute_result"
    }
   ],
   "source": [
    "gcm.confidence_intervals(lambda: gcm.average_causal_effect(causal_model,\n",
    "                         'Y',\n",
    "                         interventions_alternative={'X': lambda x: '1'},\n",
    "                         interventions_reference={'X': lambda x: '0'},\n",
    "                         num_samples_to_draw=100000))"
   ]
  },
  {
   "cell_type": "markdown",
   "metadata": {},
   "source": [
    "Since the theoratical value we were looking for was 0.16, the results can be considered satisfactory."
   ]
  }
 ],
 "metadata": {
  "kernelspec": {
   "display_name": "Python 3",
   "language": "python",
   "name": "python3"
  },
  "language_info": {
   "codemirror_mode": {
    "name": "ipython",
    "version": 3
   },
   "file_extension": ".py",
   "mimetype": "text/x-python",
   "name": "python",
   "nbconvert_exporter": "python",
   "pygments_lexer": "ipython3",
   "version": "3.11.5"
  }
 },
 "nbformat": 4,
 "nbformat_minor": 2
}
