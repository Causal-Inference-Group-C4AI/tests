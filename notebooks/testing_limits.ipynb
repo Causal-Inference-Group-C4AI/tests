{
 "cells": [
  {
   "cell_type": "markdown",
   "metadata": {},
   "source": [
    "# Testing DoWhy's Limits"
   ]
  },
  {
   "cell_type": "code",
   "execution_count": 249,
   "metadata": {},
   "outputs": [],
   "source": [
    "# Imports\n",
    "\n",
    "import numpy as np\n",
    "import pandas as pd\n",
    "from dowhy import CausalModel\n",
    "import dowhy.datasets\n",
    "import sys\n",
    "sys.path.append('../')\n",
    "from parser_uai import UAIParser\n",
    "\n",
    "import warnings\n",
    "warnings.filterwarnings(\"ignore\", category=FutureWarning)"
   ]
  },
  {
   "cell_type": "markdown",
   "metadata": {},
   "source": [
    "## Instrumental Variable Basic Example\n",
    "\n",
    "<center><img src=\"./figures/image.png\"/></center>"
   ]
  },
  {
   "cell_type": "markdown",
   "metadata": {},
   "source": [
    "### Continuous Variables"
   ]
  },
  {
   "cell_type": "code",
   "execution_count": 196,
   "metadata": {},
   "outputs": [],
   "source": [
    "n_points = 1000\n",
    "education_abilty = 1\n",
    "education_voucher = 2\n",
    "income_abilty = 2\n",
    "income_education = 4\n",
    "\n",
    "\n",
    "# confounder\n",
    "ability = np.random.normal(0, 3, size=n_points)\n",
    "\n",
    "# instrument\n",
    "voucher = np.random.normal(2, 1, size=n_points)\n",
    "\n",
    "# treatment\n",
    "education = np.random.normal(5, 1, size=n_points) + education_abilty * ability +\\\n",
    "            education_voucher * voucher\n",
    "\n",
    "# outcome\n",
    "income = np.random.normal(10, 3, size=n_points) +\\\n",
    "         income_abilty * ability + income_education * education"
   ]
  },
  {
   "cell_type": "markdown",
   "metadata": {},
   "source": [
    "#### Without latent variables"
   ]
  },
  {
   "cell_type": "markdown",
   "metadata": {},
   "source": [
    "- Everything working as expected"
   ]
  },
  {
   "cell_type": "code",
   "execution_count": 197,
   "metadata": {},
   "outputs": [
    {
     "data": {
      "text/html": [
       "<div>\n",
       "<style scoped>\n",
       "    .dataframe tbody tr th:only-of-type {\n",
       "        vertical-align: middle;\n",
       "    }\n",
       "\n",
       "    .dataframe tbody tr th {\n",
       "        vertical-align: top;\n",
       "    }\n",
       "\n",
       "    .dataframe thead th {\n",
       "        text-align: right;\n",
       "    }\n",
       "</style>\n",
       "<table border=\"1\" class=\"dataframe\">\n",
       "  <thead>\n",
       "    <tr style=\"text-align: right;\">\n",
       "      <th></th>\n",
       "      <th>U</th>\n",
       "      <th>voucher</th>\n",
       "      <th>education</th>\n",
       "      <th>income</th>\n",
       "    </tr>\n",
       "  </thead>\n",
       "  <tbody>\n",
       "    <tr>\n",
       "      <th>0</th>\n",
       "      <td>-5.463104</td>\n",
       "      <td>1.422533</td>\n",
       "      <td>3.030729</td>\n",
       "      <td>7.300007</td>\n",
       "    </tr>\n",
       "    <tr>\n",
       "      <th>1</th>\n",
       "      <td>1.600392</td>\n",
       "      <td>0.644585</td>\n",
       "      <td>6.230665</td>\n",
       "      <td>34.837678</td>\n",
       "    </tr>\n",
       "    <tr>\n",
       "      <th>2</th>\n",
       "      <td>-2.579008</td>\n",
       "      <td>1.535212</td>\n",
       "      <td>5.943313</td>\n",
       "      <td>26.000605</td>\n",
       "    </tr>\n",
       "    <tr>\n",
       "      <th>3</th>\n",
       "      <td>2.225508</td>\n",
       "      <td>1.422588</td>\n",
       "      <td>9.060396</td>\n",
       "      <td>47.597609</td>\n",
       "    </tr>\n",
       "    <tr>\n",
       "      <th>4</th>\n",
       "      <td>2.855053</td>\n",
       "      <td>1.451390</td>\n",
       "      <td>10.221369</td>\n",
       "      <td>57.678172</td>\n",
       "    </tr>\n",
       "  </tbody>\n",
       "</table>\n",
       "</div>"
      ],
      "text/plain": [
       "          U   voucher  education     income\n",
       "0 -5.463104  1.422533   3.030729   7.300007\n",
       "1  1.600392  0.644585   6.230665  34.837678\n",
       "2 -2.579008  1.535212   5.943313  26.000605\n",
       "3  2.225508  1.422588   9.060396  47.597609\n",
       "4  2.855053  1.451390  10.221369  57.678172"
      ]
     },
     "execution_count": 197,
     "metadata": {},
     "output_type": "execute_result"
    }
   ],
   "source": [
    "# Build dataset\n",
    "data = pd.DataFrame({\n",
    "    'U': ability,\n",
    "    'voucher': voucher,\n",
    "    'education': education,\n",
    "    'income': income\n",
    "})\n",
    "\n",
    "data.head()"
   ]
  },
  {
   "cell_type": "code",
   "execution_count": 198,
   "metadata": {},
   "outputs": [
    {
     "data": {
      "image/png": "[encoded data removed]",
      "text/plain": [
       "<Figure size 800x600 with 1 Axes>"
      ]
     },
     "metadata": {},
     "output_type": "display_data"
    }
   ],
   "source": [
    "#Step 1: Model\n",
    "model=CausalModel(\n",
    "        data = data,\n",
    "        treatment='education',\n",
    "        outcome='income',\n",
    "        common_causes=['U'],\n",
    "        instruments=['voucher']\n",
    "        )\n",
    "model.view_model()"
   ]
  },
  {
   "cell_type": "code",
   "execution_count": 199,
   "metadata": {},
   "outputs": [
    {
     "name": "stdout",
     "output_type": "stream",
     "text": [
      "Estimand type: EstimandType.NONPARAMETRIC_ATE\n",
      "\n",
      "### Estimand : 1\n",
      "Estimand name: backdoor\n",
      "Estimand expression:\n",
      "     d                   \n",
      "────────────(E[income|U])\n",
      "d[education]             \n",
      "Estimand assumption 1, Unconfoundedness: If U→{education} and U→income then P(income|education,U,U) = P(income|education,U)\n",
      "\n",
      "### Estimand : 2\n",
      "Estimand name: iv\n",
      "Estimand expression:\n",
      " ⎡                                            -1⎤\n",
      " ⎢    d              ⎛    d                  ⎞  ⎥\n",
      "E⎢──────────(income)⋅⎜──────────([education])⎟  ⎥\n",
      " ⎣d[voucher]         ⎝d[voucher]             ⎠  ⎦\n",
      "Estimand assumption 1, As-if-random: If U→→income then ¬(U →→{voucher})\n",
      "Estimand assumption 2, Exclusion: If we remove {voucher}→{education}, then ¬({voucher}→income)\n",
      "\n",
      "### Estimand : 3\n",
      "Estimand name: frontdoor\n",
      "No such variable(s) found!\n",
      "\n"
     ]
    }
   ],
   "source": [
    "# Step 2: Identify\n",
    "identified_estimand = model.identify_effect(proceed_when_unidentifiable=True)\n",
    "print(identified_estimand)"
   ]
  },
  {
   "cell_type": "code",
   "execution_count": 200,
   "metadata": {},
   "outputs": [
    {
     "name": "stdout",
     "output_type": "stream",
     "text": [
      "Refute: Use a Placebo Treatment\n",
      "Estimated effect:3.9058599728351524\n",
      "New effect:-0.00020895552331076317\n",
      "p value:0.94\n",
      "\n"
     ]
    }
   ],
   "source": [
    "# Choose the first estimand: using Linear Regression\n",
    "\n",
    "# Step 3: Estimate\n",
    "estimate = model.estimate_effect(identified_estimand,\n",
    "        method_name=\"backdoor.linear_regression\")\n",
    "\n",
    "# Step 4: Refute\n",
    "ref = model.refute_estimate(identified_estimand, estimate, method_name=\"placebo_treatment_refuter\", placebo_type=\"permute\")\n",
    "print(ref)\n"
   ]
  },
  {
   "cell_type": "code",
   "execution_count": 201,
   "metadata": {},
   "outputs": [
    {
     "name": "stdout",
     "output_type": "stream",
     "text": [
      "Refute: Use a Placebo Treatment\n",
      "Estimated effect:3.6317358765103718\n",
      "New effect:-0.02509562008298294\n",
      "p value:0.96\n",
      "\n"
     ]
    }
   ],
   "source": [
    "# Choose the second estimand: using IV\n",
    "\n",
    "# Step 3: Estimate\n",
    "estimate = model.estimate_effect(identified_estimand,\n",
    "        method_name=\"iv.instrumental_variable\")\n",
    "\n",
    "# Step 4: Refute\n",
    "ref = model.refute_estimate(identified_estimand, estimate, method_name=\"placebo_treatment_refuter\", placebo_type=\"permute\")\n",
    "print(ref)\n"
   ]
  },
  {
   "cell_type": "markdown",
   "metadata": {},
   "source": [
    "#### `Ability` as an unobserved confounder"
   ]
  },
  {
   "cell_type": "markdown",
   "metadata": {},
   "source": [
    "- Everything working as expected\n",
    "- In this scenario, no backdoor path was identified.\n",
    "- **Modeling Warning**: *\"UserWarning: 1 variables are assumed unobserved because they are not in the dataset.\"*"
   ]
  },
  {
   "cell_type": "code",
   "execution_count": 202,
   "metadata": {},
   "outputs": [
    {
     "data": {
      "text/html": [
       "<div>\n",
       "<style scoped>\n",
       "    .dataframe tbody tr th:only-of-type {\n",
       "        vertical-align: middle;\n",
       "    }\n",
       "\n",
       "    .dataframe tbody tr th {\n",
       "        vertical-align: top;\n",
       "    }\n",
       "\n",
       "    .dataframe thead th {\n",
       "        text-align: right;\n",
       "    }\n",
       "</style>\n",
       "<table border=\"1\" class=\"dataframe\">\n",
       "  <thead>\n",
       "    <tr style=\"text-align: right;\">\n",
       "      <th></th>\n",
       "      <th>voucher</th>\n",
       "      <th>education</th>\n",
       "      <th>income</th>\n",
       "    </tr>\n",
       "  </thead>\n",
       "  <tbody>\n",
       "    <tr>\n",
       "      <th>0</th>\n",
       "      <td>1.422533</td>\n",
       "      <td>3.030729</td>\n",
       "      <td>7.300007</td>\n",
       "    </tr>\n",
       "    <tr>\n",
       "      <th>1</th>\n",
       "      <td>0.644585</td>\n",
       "      <td>6.230665</td>\n",
       "      <td>34.837678</td>\n",
       "    </tr>\n",
       "    <tr>\n",
       "      <th>2</th>\n",
       "      <td>1.535212</td>\n",
       "      <td>5.943313</td>\n",
       "      <td>26.000605</td>\n",
       "    </tr>\n",
       "    <tr>\n",
       "      <th>3</th>\n",
       "      <td>1.422588</td>\n",
       "      <td>9.060396</td>\n",
       "      <td>47.597609</td>\n",
       "    </tr>\n",
       "    <tr>\n",
       "      <th>4</th>\n",
       "      <td>1.451390</td>\n",
       "      <td>10.221369</td>\n",
       "      <td>57.678172</td>\n",
       "    </tr>\n",
       "  </tbody>\n",
       "</table>\n",
       "</div>"
      ],
      "text/plain": [
       "    voucher  education     income\n",
       "0  1.422533   3.030729   7.300007\n",
       "1  0.644585   6.230665  34.837678\n",
       "2  1.535212   5.943313  26.000605\n",
       "3  1.422588   9.060396  47.597609\n",
       "4  1.451390  10.221369  57.678172"
      ]
     },
     "execution_count": 202,
     "metadata": {},
     "output_type": "execute_result"
    }
   ],
   "source": [
    "# Build dataset\n",
    "data = pd.DataFrame({\n",
    "    'voucher': voucher,\n",
    "    'education': education,\n",
    "    'income': income\n",
    "})\n",
    "\n",
    "data.head()"
   ]
  },
  {
   "cell_type": "code",
   "execution_count": 203,
   "metadata": {},
   "outputs": [
    {
     "name": "stderr",
     "output_type": "stream",
     "text": [
      "c:\\Python310\\lib\\site-packages\\dowhy\\causal_model.py:582: UserWarning: 1 variables are assumed unobserved because they are not in the dataset. Configure the logging level to `logging.WARNING` or higher for additional details.\n",
      "  warnings.warn(\n"
     ]
    },
    {
     "data": {
      "image/png": "[encoded data removed]",
      "text/plain": [
       "<Figure size 800x600 with 1 Axes>"
      ]
     },
     "metadata": {},
     "output_type": "display_data"
    }
   ],
   "source": [
    "#Step 1: Model\n",
    "model=CausalModel(\n",
    "        data = data,\n",
    "        treatment='education',\n",
    "        outcome='income',\n",
    "        common_causes=['U'],\n",
    "        instruments=['voucher']\n",
    "        )\n",
    "model.view_model()"
   ]
  },
  {
   "cell_type": "code",
   "execution_count": 204,
   "metadata": {},
   "outputs": [
    {
     "name": "stdout",
     "output_type": "stream",
     "text": [
      "Estimand type: EstimandType.NONPARAMETRIC_ATE\n",
      "\n",
      "### Estimand : 1\n",
      "Estimand name: backdoor\n",
      "No such variable(s) found!\n",
      "\n",
      "### Estimand : 2\n",
      "Estimand name: iv\n",
      "Estimand expression:\n",
      " ⎡                                            -1⎤\n",
      " ⎢    d              ⎛    d                  ⎞  ⎥\n",
      "E⎢──────────(income)⋅⎜──────────([education])⎟  ⎥\n",
      " ⎣d[voucher]         ⎝d[voucher]             ⎠  ⎦\n",
      "Estimand assumption 1, As-if-random: If U→→income then ¬(U →→{voucher})\n",
      "Estimand assumption 2, Exclusion: If we remove {voucher}→{education}, then ¬({voucher}→income)\n",
      "\n",
      "### Estimand : 3\n",
      "Estimand name: frontdoor\n",
      "No such variable(s) found!\n",
      "\n"
     ]
    }
   ],
   "source": [
    "# Step 2: Identify\n",
    "identified_estimand = model.identify_effect(proceed_when_unidentifiable=True)\n",
    "print(identified_estimand)"
   ]
  },
  {
   "cell_type": "code",
   "execution_count": 205,
   "metadata": {},
   "outputs": [
    {
     "name": "stdout",
     "output_type": "stream",
     "text": [
      "Refute: Use a Placebo Treatment\n",
      "Estimated effect:3.6317358765103718\n",
      "New effect:-0.006664074208887606\n",
      "p value:0.94\n",
      "\n"
     ]
    }
   ],
   "source": [
    "# Choose the second estimand: using IV\n",
    "\n",
    "# Step 3: Estimate\n",
    "estimate = model.estimate_effect(identified_estimand,\n",
    "        method_name=\"iv.instrumental_variable\")\n",
    "\n",
    "# Step 4: Refute\n",
    "ref = model.refute_estimate(identified_estimand, estimate, method_name=\"placebo_treatment_refuter\", placebo_type=\"permute\")\n",
    "print(ref)\n"
   ]
  },
  {
   "cell_type": "markdown",
   "metadata": {},
   "source": [
    "### Discrete Variables"
   ]
  },
  {
   "cell_type": "markdown",
   "metadata": {},
   "source": [
    "- Function as continuous variables"
   ]
  },
  {
   "cell_type": "code",
   "execution_count": 206,
   "metadata": {},
   "outputs": [],
   "source": [
    "n_points = 1000\n",
    "education_abilty = 1\n",
    "education_voucher = 2\n",
    "income_abilty = 2\n",
    "income_education = 4\n",
    "\n",
    "\n",
    "# confounder\n",
    "ability = np.random.normal(0, 3, size=n_points)\n",
    "\n",
    "# instrument\n",
    "voucher = np.random.normal(2, 1, size=n_points)\n",
    "\n",
    "# treatment\n",
    "education = np.random.normal(5, 1, size=n_points) + education_abilty * ability +\\\n",
    "            education_voucher * voucher\n",
    "\n",
    "\n",
    "# outcome\n",
    "income = np.random.normal(10, 3, size=n_points) +\\\n",
    "         income_abilty * ability + income_education * education"
   ]
  },
  {
   "cell_type": "markdown",
   "metadata": {},
   "source": [
    "#### Without latent variables"
   ]
  },
  {
   "cell_type": "markdown",
   "metadata": {},
   "source": [
    "- Everything working as expected"
   ]
  },
  {
   "cell_type": "code",
   "execution_count": 207,
   "metadata": {},
   "outputs": [
    {
     "data": {
      "text/html": [
       "<div>\n",
       "<style scoped>\n",
       "    .dataframe tbody tr th:only-of-type {\n",
       "        vertical-align: middle;\n",
       "    }\n",
       "\n",
       "    .dataframe tbody tr th {\n",
       "        vertical-align: top;\n",
       "    }\n",
       "\n",
       "    .dataframe thead th {\n",
       "        text-align: right;\n",
       "    }\n",
       "</style>\n",
       "<table border=\"1\" class=\"dataframe\">\n",
       "  <thead>\n",
       "    <tr style=\"text-align: right;\">\n",
       "      <th></th>\n",
       "      <th>U</th>\n",
       "      <th>voucher</th>\n",
       "      <th>education</th>\n",
       "      <th>income</th>\n",
       "    </tr>\n",
       "  </thead>\n",
       "  <tbody>\n",
       "    <tr>\n",
       "      <th>0</th>\n",
       "      <td>-2</td>\n",
       "      <td>2</td>\n",
       "      <td>5</td>\n",
       "      <td>27</td>\n",
       "    </tr>\n",
       "    <tr>\n",
       "      <th>1</th>\n",
       "      <td>0</td>\n",
       "      <td>2</td>\n",
       "      <td>9</td>\n",
       "      <td>46</td>\n",
       "    </tr>\n",
       "    <tr>\n",
       "      <th>2</th>\n",
       "      <td>-2</td>\n",
       "      <td>2</td>\n",
       "      <td>8</td>\n",
       "      <td>40</td>\n",
       "    </tr>\n",
       "    <tr>\n",
       "      <th>3</th>\n",
       "      <td>1</td>\n",
       "      <td>1</td>\n",
       "      <td>10</td>\n",
       "      <td>58</td>\n",
       "    </tr>\n",
       "    <tr>\n",
       "      <th>4</th>\n",
       "      <td>0</td>\n",
       "      <td>2</td>\n",
       "      <td>8</td>\n",
       "      <td>44</td>\n",
       "    </tr>\n",
       "  </tbody>\n",
       "</table>\n",
       "</div>"
      ],
      "text/plain": [
       "   U  voucher  education  income\n",
       "0 -2        2          5      27\n",
       "1  0        2          9      46\n",
       "2 -2        2          8      40\n",
       "3  1        1         10      58\n",
       "4  0        2          8      44"
      ]
     },
     "execution_count": 207,
     "metadata": {},
     "output_type": "execute_result"
    }
   ],
   "source": [
    "# Build dataset\n",
    "data = pd.DataFrame({\n",
    "    'U': dowhy.datasets.convert_continuous_to_discrete(ability),\n",
    "    'voucher': dowhy.datasets.convert_continuous_to_discrete(voucher),\n",
    "    'education': dowhy.datasets.convert_continuous_to_discrete(education),\n",
    "    'income': dowhy.datasets.convert_continuous_to_discrete(income)\n",
    "})\n",
    "\n",
    "data.head()"
   ]
  },
  {
   "cell_type": "code",
   "execution_count": 208,
   "metadata": {},
   "outputs": [
    {
     "data": {
      "image/png": "[encoded data removed]",
      "text/plain": [
       "<Figure size 800x600 with 1 Axes>"
      ]
     },
     "metadata": {},
     "output_type": "display_data"
    }
   ],
   "source": [
    "#Step 1: Model\n",
    "model=CausalModel(\n",
    "        data = data,\n",
    "        treatment='education',\n",
    "        outcome='income',\n",
    "        common_causes=['U'],\n",
    "        instruments=['voucher']\n",
    "        )\n",
    "model.view_model()"
   ]
  },
  {
   "cell_type": "code",
   "execution_count": 209,
   "metadata": {},
   "outputs": [
    {
     "name": "stdout",
     "output_type": "stream",
     "text": [
      "Estimand type: EstimandType.NONPARAMETRIC_ATE\n",
      "\n",
      "### Estimand : 1\n",
      "Estimand name: backdoor\n",
      "Estimand expression:\n",
      "     d                   \n",
      "────────────(E[income|U])\n",
      "d[education]             \n",
      "Estimand assumption 1, Unconfoundedness: If U→{education} and U→income then P(income|education,U,U) = P(income|education,U)\n",
      "\n",
      "### Estimand : 2\n",
      "Estimand name: iv\n",
      "Estimand expression:\n",
      " ⎡                                            -1⎤\n",
      " ⎢    d              ⎛    d                  ⎞  ⎥\n",
      "E⎢──────────(income)⋅⎜──────────([education])⎟  ⎥\n",
      " ⎣d[voucher]         ⎝d[voucher]             ⎠  ⎦\n",
      "Estimand assumption 1, As-if-random: If U→→income then ¬(U →→{voucher})\n",
      "Estimand assumption 2, Exclusion: If we remove {voucher}→{education}, then ¬({voucher}→income)\n",
      "\n",
      "### Estimand : 3\n",
      "Estimand name: frontdoor\n",
      "No such variable(s) found!\n",
      "\n"
     ]
    }
   ],
   "source": [
    "# Step 2: Identify\n",
    "identified_estimand = model.identify_effect(proceed_when_unidentifiable=True)\n",
    "print(identified_estimand)"
   ]
  },
  {
   "cell_type": "code",
   "execution_count": 210,
   "metadata": {},
   "outputs": [
    {
     "name": "stdout",
     "output_type": "stream",
     "text": [
      "Refute: Use a Placebo Treatment\n",
      "Estimated effect:4.035816387628234\n",
      "New effect:-0.003298264537280602\n",
      "p value:0.94\n",
      "\n"
     ]
    }
   ],
   "source": [
    "# Choose the first estimand: using Linear Regression\n",
    "\n",
    "# Step 3: Estimate\n",
    "estimate = model.estimate_effect(identified_estimand,\n",
    "        method_name=\"backdoor.linear_regression\")\n",
    "\n",
    "# Step 4: Refute\n",
    "ref = model.refute_estimate(identified_estimand, estimate, method_name=\"placebo_treatment_refuter\", placebo_type=\"permute\")\n",
    "print(ref)\n"
   ]
  },
  {
   "cell_type": "code",
   "execution_count": 211,
   "metadata": {},
   "outputs": [
    {
     "name": "stdout",
     "output_type": "stream",
     "text": [
      "Refute: Use a Placebo Treatment\n",
      "Estimated effect:4.024799525043297\n",
      "New effect:-0.02971105888532919\n",
      "p value:0.88\n",
      "\n"
     ]
    }
   ],
   "source": [
    "# Choose the second estimand: using IV\n",
    "\n",
    "# Step 3: Estimate\n",
    "estimate = model.estimate_effect(identified_estimand,\n",
    "        method_name=\"iv.instrumental_variable\")\n",
    "\n",
    "# Step 4: Refute\n",
    "ref = model.refute_estimate(identified_estimand, estimate, method_name=\"placebo_treatment_refuter\", placebo_type=\"permute\")\n",
    "print(ref)\n"
   ]
  },
  {
   "cell_type": "markdown",
   "metadata": {},
   "source": [
    "#### `Ability` as an unobserved confounder"
   ]
  },
  {
   "cell_type": "markdown",
   "metadata": {},
   "source": [
    "- Everything working as expected\n",
    "- In this scenario, no backdoor path was identified.\n",
    "- **Modeling Warning**: *\"UserWarning: 1 variables are assumed unobserved because they are not in the dataset.\"*"
   ]
  },
  {
   "cell_type": "code",
   "execution_count": 212,
   "metadata": {},
   "outputs": [
    {
     "data": {
      "text/html": [
       "<div>\n",
       "<style scoped>\n",
       "    .dataframe tbody tr th:only-of-type {\n",
       "        vertical-align: middle;\n",
       "    }\n",
       "\n",
       "    .dataframe tbody tr th {\n",
       "        vertical-align: top;\n",
       "    }\n",
       "\n",
       "    .dataframe thead th {\n",
       "        text-align: right;\n",
       "    }\n",
       "</style>\n",
       "<table border=\"1\" class=\"dataframe\">\n",
       "  <thead>\n",
       "    <tr style=\"text-align: right;\">\n",
       "      <th></th>\n",
       "      <th>voucher</th>\n",
       "      <th>education</th>\n",
       "      <th>income</th>\n",
       "    </tr>\n",
       "  </thead>\n",
       "  <tbody>\n",
       "    <tr>\n",
       "      <th>0</th>\n",
       "      <td>2</td>\n",
       "      <td>5</td>\n",
       "      <td>27</td>\n",
       "    </tr>\n",
       "    <tr>\n",
       "      <th>1</th>\n",
       "      <td>2</td>\n",
       "      <td>9</td>\n",
       "      <td>46</td>\n",
       "    </tr>\n",
       "    <tr>\n",
       "      <th>2</th>\n",
       "      <td>2</td>\n",
       "      <td>8</td>\n",
       "      <td>40</td>\n",
       "    </tr>\n",
       "    <tr>\n",
       "      <th>3</th>\n",
       "      <td>1</td>\n",
       "      <td>10</td>\n",
       "      <td>58</td>\n",
       "    </tr>\n",
       "    <tr>\n",
       "      <th>4</th>\n",
       "      <td>2</td>\n",
       "      <td>8</td>\n",
       "      <td>44</td>\n",
       "    </tr>\n",
       "  </tbody>\n",
       "</table>\n",
       "</div>"
      ],
      "text/plain": [
       "   voucher  education  income\n",
       "0        2          5      27\n",
       "1        2          9      46\n",
       "2        2          8      40\n",
       "3        1         10      58\n",
       "4        2          8      44"
      ]
     },
     "execution_count": 212,
     "metadata": {},
     "output_type": "execute_result"
    }
   ],
   "source": [
    "# Build dataset\n",
    "data = pd.DataFrame({\n",
    "    'voucher': dowhy.datasets.convert_continuous_to_discrete(voucher),\n",
    "    'education': dowhy.datasets.convert_continuous_to_discrete(education),\n",
    "    'income': dowhy.datasets.convert_continuous_to_discrete(income)\n",
    "})\n",
    "\n",
    "data.head()"
   ]
  },
  {
   "cell_type": "code",
   "execution_count": 213,
   "metadata": {},
   "outputs": [
    {
     "name": "stderr",
     "output_type": "stream",
     "text": [
      "c:\\Python310\\lib\\site-packages\\dowhy\\causal_model.py:582: UserWarning: 1 variables are assumed unobserved because they are not in the dataset. Configure the logging level to `logging.WARNING` or higher for additional details.\n",
      "  warnings.warn(\n"
     ]
    },
    {
     "data": {
      "image/png": "[encoded data removed]",
      "text/plain": [
       "<Figure size 800x600 with 1 Axes>"
      ]
     },
     "metadata": {},
     "output_type": "display_data"
    }
   ],
   "source": [
    "#Step 1: Model\n",
    "model=CausalModel(\n",
    "        data = data,\n",
    "        treatment='education',\n",
    "        outcome='income',\n",
    "        common_causes=['U'],\n",
    "        instruments=['voucher']\n",
    "        )\n",
    "model.view_model()"
   ]
  },
  {
   "cell_type": "code",
   "execution_count": 214,
   "metadata": {},
   "outputs": [
    {
     "name": "stdout",
     "output_type": "stream",
     "text": [
      "Estimand type: EstimandType.NONPARAMETRIC_ATE\n",
      "\n",
      "### Estimand : 1\n",
      "Estimand name: backdoor\n",
      "No such variable(s) found!\n",
      "\n",
      "### Estimand : 2\n",
      "Estimand name: iv\n",
      "Estimand expression:\n",
      " ⎡                                            -1⎤\n",
      " ⎢    d              ⎛    d                  ⎞  ⎥\n",
      "E⎢──────────(income)⋅⎜──────────([education])⎟  ⎥\n",
      " ⎣d[voucher]         ⎝d[voucher]             ⎠  ⎦\n",
      "Estimand assumption 1, As-if-random: If U→→income then ¬(U →→{voucher})\n",
      "Estimand assumption 2, Exclusion: If we remove {voucher}→{education}, then ¬({voucher}→income)\n",
      "\n",
      "### Estimand : 3\n",
      "Estimand name: frontdoor\n",
      "No such variable(s) found!\n",
      "\n"
     ]
    }
   ],
   "source": [
    "# Step 2: Identify\n",
    "identified_estimand = model.identify_effect(proceed_when_unidentifiable=True)\n",
    "print(identified_estimand)"
   ]
  },
  {
   "cell_type": "code",
   "execution_count": 215,
   "metadata": {},
   "outputs": [
    {
     "name": "stdout",
     "output_type": "stream",
     "text": [
      "Refute: Use a Placebo Treatment\n",
      "Estimated effect:4.024799525043297\n",
      "New effect:0.03805782105404274\n",
      "p value:0.96\n",
      "\n"
     ]
    }
   ],
   "source": [
    "# Choose the second estimand: using IV\n",
    "\n",
    "# Step 3: Estimate\n",
    "estimate = model.estimate_effect(identified_estimand,\n",
    "        method_name=\"iv.instrumental_variable\")\n",
    "\n",
    "# Step 4: Refute\n",
    "ref = model.refute_estimate(identified_estimand, estimate, method_name=\"placebo_treatment_refuter\", placebo_type=\"permute\")\n",
    "print(ref)\n"
   ]
  },
  {
   "cell_type": "markdown",
   "metadata": {},
   "source": [
    "### Discrete Variables (binary treatment)"
   ]
  },
  {
   "cell_type": "code",
   "execution_count": 230,
   "metadata": {},
   "outputs": [],
   "source": [
    "n_points = 1000\n",
    "education_abilty = 1\n",
    "education_voucher = 2\n",
    "income_abilty = 2\n",
    "income_education = 4\n",
    "\n",
    "\n",
    "# confounder\n",
    "ability = np.random.normal(0, 3, size=n_points)\n",
    "\n",
    "# instrument\n",
    "voucher = np.random.normal(2, 1, size=n_points)\n",
    "\n",
    "# treatment\n",
    "education = np.random.normal(5, 1, size=n_points) + education_abilty * ability +\\\n",
    "            education_voucher * voucher\n",
    "education = np.where(education < education.mean(), 0, 1)\n",
    "\n",
    "# outcome\n",
    "income = np.random.normal(10, 3, size=n_points) +\\\n",
    "         income_abilty * ability + income_education * education"
   ]
  },
  {
   "cell_type": "markdown",
   "metadata": {},
   "source": [
    "#### Without latent variables"
   ]
  },
  {
   "cell_type": "markdown",
   "metadata": {},
   "source": [
    "- IV method only works depending on the data"
   ]
  },
  {
   "cell_type": "code",
   "execution_count": 231,
   "metadata": {},
   "outputs": [
    {
     "data": {
      "text/html": [
       "<div>\n",
       "<style scoped>\n",
       "    .dataframe tbody tr th:only-of-type {\n",
       "        vertical-align: middle;\n",
       "    }\n",
       "\n",
       "    .dataframe tbody tr th {\n",
       "        vertical-align: top;\n",
       "    }\n",
       "\n",
       "    .dataframe thead th {\n",
       "        text-align: right;\n",
       "    }\n",
       "</style>\n",
       "<table border=\"1\" class=\"dataframe\">\n",
       "  <thead>\n",
       "    <tr style=\"text-align: right;\">\n",
       "      <th></th>\n",
       "      <th>U</th>\n",
       "      <th>voucher</th>\n",
       "      <th>education</th>\n",
       "      <th>income</th>\n",
       "    </tr>\n",
       "  </thead>\n",
       "  <tbody>\n",
       "    <tr>\n",
       "      <th>0</th>\n",
       "      <td>1</td>\n",
       "      <td>2</td>\n",
       "      <td>0</td>\n",
       "      <td>13</td>\n",
       "    </tr>\n",
       "    <tr>\n",
       "      <th>1</th>\n",
       "      <td>-5</td>\n",
       "      <td>1</td>\n",
       "      <td>0</td>\n",
       "      <td>-2</td>\n",
       "    </tr>\n",
       "    <tr>\n",
       "      <th>2</th>\n",
       "      <td>-1</td>\n",
       "      <td>1</td>\n",
       "      <td>0</td>\n",
       "      <td>7</td>\n",
       "    </tr>\n",
       "    <tr>\n",
       "      <th>3</th>\n",
       "      <td>-2</td>\n",
       "      <td>4</td>\n",
       "      <td>0</td>\n",
       "      <td>2</td>\n",
       "    </tr>\n",
       "    <tr>\n",
       "      <th>4</th>\n",
       "      <td>2</td>\n",
       "      <td>0</td>\n",
       "      <td>0</td>\n",
       "      <td>13</td>\n",
       "    </tr>\n",
       "  </tbody>\n",
       "</table>\n",
       "</div>"
      ],
      "text/plain": [
       "   U  voucher  education  income\n",
       "0  1        2          0      13\n",
       "1 -5        1          0      -2\n",
       "2 -1        1          0       7\n",
       "3 -2        4          0       2\n",
       "4  2        0          0      13"
      ]
     },
     "execution_count": 231,
     "metadata": {},
     "output_type": "execute_result"
    }
   ],
   "source": [
    "# Build dataset\n",
    "data = pd.DataFrame({\n",
    "    'U': dowhy.datasets.convert_continuous_to_discrete(ability),\n",
    "    'voucher': dowhy.datasets.convert_continuous_to_discrete(voucher),\n",
    "    'education': education,\n",
    "    'income': dowhy.datasets.convert_continuous_to_discrete(income)\n",
    "})\n",
    "\n",
    "data.head()"
   ]
  },
  {
   "cell_type": "code",
   "execution_count": 232,
   "metadata": {},
   "outputs": [
    {
     "data": {
      "image/png": "[encoded data removed]",
      "text/plain": [
       "<Figure size 800x600 with 1 Axes>"
      ]
     },
     "metadata": {},
     "output_type": "display_data"
    }
   ],
   "source": [
    "#Step 1: Model\n",
    "model=CausalModel(\n",
    "        data = data,\n",
    "        treatment='education',\n",
    "        outcome='income',\n",
    "        common_causes=['U'],\n",
    "        instruments=['voucher']\n",
    "        )\n",
    "model.view_model()"
   ]
  },
  {
   "cell_type": "code",
   "execution_count": 233,
   "metadata": {},
   "outputs": [
    {
     "name": "stdout",
     "output_type": "stream",
     "text": [
      "Estimand type: EstimandType.NONPARAMETRIC_ATE\n",
      "\n",
      "### Estimand : 1\n",
      "Estimand name: backdoor\n",
      "Estimand expression:\n",
      "     d                   \n",
      "────────────(E[income|U])\n",
      "d[education]             \n",
      "Estimand assumption 1, Unconfoundedness: If U→{education} and U→income then P(income|education,U,U) = P(income|education,U)\n",
      "\n",
      "### Estimand : 2\n",
      "Estimand name: iv\n",
      "Estimand expression:\n",
      " ⎡                                            -1⎤\n",
      " ⎢    d              ⎛    d                  ⎞  ⎥\n",
      "E⎢──────────(income)⋅⎜──────────([education])⎟  ⎥\n",
      " ⎣d[voucher]         ⎝d[voucher]             ⎠  ⎦\n",
      "Estimand assumption 1, As-if-random: If U→→income then ¬(U →→{voucher})\n",
      "Estimand assumption 2, Exclusion: If we remove {voucher}→{education}, then ¬({voucher}→income)\n",
      "\n",
      "### Estimand : 3\n",
      "Estimand name: frontdoor\n",
      "No such variable(s) found!\n",
      "\n"
     ]
    }
   ],
   "source": [
    "# Step 2: Identify\n",
    "identified_estimand = model.identify_effect(proceed_when_unidentifiable=True)\n",
    "print(identified_estimand)"
   ]
  },
  {
   "cell_type": "code",
   "execution_count": 234,
   "metadata": {},
   "outputs": [
    {
     "name": "stdout",
     "output_type": "stream",
     "text": [
      "Refute: Use a Placebo Treatment\n",
      "Estimated effect:3.9870347440636635\n",
      "New effect:0.012600717014091423\n",
      "p value:0.9199999999999999\n",
      "\n"
     ]
    }
   ],
   "source": [
    "# Choose the first estimand: using Linear Regression\n",
    "\n",
    "# Step 3: Estimate\n",
    "estimate = model.estimate_effect(identified_estimand,\n",
    "        method_name=\"backdoor.linear_regression\")\n",
    "\n",
    "# Step 4: Refute\n",
    "ref = model.refute_estimate(identified_estimand, estimate, method_name=\"placebo_treatment_refuter\", placebo_type=\"permute\")\n",
    "print(ref)\n"
   ]
  },
  {
   "cell_type": "code",
   "execution_count": 235,
   "metadata": {},
   "outputs": [
    {
     "name": "stdout",
     "output_type": "stream",
     "text": [
      "Refute: Use a Placebo Treatment\n",
      "Estimated effect:4.003703273552503\n",
      "New effect:-0.025438598742477482\n",
      "p value:0.88\n",
      "\n"
     ]
    }
   ],
   "source": [
    "# Choose the first estimand: using Propensity Score Stratification\n",
    "\n",
    "# Step 3: Estimate\n",
    "estimate = model.estimate_effect(identified_estimand,\n",
    "        method_name=\"backdoor.propensity_score_stratification\")\n",
    "\n",
    "# Step 4: Refute\n",
    "ref = model.refute_estimate(identified_estimand, estimate, method_name=\"placebo_treatment_refuter\", placebo_type=\"permute\")\n",
    "print(ref)\n"
   ]
  },
  {
   "cell_type": "code",
   "execution_count": 236,
   "metadata": {},
   "outputs": [
    {
     "name": "stdout",
     "output_type": "stream",
     "text": [
      "*** Causal Estimate ***\n",
      "\n",
      "## Identified estimand\n",
      "Estimand type: EstimandType.NONPARAMETRIC_ATE\n",
      "\n",
      "### Estimand : 1\n",
      "Estimand name: iv\n",
      "Estimand expression:\n",
      " ⎡                                            -1⎤\n",
      " ⎢    d              ⎛    d                  ⎞  ⎥\n",
      "E⎢──────────(income)⋅⎜──────────([education])⎟  ⎥\n",
      " ⎣d[voucher]         ⎝d[voucher]             ⎠  ⎦\n",
      "Estimand assumption 1, As-if-random: If U→→income then ¬(U →→{voucher})\n",
      "Estimand assumption 2, Exclusion: If we remove {voucher}→{education}, then ¬({voucher}→income)\n",
      "\n",
      "## Realized estimand\n",
      "Realized estimand: Wald Estimator\n",
      "Realized estimand type: EstimandType.NONPARAMETRIC_ATE\n",
      "Estimand expression:\n",
      "  ⎡   d            ⎤  \n",
      " E⎢────────(income)⎥  \n",
      "  ⎣dvoucher        ⎦  \n",
      "──────────────────────\n",
      " ⎡   d               ⎤\n",
      "E⎢────────(education)⎥\n",
      " ⎣dvoucher           ⎦\n",
      "Estimand assumption 1, As-if-random: If U→→income then ¬(U →→{voucher})\n",
      "Estimand assumption 2, Exclusion: If we remove {voucher}→{education}, then ¬({voucher}→income)\n",
      "Estimand assumption 3, treatment_effect_homogeneity: Each unit's treatment ['education'] is affected in the same way by common causes of ['education'] and ['income']\n",
      "Estimand assumption 4, outcome_effect_homogeneity: Each unit's outcome ['income'] is affected in the same way by common causes of ['education'] and ['income']\n",
      "\n",
      "Target units: ate\n",
      "\n",
      "## Estimate\n",
      "Mean value: 3.745274426180325\n",
      "p-value: [0, 0.001]\n",
      "\n",
      "Refute: Use a Placebo Treatment\n",
      "Estimated effect:3.745274426180325\n",
      "New effect:-0.032612888707914164\n",
      "p value:0.98\n",
      "\n"
     ]
    }
   ],
   "source": [
    "# Choose the second estimand: using IV\n",
    "\n",
    "# Step 3: Estimate\n",
    "estimate = model.estimate_effect(identified_estimand,\n",
    "        method_name=\"iv.instrumental_variable\", test_significance=True)\n",
    "\n",
    "print(estimate)\n",
    "\n",
    "# Step 4: Refute\n",
    "ref = model.refute_estimate(identified_estimand, estimate, method_name=\"placebo_treatment_refuter\", placebo_type=\"permute\")\n",
    "print(ref)\n"
   ]
  },
  {
   "cell_type": "markdown",
   "metadata": {},
   "source": [
    "#### `Ability` as an unobserved confounder"
   ]
  },
  {
   "cell_type": "markdown",
   "metadata": {},
   "source": [
    "- IV method works depending on the data\n",
    "- In this scenario, no backdoor path was identified.\n",
    "- **Modeling Warning**: *\"UserWarning: 1 variables are assumed unobserved because they are not in the dataset.\"*"
   ]
  },
  {
   "cell_type": "code",
   "execution_count": 237,
   "metadata": {},
   "outputs": [
    {
     "data": {
      "text/html": [
       "<div>\n",
       "<style scoped>\n",
       "    .dataframe tbody tr th:only-of-type {\n",
       "        vertical-align: middle;\n",
       "    }\n",
       "\n",
       "    .dataframe tbody tr th {\n",
       "        vertical-align: top;\n",
       "    }\n",
       "\n",
       "    .dataframe thead th {\n",
       "        text-align: right;\n",
       "    }\n",
       "</style>\n",
       "<table border=\"1\" class=\"dataframe\">\n",
       "  <thead>\n",
       "    <tr style=\"text-align: right;\">\n",
       "      <th></th>\n",
       "      <th>voucher</th>\n",
       "      <th>education</th>\n",
       "      <th>income</th>\n",
       "    </tr>\n",
       "  </thead>\n",
       "  <tbody>\n",
       "    <tr>\n",
       "      <th>0</th>\n",
       "      <td>2</td>\n",
       "      <td>0</td>\n",
       "      <td>13</td>\n",
       "    </tr>\n",
       "    <tr>\n",
       "      <th>1</th>\n",
       "      <td>1</td>\n",
       "      <td>0</td>\n",
       "      <td>-2</td>\n",
       "    </tr>\n",
       "    <tr>\n",
       "      <th>2</th>\n",
       "      <td>1</td>\n",
       "      <td>0</td>\n",
       "      <td>7</td>\n",
       "    </tr>\n",
       "    <tr>\n",
       "      <th>3</th>\n",
       "      <td>4</td>\n",
       "      <td>0</td>\n",
       "      <td>2</td>\n",
       "    </tr>\n",
       "    <tr>\n",
       "      <th>4</th>\n",
       "      <td>0</td>\n",
       "      <td>0</td>\n",
       "      <td>13</td>\n",
       "    </tr>\n",
       "  </tbody>\n",
       "</table>\n",
       "</div>"
      ],
      "text/plain": [
       "   voucher  education  income\n",
       "0        2          0      13\n",
       "1        1          0      -2\n",
       "2        1          0       7\n",
       "3        4          0       2\n",
       "4        0          0      13"
      ]
     },
     "execution_count": 237,
     "metadata": {},
     "output_type": "execute_result"
    }
   ],
   "source": [
    "# Build dataset\n",
    "data = pd.DataFrame({\n",
    "    'voucher': dowhy.datasets.convert_continuous_to_discrete(voucher),\n",
    "    'education': education,\n",
    "    'income': dowhy.datasets.convert_continuous_to_discrete(income)\n",
    "})\n",
    "\n",
    "data.head()"
   ]
  },
  {
   "cell_type": "code",
   "execution_count": 238,
   "metadata": {},
   "outputs": [
    {
     "name": "stderr",
     "output_type": "stream",
     "text": [
      "c:\\Python310\\lib\\site-packages\\dowhy\\causal_model.py:582: UserWarning: 1 variables are assumed unobserved because they are not in the dataset. Configure the logging level to `logging.WARNING` or higher for additional details.\n",
      "  warnings.warn(\n"
     ]
    },
    {
     "data": {
      "image/png": "[encoded data removed]",
      "text/plain": [
       "<Figure size 800x600 with 1 Axes>"
      ]
     },
     "metadata": {},
     "output_type": "display_data"
    }
   ],
   "source": [
    "#Step 1: Model\n",
    "model=CausalModel(\n",
    "        data = data,\n",
    "        treatment='education',\n",
    "        outcome='income',\n",
    "        common_causes=['U'],\n",
    "        instruments=['voucher']\n",
    "        )\n",
    "model.view_model()"
   ]
  },
  {
   "cell_type": "code",
   "execution_count": 239,
   "metadata": {},
   "outputs": [
    {
     "name": "stdout",
     "output_type": "stream",
     "text": [
      "Estimand type: EstimandType.NONPARAMETRIC_ATE\n",
      "\n",
      "### Estimand : 1\n",
      "Estimand name: backdoor\n",
      "No such variable(s) found!\n",
      "\n",
      "### Estimand : 2\n",
      "Estimand name: iv\n",
      "Estimand expression:\n",
      " ⎡                                            -1⎤\n",
      " ⎢    d              ⎛    d                  ⎞  ⎥\n",
      "E⎢──────────(income)⋅⎜──────────([education])⎟  ⎥\n",
      " ⎣d[voucher]         ⎝d[voucher]             ⎠  ⎦\n",
      "Estimand assumption 1, As-if-random: If U→→income then ¬(U →→{voucher})\n",
      "Estimand assumption 2, Exclusion: If we remove {voucher}→{education}, then ¬({voucher}→income)\n",
      "\n",
      "### Estimand : 3\n",
      "Estimand name: frontdoor\n",
      "No such variable(s) found!\n",
      "\n"
     ]
    }
   ],
   "source": [
    "# Step 2: Identify\n",
    "identified_estimand = model.identify_effect(proceed_when_unidentifiable=True)\n",
    "print(identified_estimand)"
   ]
  },
  {
   "cell_type": "code",
   "execution_count": 240,
   "metadata": {},
   "outputs": [
    {
     "name": "stdout",
     "output_type": "stream",
     "text": [
      "*** Causal Estimate ***\n",
      "\n",
      "## Identified estimand\n",
      "Estimand type: EstimandType.NONPARAMETRIC_ATE\n",
      "\n",
      "### Estimand : 1\n",
      "Estimand name: iv\n",
      "Estimand expression:\n",
      " ⎡                                            -1⎤\n",
      " ⎢    d              ⎛    d                  ⎞  ⎥\n",
      "E⎢──────────(income)⋅⎜──────────([education])⎟  ⎥\n",
      " ⎣d[voucher]         ⎝d[voucher]             ⎠  ⎦\n",
      "Estimand assumption 1, As-if-random: If U→→income then ¬(U →→{voucher})\n",
      "Estimand assumption 2, Exclusion: If we remove {voucher}→{education}, then ¬({voucher}→income)\n",
      "\n",
      "## Realized estimand\n",
      "Realized estimand: Wald Estimator\n",
      "Realized estimand type: EstimandType.NONPARAMETRIC_ATE\n",
      "Estimand expression:\n",
      "  ⎡   d            ⎤  \n",
      " E⎢────────(income)⎥  \n",
      "  ⎣dvoucher        ⎦  \n",
      "──────────────────────\n",
      " ⎡   d               ⎤\n",
      "E⎢────────(education)⎥\n",
      " ⎣dvoucher           ⎦\n",
      "Estimand assumption 1, As-if-random: If U→→income then ¬(U →→{voucher})\n",
      "Estimand assumption 2, Exclusion: If we remove {voucher}→{education}, then ¬({voucher}→income)\n",
      "Estimand assumption 3, treatment_effect_homogeneity: Each unit's treatment ['education'] is affected in the same way by common causes of ['education'] and ['income']\n",
      "Estimand assumption 4, outcome_effect_homogeneity: Each unit's outcome ['income'] is affected in the same way by common causes of ['education'] and ['income']\n",
      "\n",
      "Target units: ate\n",
      "\n",
      "## Estimate\n",
      "Mean value: 3.745274426180325\n",
      "p-value: 0.0020000000000000018\n",
      "\n",
      "Refute: Use a Placebo Treatment\n",
      "Estimated effect:3.745274426180325\n",
      "New effect:0.06634555624611607\n",
      "p value:0.98\n",
      "\n"
     ]
    }
   ],
   "source": [
    "# Choose the second estimand: using IV\n",
    "\n",
    "# Step 3: Estimate\n",
    "estimate = model.estimate_effect(identified_estimand,\n",
    "        method_name=\"iv.instrumental_variable\", test_significance=True)\n",
    "\n",
    "print(estimate)\n",
    "\n",
    "# Step 4: Refute\n",
    "ref = model.refute_estimate(identified_estimand, estimate, method_name=\"placebo_treatment_refuter\", placebo_type=\"permute\")\n",
    "print(ref)\n"
   ]
  },
  {
   "cell_type": "markdown",
   "metadata": {},
   "source": [
    "### All binary variables"
   ]
  },
  {
   "cell_type": "code",
   "execution_count": 151,
   "metadata": {},
   "outputs": [],
   "source": [
    "n_points = 1000\n",
    "education_abilty = 1\n",
    "education_voucher = 2\n",
    "income_abilty = 2\n",
    "income_education = 4\n",
    "\n",
    "\n",
    "# confounder\n",
    "ability = np.random.normal(0, 3, size=n_points)\n",
    "\n",
    "# instrument\n",
    "voucher = np.random.normal(2, 1, size=n_points)\n",
    "\n",
    "# treatment\n",
    "education = np.random.normal(5, 1, size=n_points) + education_abilty * ability +\\\n",
    "            education_voucher * voucher\n",
    "\n",
    "# outcome\n",
    "income = np.random.normal(10, 3, size=n_points) +\\\n",
    "         income_abilty * ability + income_education * education\n",
    "         \n",
    "ability, voucher, education, income = map(lambda x: np.where(x < x.mean(), 0, 1), [ability, voucher, education, income])"
   ]
  },
  {
   "cell_type": "markdown",
   "metadata": {},
   "source": [
    "#### Without latent variables"
   ]
  },
  {
   "cell_type": "markdown",
   "metadata": {},
   "source": [
    "- In this scenario the IV method worked for some reason"
   ]
  },
  {
   "cell_type": "code",
   "execution_count": 152,
   "metadata": {},
   "outputs": [
    {
     "data": {
      "text/html": [
       "<div>\n",
       "<style scoped>\n",
       "    .dataframe tbody tr th:only-of-type {\n",
       "        vertical-align: middle;\n",
       "    }\n",
       "\n",
       "    .dataframe tbody tr th {\n",
       "        vertical-align: top;\n",
       "    }\n",
       "\n",
       "    .dataframe thead th {\n",
       "        text-align: right;\n",
       "    }\n",
       "</style>\n",
       "<table border=\"1\" class=\"dataframe\">\n",
       "  <thead>\n",
       "    <tr style=\"text-align: right;\">\n",
       "      <th></th>\n",
       "      <th>U</th>\n",
       "      <th>voucher</th>\n",
       "      <th>education</th>\n",
       "      <th>income</th>\n",
       "    </tr>\n",
       "  </thead>\n",
       "  <tbody>\n",
       "    <tr>\n",
       "      <th>0</th>\n",
       "      <td>0</td>\n",
       "      <td>0</td>\n",
       "      <td>0</td>\n",
       "      <td>0</td>\n",
       "    </tr>\n",
       "    <tr>\n",
       "      <th>1</th>\n",
       "      <td>1</td>\n",
       "      <td>1</td>\n",
       "      <td>1</td>\n",
       "      <td>1</td>\n",
       "    </tr>\n",
       "    <tr>\n",
       "      <th>2</th>\n",
       "      <td>1</td>\n",
       "      <td>0</td>\n",
       "      <td>1</td>\n",
       "      <td>1</td>\n",
       "    </tr>\n",
       "    <tr>\n",
       "      <th>3</th>\n",
       "      <td>0</td>\n",
       "      <td>0</td>\n",
       "      <td>0</td>\n",
       "      <td>0</td>\n",
       "    </tr>\n",
       "    <tr>\n",
       "      <th>4</th>\n",
       "      <td>1</td>\n",
       "      <td>0</td>\n",
       "      <td>1</td>\n",
       "      <td>1</td>\n",
       "    </tr>\n",
       "  </tbody>\n",
       "</table>\n",
       "</div>"
      ],
      "text/plain": [
       "   U  voucher  education  income\n",
       "0  0        0          0       0\n",
       "1  1        1          1       1\n",
       "2  1        0          1       1\n",
       "3  0        0          0       0\n",
       "4  1        0          1       1"
      ]
     },
     "execution_count": 152,
     "metadata": {},
     "output_type": "execute_result"
    }
   ],
   "source": [
    "# Build dataset\n",
    "data = pd.DataFrame({\n",
    "    'U': dowhy.datasets.convert_continuous_to_discrete(ability),\n",
    "    'voucher': dowhy.datasets.convert_continuous_to_discrete(voucher),\n",
    "    'education': education,\n",
    "    'income': dowhy.datasets.convert_continuous_to_discrete(income)\n",
    "})\n",
    "\n",
    "data.head()"
   ]
  },
  {
   "cell_type": "code",
   "execution_count": 153,
   "metadata": {},
   "outputs": [
    {
     "data": {
      "image/png": "[encoded data removed]",
      "text/plain": [
       "<Figure size 800x600 with 1 Axes>"
      ]
     },
     "metadata": {},
     "output_type": "display_data"
    }
   ],
   "source": [
    "#Step 1: Model\n",
    "model=CausalModel(\n",
    "        data = data,\n",
    "        treatment='education',\n",
    "        outcome='income',\n",
    "        common_causes=['U'],\n",
    "        instruments=['voucher']\n",
    "        )\n",
    "model.view_model()"
   ]
  },
  {
   "cell_type": "code",
   "execution_count": 155,
   "metadata": {},
   "outputs": [
    {
     "name": "stdout",
     "output_type": "stream",
     "text": [
      "Estimand type: EstimandType.NONPARAMETRIC_ATE\n",
      "\n",
      "### Estimand : 1\n",
      "Estimand name: backdoor\n",
      "Estimand expression:\n",
      "     d                   \n",
      "────────────(E[income|U])\n",
      "d[education]             \n",
      "Estimand assumption 1, Unconfoundedness: If U→{education} and U→income then P(income|education,U,U) = P(income|education,U)\n",
      "\n",
      "### Estimand : 2\n",
      "Estimand name: iv\n",
      "Estimand expression:\n",
      " ⎡                                            -1⎤\n",
      " ⎢    d              ⎛    d                  ⎞  ⎥\n",
      "E⎢──────────(income)⋅⎜──────────([education])⎟  ⎥\n",
      " ⎣d[voucher]         ⎝d[voucher]             ⎠  ⎦\n",
      "Estimand assumption 1, As-if-random: If U→→income then ¬(U →→{voucher})\n",
      "Estimand assumption 2, Exclusion: If we remove {voucher}→{education}, then ¬({voucher}→income)\n",
      "\n",
      "### Estimand : 3\n",
      "Estimand name: frontdoor\n",
      "No such variable(s) found!\n",
      "\n"
     ]
    }
   ],
   "source": [
    "# Step 2: Identify\n",
    "identified_estimand = model.identify_effect(proceed_when_unidentifiable=True)\n",
    "print(identified_estimand)"
   ]
  },
  {
   "cell_type": "code",
   "execution_count": 156,
   "metadata": {},
   "outputs": [
    {
     "name": "stdout",
     "output_type": "stream",
     "text": [
      "Refute: Use a Placebo Treatment\n",
      "Estimated effect:0.6905817546688148\n",
      "New effect:-0.0001648619938847984\n",
      "p value:0.9199999999999999\n",
      "\n"
     ]
    }
   ],
   "source": [
    "# Choose the first estimand: using Linear Regression\n",
    "\n",
    "# Step 3: Estimate\n",
    "estimate = model.estimate_effect(identified_estimand,\n",
    "        method_name=\"backdoor.linear_regression\")\n",
    "\n",
    "# Step 4: Refute\n",
    "ref = model.refute_estimate(identified_estimand, estimate, method_name=\"placebo_treatment_refuter\", placebo_type=\"permute\")\n",
    "print(ref)\n"
   ]
  },
  {
   "cell_type": "code",
   "execution_count": 157,
   "metadata": {},
   "outputs": [
    {
     "name": "stdout",
     "output_type": "stream",
     "text": [
      "Refute: Use a Placebo Treatment\n",
      "Estimated effect:0.6902336604571891\n",
      "New effect:-0.000555596080003369\n",
      "p value:0.88\n",
      "\n"
     ]
    }
   ],
   "source": [
    "# Choose the first estimand: using Propensity Score Stratification\n",
    "\n",
    "# Step 3: Estimate\n",
    "estimate = model.estimate_effect(identified_estimand,\n",
    "        method_name=\"backdoor.propensity_score_stratification\")\n",
    "\n",
    "# Step 4: Refute\n",
    "ref = model.refute_estimate(identified_estimand, estimate, method_name=\"placebo_treatment_refuter\", placebo_type=\"permute\")\n",
    "print(ref)\n"
   ]
  },
  {
   "cell_type": "code",
   "execution_count": 158,
   "metadata": {},
   "outputs": [
    {
     "name": "stdout",
     "output_type": "stream",
     "text": [
      "*** Causal Estimate ***\n",
      "\n",
      "## Identified estimand\n",
      "Estimand type: EstimandType.NONPARAMETRIC_ATE\n",
      "\n",
      "### Estimand : 1\n",
      "Estimand name: iv\n",
      "Estimand expression:\n",
      " ⎡                                            -1⎤\n",
      " ⎢    d              ⎛    d                  ⎞  ⎥\n",
      "E⎢──────────(income)⋅⎜──────────([education])⎟  ⎥\n",
      " ⎣d[voucher]         ⎝d[voucher]             ⎠  ⎦\n",
      "Estimand assumption 1, As-if-random: If U→→income then ¬(U →→{voucher})\n",
      "Estimand assumption 2, Exclusion: If we remove {voucher}→{education}, then ¬({voucher}→income)\n",
      "\n",
      "## Realized estimand\n",
      "Realized estimand: Wald Estimator\n",
      "Realized estimand type: EstimandType.NONPARAMETRIC_ATE\n",
      "Estimand expression:\n",
      "  ⎡   d            ⎤  \n",
      " E⎢────────(income)⎥  \n",
      "  ⎣dvoucher        ⎦  \n",
      "──────────────────────\n",
      " ⎡   d               ⎤\n",
      "E⎢────────(education)⎥\n",
      " ⎣dvoucher           ⎦\n",
      "Estimand assumption 1, As-if-random: If U→→income then ¬(U →→{voucher})\n",
      "Estimand assumption 2, Exclusion: If we remove {voucher}→{education}, then ¬({voucher}→income)\n",
      "Estimand assumption 3, treatment_effect_homogeneity: Each unit's treatment ['education'] is affected in the same way by common causes of ['education'] and ['income']\n",
      "Estimand assumption 4, outcome_effect_homogeneity: Each unit's outcome ['income'] is affected in the same way by common causes of ['education'] and ['income']\n",
      "\n",
      "Target units: ate\n",
      "\n",
      "## Estimate\n",
      "Mean value: 0.6872625474905021\n",
      "p-value: [0, 0.001]\n",
      "\n",
      "Refute: Use a Placebo Treatment\n",
      "Estimated effect:0.6872625474905021\n",
      "New effect:0.004899020195960755\n",
      "p value:0.96\n",
      "\n"
     ]
    }
   ],
   "source": [
    "# Choose the second estimand: using IV\n",
    "\n",
    "# Step 3: Estimate\n",
    "estimate = model.estimate_effect(identified_estimand,\n",
    "        method_name=\"iv.instrumental_variable\", test_significance=True)\n",
    "\n",
    "print(estimate)\n",
    "\n",
    "# Step 4: Refute\n",
    "ref = model.refute_estimate(identified_estimand, estimate, method_name=\"placebo_treatment_refuter\", placebo_type=\"permute\")\n",
    "print(ref)\n"
   ]
  },
  {
   "cell_type": "markdown",
   "metadata": {},
   "source": [
    "#### `Ability` as an unobserved confounder"
   ]
  },
  {
   "cell_type": "markdown",
   "metadata": {},
   "source": [
    "- In this scenario the IV method works for some reason\n",
    "- In this scenario, no backdoor path was identified.\n",
    "- **Modeling Warning**: *\"UserWarning: 1 variables are assumed unobserved because they are not in the dataset.\"*"
   ]
  },
  {
   "cell_type": "code",
   "execution_count": 161,
   "metadata": {},
   "outputs": [
    {
     "data": {
      "text/html": [
       "<div>\n",
       "<style scoped>\n",
       "    .dataframe tbody tr th:only-of-type {\n",
       "        vertical-align: middle;\n",
       "    }\n",
       "\n",
       "    .dataframe tbody tr th {\n",
       "        vertical-align: top;\n",
       "    }\n",
       "\n",
       "    .dataframe thead th {\n",
       "        text-align: right;\n",
       "    }\n",
       "</style>\n",
       "<table border=\"1\" class=\"dataframe\">\n",
       "  <thead>\n",
       "    <tr style=\"text-align: right;\">\n",
       "      <th></th>\n",
       "      <th>voucher</th>\n",
       "      <th>education</th>\n",
       "      <th>income</th>\n",
       "    </tr>\n",
       "  </thead>\n",
       "  <tbody>\n",
       "    <tr>\n",
       "      <th>0</th>\n",
       "      <td>0</td>\n",
       "      <td>0</td>\n",
       "      <td>0</td>\n",
       "    </tr>\n",
       "    <tr>\n",
       "      <th>1</th>\n",
       "      <td>1</td>\n",
       "      <td>1</td>\n",
       "      <td>1</td>\n",
       "    </tr>\n",
       "    <tr>\n",
       "      <th>2</th>\n",
       "      <td>0</td>\n",
       "      <td>1</td>\n",
       "      <td>1</td>\n",
       "    </tr>\n",
       "    <tr>\n",
       "      <th>3</th>\n",
       "      <td>0</td>\n",
       "      <td>0</td>\n",
       "      <td>0</td>\n",
       "    </tr>\n",
       "    <tr>\n",
       "      <th>4</th>\n",
       "      <td>0</td>\n",
       "      <td>1</td>\n",
       "      <td>1</td>\n",
       "    </tr>\n",
       "  </tbody>\n",
       "</table>\n",
       "</div>"
      ],
      "text/plain": [
       "   voucher  education  income\n",
       "0        0          0       0\n",
       "1        1          1       1\n",
       "2        0          1       1\n",
       "3        0          0       0\n",
       "4        0          1       1"
      ]
     },
     "execution_count": 161,
     "metadata": {},
     "output_type": "execute_result"
    }
   ],
   "source": [
    "# Build dataset\n",
    "data = pd.DataFrame({\n",
    "    'voucher': voucher,\n",
    "    'education': education,\n",
    "    'income': income\n",
    "})\n",
    "\n",
    "data.head()"
   ]
  },
  {
   "cell_type": "code",
   "execution_count": 162,
   "metadata": {},
   "outputs": [
    {
     "name": "stderr",
     "output_type": "stream",
     "text": [
      "c:\\Python310\\lib\\site-packages\\dowhy\\causal_model.py:582: UserWarning: 1 variables are assumed unobserved because they are not in the dataset. Configure the logging level to `logging.WARNING` or higher for additional details.\n",
      "  warnings.warn(\n"
     ]
    },
    {
     "data": {
      "image/png": "[encoded data removed]",
      "text/plain": [
       "<Figure size 800x600 with 1 Axes>"
      ]
     },
     "metadata": {},
     "output_type": "display_data"
    }
   ],
   "source": [
    "#Step 1: Model\n",
    "model=CausalModel(\n",
    "        data = data,\n",
    "        treatment='education',\n",
    "        outcome='income',\n",
    "        common_causes=['U'],\n",
    "        instruments=['voucher']\n",
    "        )\n",
    "model.view_model()"
   ]
  },
  {
   "cell_type": "code",
   "execution_count": 163,
   "metadata": {},
   "outputs": [
    {
     "name": "stdout",
     "output_type": "stream",
     "text": [
      "Estimand type: EstimandType.NONPARAMETRIC_ATE\n",
      "\n",
      "### Estimand : 1\n",
      "Estimand name: backdoor\n",
      "No such variable(s) found!\n",
      "\n",
      "### Estimand : 2\n",
      "Estimand name: iv\n",
      "Estimand expression:\n",
      " ⎡                                            -1⎤\n",
      " ⎢    d              ⎛    d                  ⎞  ⎥\n",
      "E⎢──────────(income)⋅⎜──────────([education])⎟  ⎥\n",
      " ⎣d[voucher]         ⎝d[voucher]             ⎠  ⎦\n",
      "Estimand assumption 1, As-if-random: If U→→income then ¬(U →→{voucher})\n",
      "Estimand assumption 2, Exclusion: If we remove {voucher}→{education}, then ¬({voucher}→income)\n",
      "\n",
      "### Estimand : 3\n",
      "Estimand name: frontdoor\n",
      "No such variable(s) found!\n",
      "\n"
     ]
    }
   ],
   "source": [
    "# Step 2: Identify\n",
    "identified_estimand = model.identify_effect(proceed_when_unidentifiable=True)\n",
    "print(identified_estimand)"
   ]
  },
  {
   "cell_type": "code",
   "execution_count": 164,
   "metadata": {},
   "outputs": [
    {
     "name": "stdout",
     "output_type": "stream",
     "text": [
      "*** Causal Estimate ***\n",
      "\n",
      "## Identified estimand\n",
      "Estimand type: EstimandType.NONPARAMETRIC_ATE\n",
      "\n",
      "### Estimand : 1\n",
      "Estimand name: iv\n",
      "Estimand expression:\n",
      " ⎡                                            -1⎤\n",
      " ⎢    d              ⎛    d                  ⎞  ⎥\n",
      "E⎢──────────(income)⋅⎜──────────([education])⎟  ⎥\n",
      " ⎣d[voucher]         ⎝d[voucher]             ⎠  ⎦\n",
      "Estimand assumption 1, As-if-random: If U→→income then ¬(U →→{voucher})\n",
      "Estimand assumption 2, Exclusion: If we remove {voucher}→{education}, then ¬({voucher}→income)\n",
      "\n",
      "## Realized estimand\n",
      "Realized estimand: Wald Estimator\n",
      "Realized estimand type: EstimandType.NONPARAMETRIC_ATE\n",
      "Estimand expression:\n",
      "  ⎡   d            ⎤  \n",
      " E⎢────────(income)⎥  \n",
      "  ⎣dvoucher        ⎦  \n",
      "──────────────────────\n",
      " ⎡   d               ⎤\n",
      "E⎢────────(education)⎥\n",
      " ⎣dvoucher           ⎦\n",
      "Estimand assumption 1, As-if-random: If U→→income then ¬(U →→{voucher})\n",
      "Estimand assumption 2, Exclusion: If we remove {voucher}→{education}, then ¬({voucher}→income)\n",
      "Estimand assumption 3, treatment_effect_homogeneity: Each unit's treatment ['education'] is affected in the same way by common causes of ['education'] and ['income']\n",
      "Estimand assumption 4, outcome_effect_homogeneity: Each unit's outcome ['income'] is affected in the same way by common causes of ['education'] and ['income']\n",
      "\n",
      "Target units: ate\n",
      "\n",
      "## Estimate\n",
      "Mean value: 0.6872625474905021\n",
      "p-value: [0, 0.001]\n",
      "\n",
      "Refute: Use a Placebo Treatment\n",
      "Estimated effect:0.6872625474905021\n",
      "New effect:0.00039992001599672267\n",
      "p value:0.98\n",
      "\n"
     ]
    }
   ],
   "source": [
    "# Choose the second estimand: using IV\n",
    "\n",
    "# Step 3: Estimate\n",
    "estimate = model.estimate_effect(identified_estimand,\n",
    "        method_name=\"iv.instrumental_variable\", test_significance=True)\n",
    "\n",
    "print(estimate)\n",
    "\n",
    "# Step 4: Refute\n",
    "ref = model.refute_estimate(identified_estimand, estimate, method_name=\"placebo_treatment_refuter\", placebo_type=\"permute\")\n",
    "print(ref)\n"
   ]
  },
  {
   "cell_type": "markdown",
   "metadata": {},
   "source": [
    "### Binary treatment and outcome, discrete IV and confounder"
   ]
  },
  {
   "cell_type": "code",
   "execution_count": 166,
   "metadata": {},
   "outputs": [],
   "source": [
    "n_points = 1000\n",
    "education_abilty = 1\n",
    "education_voucher = 2\n",
    "income_abilty = 2\n",
    "income_education = 4\n",
    "\n",
    "\n",
    "# confounder\n",
    "ability = np.random.normal(0, 3, size=n_points)\n",
    "ability = dowhy.datasets.convert_continuous_to_discrete(ability)\n",
    "\n",
    "# instrument\n",
    "voucher = np.random.normal(2, 1, size=n_points)\n",
    "voucher = dowhy.datasets.convert_continuous_to_discrete(voucher)\n",
    "\n",
    "# treatment\n",
    "education = np.random.normal(5, 1, size=n_points) + education_abilty * ability +\\\n",
    "            education_voucher * voucher\n",
    "\n",
    "# outcome\n",
    "income = np.random.normal(10, 3, size=n_points) +\\\n",
    "         income_abilty * ability + income_education * education\n",
    "         \n",
    "education, income = map(lambda x: np.where(x < x.mean(), 0, 1), [education, income])"
   ]
  },
  {
   "cell_type": "markdown",
   "metadata": {},
   "source": [
    "#### Without latent variables"
   ]
  },
  {
   "cell_type": "markdown",
   "metadata": {},
   "source": [
    "- In this scenario the IV method worked for some reason"
   ]
  },
  {
   "cell_type": "code",
   "execution_count": 168,
   "metadata": {},
   "outputs": [
    {
     "data": {
      "text/html": [
       "<div>\n",
       "<style scoped>\n",
       "    .dataframe tbody tr th:only-of-type {\n",
       "        vertical-align: middle;\n",
       "    }\n",
       "\n",
       "    .dataframe tbody tr th {\n",
       "        vertical-align: top;\n",
       "    }\n",
       "\n",
       "    .dataframe thead th {\n",
       "        text-align: right;\n",
       "    }\n",
       "</style>\n",
       "<table border=\"1\" class=\"dataframe\">\n",
       "  <thead>\n",
       "    <tr style=\"text-align: right;\">\n",
       "      <th></th>\n",
       "      <th>U</th>\n",
       "      <th>voucher</th>\n",
       "      <th>education</th>\n",
       "      <th>income</th>\n",
       "    </tr>\n",
       "  </thead>\n",
       "  <tbody>\n",
       "    <tr>\n",
       "      <th>0</th>\n",
       "      <td>-1</td>\n",
       "      <td>3</td>\n",
       "      <td>1</td>\n",
       "      <td>1</td>\n",
       "    </tr>\n",
       "    <tr>\n",
       "      <th>1</th>\n",
       "      <td>0</td>\n",
       "      <td>3</td>\n",
       "      <td>1</td>\n",
       "      <td>1</td>\n",
       "    </tr>\n",
       "    <tr>\n",
       "      <th>2</th>\n",
       "      <td>-2</td>\n",
       "      <td>2</td>\n",
       "      <td>0</td>\n",
       "      <td>0</td>\n",
       "    </tr>\n",
       "    <tr>\n",
       "      <th>3</th>\n",
       "      <td>0</td>\n",
       "      <td>2</td>\n",
       "      <td>1</td>\n",
       "      <td>1</td>\n",
       "    </tr>\n",
       "    <tr>\n",
       "      <th>4</th>\n",
       "      <td>-1</td>\n",
       "      <td>2</td>\n",
       "      <td>1</td>\n",
       "      <td>1</td>\n",
       "    </tr>\n",
       "  </tbody>\n",
       "</table>\n",
       "</div>"
      ],
      "text/plain": [
       "   U  voucher  education  income\n",
       "0 -1        3          1       1\n",
       "1  0        3          1       1\n",
       "2 -2        2          0       0\n",
       "3  0        2          1       1\n",
       "4 -1        2          1       1"
      ]
     },
     "execution_count": 168,
     "metadata": {},
     "output_type": "execute_result"
    }
   ],
   "source": [
    "# Build dataset\n",
    "data = pd.DataFrame({\n",
    "    'U': ability,\n",
    "    'voucher': voucher,\n",
    "    'education': education,\n",
    "    'income': income\n",
    "})\n",
    "\n",
    "data.head()"
   ]
  },
  {
   "cell_type": "code",
   "execution_count": 169,
   "metadata": {},
   "outputs": [
    {
     "data": {
      "image/png": "[encoded data removed]",
      "text/plain": [
       "<Figure size 800x600 with 1 Axes>"
      ]
     },
     "metadata": {},
     "output_type": "display_data"
    }
   ],
   "source": [
    "#Step 1: Model\n",
    "model=CausalModel(\n",
    "        data = data,\n",
    "        treatment='education',\n",
    "        outcome='income',\n",
    "        common_causes=['U'],\n",
    "        instruments=['voucher']\n",
    "        )\n",
    "model.view_model()"
   ]
  },
  {
   "cell_type": "code",
   "execution_count": 170,
   "metadata": {},
   "outputs": [
    {
     "name": "stdout",
     "output_type": "stream",
     "text": [
      "Estimand type: EstimandType.NONPARAMETRIC_ATE\n",
      "\n",
      "### Estimand : 1\n",
      "Estimand name: backdoor\n",
      "Estimand expression:\n",
      "     d                   \n",
      "────────────(E[income|U])\n",
      "d[education]             \n",
      "Estimand assumption 1, Unconfoundedness: If U→{education} and U→income then P(income|education,U,U) = P(income|education,U)\n",
      "\n",
      "### Estimand : 2\n",
      "Estimand name: iv\n",
      "Estimand expression:\n",
      " ⎡                                            -1⎤\n",
      " ⎢    d              ⎛    d                  ⎞  ⎥\n",
      "E⎢──────────(income)⋅⎜──────────([education])⎟  ⎥\n",
      " ⎣d[voucher]         ⎝d[voucher]             ⎠  ⎦\n",
      "Estimand assumption 1, As-if-random: If U→→income then ¬(U →→{voucher})\n",
      "Estimand assumption 2, Exclusion: If we remove {voucher}→{education}, then ¬({voucher}→income)\n",
      "\n",
      "### Estimand : 3\n",
      "Estimand name: frontdoor\n",
      "No such variable(s) found!\n",
      "\n"
     ]
    }
   ],
   "source": [
    "# Step 2: Identify\n",
    "identified_estimand = model.identify_effect(proceed_when_unidentifiable=True)\n",
    "print(identified_estimand)"
   ]
  },
  {
   "cell_type": "code",
   "execution_count": 176,
   "metadata": {},
   "outputs": [
    {
     "name": "stdout",
     "output_type": "stream",
     "text": [
      "Refute: Use a Placebo Treatment\n",
      "Estimated effect:0.7193421011020578\n",
      "New effect:-0.0008199390318250061\n",
      "p value:0.96\n",
      "\n"
     ]
    }
   ],
   "source": [
    "# Choose the first estimand: using Linear Regression\n",
    "\n",
    "# Step 3: Estimate\n",
    "estimate = model.estimate_effect(identified_estimand,\n",
    "        method_name=\"backdoor.linear_regression\")\n",
    "\n",
    "# Step 4: Refute\n",
    "ref = model.refute_estimate(identified_estimand, estimate, method_name=\"placebo_treatment_refuter\", placebo_type=\"permute\")\n",
    "print(ref)\n"
   ]
  },
  {
   "cell_type": "code",
   "execution_count": 175,
   "metadata": {},
   "outputs": [
    {
     "name": "stdout",
     "output_type": "stream",
     "text": [
      "Refute: Use a Placebo Treatment\n",
      "Estimated effect:0.6793619919207263\n",
      "New effect:0.004033224993707715\n",
      "p value:0.9199999999999999\n",
      "\n"
     ]
    }
   ],
   "source": [
    "# Choose the first estimand: using Propensity Score Stratification\n",
    "\n",
    "# Step 3: Estimate\n",
    "estimate = model.estimate_effect(identified_estimand,\n",
    "        method_name=\"backdoor.propensity_score_stratification\")\n",
    "\n",
    "# Step 4: Refute\n",
    "ref = model.refute_estimate(identified_estimand, estimate, method_name=\"placebo_treatment_refuter\", placebo_type=\"permute\")\n",
    "print(ref)\n"
   ]
  },
  {
   "cell_type": "code",
   "execution_count": 177,
   "metadata": {},
   "outputs": [
    {
     "name": "stdout",
     "output_type": "stream",
     "text": [
      "*** Causal Estimate ***\n",
      "\n",
      "## Identified estimand\n",
      "Estimand type: EstimandType.NONPARAMETRIC_ATE\n",
      "\n",
      "### Estimand : 1\n",
      "Estimand name: iv\n",
      "Estimand expression:\n",
      " ⎡                                            -1⎤\n",
      " ⎢    d              ⎛    d                  ⎞  ⎥\n",
      "E⎢──────────(income)⋅⎜──────────([education])⎟  ⎥\n",
      " ⎣d[voucher]         ⎝d[voucher]             ⎠  ⎦\n",
      "Estimand assumption 1, As-if-random: If U→→income then ¬(U →→{voucher})\n",
      "Estimand assumption 2, Exclusion: If we remove {voucher}→{education}, then ¬({voucher}→income)\n",
      "\n",
      "## Realized estimand\n",
      "Realized estimand: Wald Estimator\n",
      "Realized estimand type: EstimandType.NONPARAMETRIC_ATE\n",
      "Estimand expression:\n",
      "  ⎡   d            ⎤  \n",
      " E⎢────────(income)⎥  \n",
      "  ⎣dvoucher        ⎦  \n",
      "──────────────────────\n",
      " ⎡   d               ⎤\n",
      "E⎢────────(education)⎥\n",
      " ⎣dvoucher           ⎦\n",
      "Estimand assumption 1, As-if-random: If U→→income then ¬(U →→{voucher})\n",
      "Estimand assumption 2, Exclusion: If we remove {voucher}→{education}, then ¬({voucher}→income)\n",
      "Estimand assumption 3, treatment_effect_homogeneity: Each unit's treatment ['education'] is affected in the same way by common causes of ['education'] and ['income']\n",
      "Estimand assumption 4, outcome_effect_homogeneity: Each unit's outcome ['income'] is affected in the same way by common causes of ['education'] and ['income']\n",
      "\n",
      "Target units: ate\n",
      "\n",
      "## Estimate\n",
      "Mean value: 0.742447190757778\n",
      "p-value: [0, 0.001]\n",
      "\n",
      "Refute: Use a Placebo Treatment\n",
      "Estimated effect:0.742447190757778\n",
      "New effect:0.0035206161481073956\n",
      "p value:0.96\n",
      "\n"
     ]
    }
   ],
   "source": [
    "# Choose the second estimand: using IV\n",
    "\n",
    "# Step 3: Estimate\n",
    "estimate = model.estimate_effect(identified_estimand,\n",
    "        method_name=\"iv.instrumental_variable\", test_significance=True)\n",
    "\n",
    "print(estimate)\n",
    "\n",
    "# Step 4: Refute\n",
    "ref = model.refute_estimate(identified_estimand, estimate, method_name=\"placebo_treatment_refuter\", placebo_type=\"permute\")\n",
    "print(ref)\n"
   ]
  },
  {
   "cell_type": "markdown",
   "metadata": {},
   "source": [
    "#### `Ability` as an unobserved confounder"
   ]
  },
  {
   "cell_type": "markdown",
   "metadata": {},
   "source": [
    "- In this scenario the IV method works for some reason\n",
    "- In this scenario, no backdoor path was identified.\n",
    "- **Modeling Warning**: *\"UserWarning: 1 variables are assumed unobserved because they are not in the dataset.\"*"
   ]
  },
  {
   "cell_type": "code",
   "execution_count": 178,
   "metadata": {},
   "outputs": [
    {
     "data": {
      "text/html": [
       "<div>\n",
       "<style scoped>\n",
       "    .dataframe tbody tr th:only-of-type {\n",
       "        vertical-align: middle;\n",
       "    }\n",
       "\n",
       "    .dataframe tbody tr th {\n",
       "        vertical-align: top;\n",
       "    }\n",
       "\n",
       "    .dataframe thead th {\n",
       "        text-align: right;\n",
       "    }\n",
       "</style>\n",
       "<table border=\"1\" class=\"dataframe\">\n",
       "  <thead>\n",
       "    <tr style=\"text-align: right;\">\n",
       "      <th></th>\n",
       "      <th>voucher</th>\n",
       "      <th>education</th>\n",
       "      <th>income</th>\n",
       "    </tr>\n",
       "  </thead>\n",
       "  <tbody>\n",
       "    <tr>\n",
       "      <th>0</th>\n",
       "      <td>3</td>\n",
       "      <td>1</td>\n",
       "      <td>1</td>\n",
       "    </tr>\n",
       "    <tr>\n",
       "      <th>1</th>\n",
       "      <td>3</td>\n",
       "      <td>1</td>\n",
       "      <td>1</td>\n",
       "    </tr>\n",
       "    <tr>\n",
       "      <th>2</th>\n",
       "      <td>2</td>\n",
       "      <td>0</td>\n",
       "      <td>0</td>\n",
       "    </tr>\n",
       "    <tr>\n",
       "      <th>3</th>\n",
       "      <td>2</td>\n",
       "      <td>1</td>\n",
       "      <td>1</td>\n",
       "    </tr>\n",
       "    <tr>\n",
       "      <th>4</th>\n",
       "      <td>2</td>\n",
       "      <td>1</td>\n",
       "      <td>1</td>\n",
       "    </tr>\n",
       "  </tbody>\n",
       "</table>\n",
       "</div>"
      ],
      "text/plain": [
       "   voucher  education  income\n",
       "0        3          1       1\n",
       "1        3          1       1\n",
       "2        2          0       0\n",
       "3        2          1       1\n",
       "4        2          1       1"
      ]
     },
     "execution_count": 178,
     "metadata": {},
     "output_type": "execute_result"
    }
   ],
   "source": [
    "# Build dataset\n",
    "data = pd.DataFrame({\n",
    "    'voucher': voucher,\n",
    "    'education': education,\n",
    "    'income': income\n",
    "})\n",
    "\n",
    "data.head()"
   ]
  },
  {
   "cell_type": "code",
   "execution_count": 179,
   "metadata": {},
   "outputs": [
    {
     "name": "stderr",
     "output_type": "stream",
     "text": [
      "c:\\Python310\\lib\\site-packages\\dowhy\\causal_model.py:582: UserWarning: 1 variables are assumed unobserved because they are not in the dataset. Configure the logging level to `logging.WARNING` or higher for additional details.\n",
      "  warnings.warn(\n"
     ]
    },
    {
     "data": {
      "image/png": "[encoded data removed]",
      "text/plain": [
       "<Figure size 800x600 with 1 Axes>"
      ]
     },
     "metadata": {},
     "output_type": "display_data"
    }
   ],
   "source": [
    "#Step 1: Model\n",
    "model=CausalModel(\n",
    "        data = data,\n",
    "        treatment='education',\n",
    "        outcome='income',\n",
    "        common_causes=['U'],\n",
    "        instruments=['voucher']\n",
    "        )\n",
    "model.view_model()"
   ]
  },
  {
   "cell_type": "code",
   "execution_count": 180,
   "metadata": {},
   "outputs": [
    {
     "name": "stdout",
     "output_type": "stream",
     "text": [
      "Estimand type: EstimandType.NONPARAMETRIC_ATE\n",
      "\n",
      "### Estimand : 1\n",
      "Estimand name: backdoor\n",
      "No such variable(s) found!\n",
      "\n",
      "### Estimand : 2\n",
      "Estimand name: iv\n",
      "Estimand expression:\n",
      " ⎡                                            -1⎤\n",
      " ⎢    d              ⎛    d                  ⎞  ⎥\n",
      "E⎢──────────(income)⋅⎜──────────([education])⎟  ⎥\n",
      " ⎣d[voucher]         ⎝d[voucher]             ⎠  ⎦\n",
      "Estimand assumption 1, As-if-random: If U→→income then ¬(U →→{voucher})\n",
      "Estimand assumption 2, Exclusion: If we remove {voucher}→{education}, then ¬({voucher}→income)\n",
      "\n",
      "### Estimand : 3\n",
      "Estimand name: frontdoor\n",
      "No such variable(s) found!\n",
      "\n"
     ]
    }
   ],
   "source": [
    "# Step 2: Identify\n",
    "identified_estimand = model.identify_effect(proceed_when_unidentifiable=True)\n",
    "print(identified_estimand)"
   ]
  },
  {
   "cell_type": "code",
   "execution_count": 181,
   "metadata": {},
   "outputs": [
    {
     "name": "stdout",
     "output_type": "stream",
     "text": [
      "*** Causal Estimate ***\n",
      "\n",
      "## Identified estimand\n",
      "Estimand type: EstimandType.NONPARAMETRIC_ATE\n",
      "\n",
      "### Estimand : 1\n",
      "Estimand name: iv\n",
      "Estimand expression:\n",
      " ⎡                                            -1⎤\n",
      " ⎢    d              ⎛    d                  ⎞  ⎥\n",
      "E⎢──────────(income)⋅⎜──────────([education])⎟  ⎥\n",
      " ⎣d[voucher]         ⎝d[voucher]             ⎠  ⎦\n",
      "Estimand assumption 1, As-if-random: If U→→income then ¬(U →→{voucher})\n",
      "Estimand assumption 2, Exclusion: If we remove {voucher}→{education}, then ¬({voucher}→income)\n",
      "\n",
      "## Realized estimand\n",
      "Realized estimand: Wald Estimator\n",
      "Realized estimand type: EstimandType.NONPARAMETRIC_ATE\n",
      "Estimand expression:\n",
      "  ⎡   d            ⎤  \n",
      " E⎢────────(income)⎥  \n",
      "  ⎣dvoucher        ⎦  \n",
      "──────────────────────\n",
      " ⎡   d               ⎤\n",
      "E⎢────────(education)⎥\n",
      " ⎣dvoucher           ⎦\n",
      "Estimand assumption 1, As-if-random: If U→→income then ¬(U →→{voucher})\n",
      "Estimand assumption 2, Exclusion: If we remove {voucher}→{education}, then ¬({voucher}→income)\n",
      "Estimand assumption 3, treatment_effect_homogeneity: Each unit's treatment ['education'] is affected in the same way by common causes of ['education'] and ['income']\n",
      "Estimand assumption 4, outcome_effect_homogeneity: Each unit's outcome ['income'] is affected in the same way by common causes of ['education'] and ['income']\n",
      "\n",
      "Target units: ate\n",
      "\n",
      "## Estimate\n",
      "Mean value: 0.742447190757778\n",
      "p-value: [0, 0.001]\n",
      "\n",
      "Refute: Use a Placebo Treatment\n",
      "Estimated effect:0.742447190757778\n",
      "New effect:-0.0072345842128161844\n",
      "p value:0.9\n",
      "\n"
     ]
    }
   ],
   "source": [
    "# Choose the second estimand: using IV\n",
    "\n",
    "# Step 3: Estimate\n",
    "estimate = model.estimate_effect(identified_estimand,\n",
    "        method_name=\"iv.instrumental_variable\", test_significance=True)\n",
    "\n",
    "print(estimate)\n",
    "\n",
    "# Step 4: Refute\n",
    "ref = model.refute_estimate(identified_estimand, estimate, method_name=\"placebo_treatment_refuter\", placebo_type=\"permute\")\n",
    "print(ref)\n"
   ]
  },
  {
   "cell_type": "markdown",
   "metadata": {},
   "source": [
    "### Discrete Variables (binary outcome)"
   ]
  },
  {
   "cell_type": "code",
   "execution_count": 182,
   "metadata": {},
   "outputs": [],
   "source": [
    "n_points = 1000\n",
    "education_abilty = 1\n",
    "education_voucher = 2\n",
    "income_abilty = 2\n",
    "income_education = 4\n",
    "\n",
    "\n",
    "# confounder\n",
    "ability = np.random.normal(0, 3, size=n_points)\n",
    "ability = dowhy.datasets.convert_continuous_to_discrete(ability)\n",
    "\n",
    "# instrument\n",
    "voucher = np.random.normal(2, 1, size=n_points)\n",
    "voucher = dowhy.datasets.convert_continuous_to_discrete(voucher)\n",
    "\n",
    "# treatment\n",
    "education = np.random.normal(5, 1, size=n_points) + education_abilty * ability +\\\n",
    "            education_voucher * voucher\n",
    "education = dowhy.datasets.convert_continuous_to_discrete(education)\n",
    "\n",
    "# outcome\n",
    "income = np.random.normal(10, 3, size=n_points) +\\\n",
    "         income_abilty * ability + income_education * education\n",
    "         \n",
    "income = np.where(income < income.mean(), 0, 1)"
   ]
  },
  {
   "cell_type": "markdown",
   "metadata": {},
   "source": [
    "#### Without latent variables"
   ]
  },
  {
   "cell_type": "markdown",
   "metadata": {},
   "source": [
    "- In this scenario the IV method worked for some reason"
   ]
  },
  {
   "cell_type": "code",
   "execution_count": 183,
   "metadata": {},
   "outputs": [
    {
     "data": {
      "text/html": [
       "<div>\n",
       "<style scoped>\n",
       "    .dataframe tbody tr th:only-of-type {\n",
       "        vertical-align: middle;\n",
       "    }\n",
       "\n",
       "    .dataframe tbody tr th {\n",
       "        vertical-align: top;\n",
       "    }\n",
       "\n",
       "    .dataframe thead th {\n",
       "        text-align: right;\n",
       "    }\n",
       "</style>\n",
       "<table border=\"1\" class=\"dataframe\">\n",
       "  <thead>\n",
       "    <tr style=\"text-align: right;\">\n",
       "      <th></th>\n",
       "      <th>U</th>\n",
       "      <th>voucher</th>\n",
       "      <th>education</th>\n",
       "      <th>income</th>\n",
       "    </tr>\n",
       "  </thead>\n",
       "  <tbody>\n",
       "    <tr>\n",
       "      <th>0</th>\n",
       "      <td>1</td>\n",
       "      <td>3</td>\n",
       "      <td>10</td>\n",
       "      <td>1</td>\n",
       "    </tr>\n",
       "    <tr>\n",
       "      <th>1</th>\n",
       "      <td>-1</td>\n",
       "      <td>1</td>\n",
       "      <td>6</td>\n",
       "      <td>0</td>\n",
       "    </tr>\n",
       "    <tr>\n",
       "      <th>2</th>\n",
       "      <td>2</td>\n",
       "      <td>2</td>\n",
       "      <td>11</td>\n",
       "      <td>1</td>\n",
       "    </tr>\n",
       "    <tr>\n",
       "      <th>3</th>\n",
       "      <td>2</td>\n",
       "      <td>3</td>\n",
       "      <td>13</td>\n",
       "      <td>1</td>\n",
       "    </tr>\n",
       "    <tr>\n",
       "      <th>4</th>\n",
       "      <td>-2</td>\n",
       "      <td>1</td>\n",
       "      <td>6</td>\n",
       "      <td>0</td>\n",
       "    </tr>\n",
       "  </tbody>\n",
       "</table>\n",
       "</div>"
      ],
      "text/plain": [
       "   U  voucher  education  income\n",
       "0  1        3         10       1\n",
       "1 -1        1          6       0\n",
       "2  2        2         11       1\n",
       "3  2        3         13       1\n",
       "4 -2        1          6       0"
      ]
     },
     "execution_count": 183,
     "metadata": {},
     "output_type": "execute_result"
    }
   ],
   "source": [
    "# Build dataset\n",
    "data = pd.DataFrame({\n",
    "    'U': ability,\n",
    "    'voucher': voucher,\n",
    "    'education': education,\n",
    "    'income': income\n",
    "})\n",
    "\n",
    "data.head()"
   ]
  },
  {
   "cell_type": "code",
   "execution_count": 184,
   "metadata": {},
   "outputs": [
    {
     "data": {
      "image/png": "[encoded data removed]",
      "text/plain": [
       "<Figure size 800x600 with 1 Axes>"
      ]
     },
     "metadata": {},
     "output_type": "display_data"
    }
   ],
   "source": [
    "#Step 1: Model\n",
    "model=CausalModel(\n",
    "        data = data,\n",
    "        treatment='education',\n",
    "        outcome='income',\n",
    "        common_causes=['U'],\n",
    "        instruments=['voucher']\n",
    "        )\n",
    "model.view_model()"
   ]
  },
  {
   "cell_type": "code",
   "execution_count": 185,
   "metadata": {},
   "outputs": [
    {
     "name": "stdout",
     "output_type": "stream",
     "text": [
      "Estimand type: EstimandType.NONPARAMETRIC_ATE\n",
      "\n",
      "### Estimand : 1\n",
      "Estimand name: backdoor\n",
      "Estimand expression:\n",
      "     d                   \n",
      "────────────(E[income|U])\n",
      "d[education]             \n",
      "Estimand assumption 1, Unconfoundedness: If U→{education} and U→income then P(income|education,U,U) = P(income|education,U)\n",
      "\n",
      "### Estimand : 2\n",
      "Estimand name: iv\n",
      "Estimand expression:\n",
      " ⎡                                            -1⎤\n",
      " ⎢    d              ⎛    d                  ⎞  ⎥\n",
      "E⎢──────────(income)⋅⎜──────────([education])⎟  ⎥\n",
      " ⎣d[voucher]         ⎝d[voucher]             ⎠  ⎦\n",
      "Estimand assumption 1, As-if-random: If U→→income then ¬(U →→{voucher})\n",
      "Estimand assumption 2, Exclusion: If we remove {voucher}→{education}, then ¬({voucher}→income)\n",
      "\n",
      "### Estimand : 3\n",
      "Estimand name: frontdoor\n",
      "No such variable(s) found!\n",
      "\n"
     ]
    }
   ],
   "source": [
    "# Step 2: Identify\n",
    "identified_estimand = model.identify_effect(proceed_when_unidentifiable=True)\n",
    "print(identified_estimand)"
   ]
  },
  {
   "cell_type": "code",
   "execution_count": 186,
   "metadata": {},
   "outputs": [
    {
     "name": "stdout",
     "output_type": "stream",
     "text": [
      "Refute: Use a Placebo Treatment\n",
      "Estimated effect:0.10170544008982452\n",
      "New effect:-0.0002948029390626122\n",
      "p value:0.94\n",
      "\n"
     ]
    }
   ],
   "source": [
    "# Choose the first estimand: using Linear Regression\n",
    "\n",
    "# Step 3: Estimate\n",
    "estimate = model.estimate_effect(identified_estimand,\n",
    "        method_name=\"backdoor.linear_regression\")\n",
    "\n",
    "# Step 4: Refute\n",
    "ref = model.refute_estimate(identified_estimand, estimate, method_name=\"placebo_treatment_refuter\", placebo_type=\"permute\")\n",
    "print(ref)\n"
   ]
  },
  {
   "cell_type": "code",
   "execution_count": 188,
   "metadata": {},
   "outputs": [
    {
     "name": "stdout",
     "output_type": "stream",
     "text": [
      "*** Causal Estimate ***\n",
      "\n",
      "## Identified estimand\n",
      "Estimand type: EstimandType.NONPARAMETRIC_ATE\n",
      "\n",
      "### Estimand : 1\n",
      "Estimand name: iv\n",
      "Estimand expression:\n",
      " ⎡                                            -1⎤\n",
      " ⎢    d              ⎛    d                  ⎞  ⎥\n",
      "E⎢──────────(income)⋅⎜──────────([education])⎟  ⎥\n",
      " ⎣d[voucher]         ⎝d[voucher]             ⎠  ⎦\n",
      "Estimand assumption 1, As-if-random: If U→→income then ¬(U →→{voucher})\n",
      "Estimand assumption 2, Exclusion: If we remove {voucher}→{education}, then ¬({voucher}→income)\n",
      "\n",
      "## Realized estimand\n",
      "Realized estimand: Wald Estimator\n",
      "Realized estimand type: EstimandType.NONPARAMETRIC_ATE\n",
      "Estimand expression:\n",
      "  ⎡   d            ⎤  \n",
      " E⎢────────(income)⎥  \n",
      "  ⎣dvoucher        ⎦  \n",
      "──────────────────────\n",
      " ⎡   d               ⎤\n",
      "E⎢────────(education)⎥\n",
      " ⎣dvoucher           ⎦\n",
      "Estimand assumption 1, As-if-random: If U→→income then ¬(U →→{voucher})\n",
      "Estimand assumption 2, Exclusion: If we remove {voucher}→{education}, then ¬({voucher}→income)\n",
      "Estimand assumption 3, treatment_effect_homogeneity: Each unit's treatment ['education'] is affected in the same way by common causes of ['education'] and ['income']\n",
      "Estimand assumption 4, outcome_effect_homogeneity: Each unit's outcome ['income'] is affected in the same way by common causes of ['education'] and ['income']\n",
      "\n",
      "Target units: ate\n",
      "\n",
      "## Estimate\n",
      "Mean value: 0.10009910368894469\n",
      "p-value: [0, 0.001]\n",
      "\n",
      "Refute: Use a Placebo Treatment\n",
      "Estimated effect:0.10009910368894469\n",
      "New effect:-0.000345303300519488\n",
      "p value:0.94\n",
      "\n"
     ]
    }
   ],
   "source": [
    "# Choose the second estimand: using IV\n",
    "\n",
    "# Step 3: Estimate\n",
    "estimate = model.estimate_effect(identified_estimand,\n",
    "        method_name=\"iv.instrumental_variable\", test_significance=True)\n",
    "\n",
    "print(estimate)\n",
    "\n",
    "# Step 4: Refute\n",
    "ref = model.refute_estimate(identified_estimand, estimate, method_name=\"placebo_treatment_refuter\", placebo_type=\"permute\")\n",
    "print(ref)\n"
   ]
  },
  {
   "cell_type": "markdown",
   "metadata": {},
   "source": [
    "#### `Ability` as an unobserved confounder"
   ]
  },
  {
   "cell_type": "markdown",
   "metadata": {},
   "source": [
    "- In this scenario the IV method works for some reason\n",
    "- In this scenario, no backdoor path was identified.\n",
    "- **Modeling Warning**: *\"UserWarning: 1 variables are assumed unobserved because they are not in the dataset.\"*"
   ]
  },
  {
   "cell_type": "code",
   "execution_count": 189,
   "metadata": {},
   "outputs": [
    {
     "data": {
      "text/html": [
       "<div>\n",
       "<style scoped>\n",
       "    .dataframe tbody tr th:only-of-type {\n",
       "        vertical-align: middle;\n",
       "    }\n",
       "\n",
       "    .dataframe tbody tr th {\n",
       "        vertical-align: top;\n",
       "    }\n",
       "\n",
       "    .dataframe thead th {\n",
       "        text-align: right;\n",
       "    }\n",
       "</style>\n",
       "<table border=\"1\" class=\"dataframe\">\n",
       "  <thead>\n",
       "    <tr style=\"text-align: right;\">\n",
       "      <th></th>\n",
       "      <th>voucher</th>\n",
       "      <th>education</th>\n",
       "      <th>income</th>\n",
       "    </tr>\n",
       "  </thead>\n",
       "  <tbody>\n",
       "    <tr>\n",
       "      <th>0</th>\n",
       "      <td>3</td>\n",
       "      <td>10</td>\n",
       "      <td>1</td>\n",
       "    </tr>\n",
       "    <tr>\n",
       "      <th>1</th>\n",
       "      <td>1</td>\n",
       "      <td>6</td>\n",
       "      <td>0</td>\n",
       "    </tr>\n",
       "    <tr>\n",
       "      <th>2</th>\n",
       "      <td>2</td>\n",
       "      <td>11</td>\n",
       "      <td>1</td>\n",
       "    </tr>\n",
       "    <tr>\n",
       "      <th>3</th>\n",
       "      <td>3</td>\n",
       "      <td>13</td>\n",
       "      <td>1</td>\n",
       "    </tr>\n",
       "    <tr>\n",
       "      <th>4</th>\n",
       "      <td>1</td>\n",
       "      <td>6</td>\n",
       "      <td>0</td>\n",
       "    </tr>\n",
       "  </tbody>\n",
       "</table>\n",
       "</div>"
      ],
      "text/plain": [
       "   voucher  education  income\n",
       "0        3         10       1\n",
       "1        1          6       0\n",
       "2        2         11       1\n",
       "3        3         13       1\n",
       "4        1          6       0"
      ]
     },
     "execution_count": 189,
     "metadata": {},
     "output_type": "execute_result"
    }
   ],
   "source": [
    "# Build dataset\n",
    "data = pd.DataFrame({\n",
    "    'voucher': voucher,\n",
    "    'education': education,\n",
    "    'income': income\n",
    "})\n",
    "\n",
    "data.head()"
   ]
  },
  {
   "cell_type": "code",
   "execution_count": 190,
   "metadata": {},
   "outputs": [
    {
     "name": "stderr",
     "output_type": "stream",
     "text": [
      "c:\\Python310\\lib\\site-packages\\dowhy\\causal_model.py:582: UserWarning: 1 variables are assumed unobserved because they are not in the dataset. Configure the logging level to `logging.WARNING` or higher for additional details.\n",
      "  warnings.warn(\n"
     ]
    },
    {
     "data": {
      "image/png": "[encoded data removed]",
      "text/plain": [
       "<Figure size 800x600 with 1 Axes>"
      ]
     },
     "metadata": {},
     "output_type": "display_data"
    }
   ],
   "source": [
    "#Step 1: Model\n",
    "model=CausalModel(\n",
    "        data = data,\n",
    "        treatment='education',\n",
    "        outcome='income',\n",
    "        common_causes=['U'],\n",
    "        instruments=['voucher']\n",
    "        )\n",
    "model.view_model()"
   ]
  },
  {
   "cell_type": "code",
   "execution_count": 191,
   "metadata": {},
   "outputs": [
    {
     "name": "stdout",
     "output_type": "stream",
     "text": [
      "Estimand type: EstimandType.NONPARAMETRIC_ATE\n",
      "\n",
      "### Estimand : 1\n",
      "Estimand name: backdoor\n",
      "No such variable(s) found!\n",
      "\n",
      "### Estimand : 2\n",
      "Estimand name: iv\n",
      "Estimand expression:\n",
      " ⎡                                            -1⎤\n",
      " ⎢    d              ⎛    d                  ⎞  ⎥\n",
      "E⎢──────────(income)⋅⎜──────────([education])⎟  ⎥\n",
      " ⎣d[voucher]         ⎝d[voucher]             ⎠  ⎦\n",
      "Estimand assumption 1, As-if-random: If U→→income then ¬(U →→{voucher})\n",
      "Estimand assumption 2, Exclusion: If we remove {voucher}→{education}, then ¬({voucher}→income)\n",
      "\n",
      "### Estimand : 3\n",
      "Estimand name: frontdoor\n",
      "No such variable(s) found!\n",
      "\n"
     ]
    }
   ],
   "source": [
    "# Step 2: Identify\n",
    "identified_estimand = model.identify_effect(proceed_when_unidentifiable=True)\n",
    "print(identified_estimand)"
   ]
  },
  {
   "cell_type": "code",
   "execution_count": 192,
   "metadata": {},
   "outputs": [
    {
     "name": "stdout",
     "output_type": "stream",
     "text": [
      "*** Causal Estimate ***\n",
      "\n",
      "## Identified estimand\n",
      "Estimand type: EstimandType.NONPARAMETRIC_ATE\n",
      "\n",
      "### Estimand : 1\n",
      "Estimand name: iv\n",
      "Estimand expression:\n",
      " ⎡                                            -1⎤\n",
      " ⎢    d              ⎛    d                  ⎞  ⎥\n",
      "E⎢──────────(income)⋅⎜──────────([education])⎟  ⎥\n",
      " ⎣d[voucher]         ⎝d[voucher]             ⎠  ⎦\n",
      "Estimand assumption 1, As-if-random: If U→→income then ¬(U →→{voucher})\n",
      "Estimand assumption 2, Exclusion: If we remove {voucher}→{education}, then ¬({voucher}→income)\n",
      "\n",
      "## Realized estimand\n",
      "Realized estimand: Wald Estimator\n",
      "Realized estimand type: EstimandType.NONPARAMETRIC_ATE\n",
      "Estimand expression:\n",
      "  ⎡   d            ⎤  \n",
      " E⎢────────(income)⎥  \n",
      "  ⎣dvoucher        ⎦  \n",
      "──────────────────────\n",
      " ⎡   d               ⎤\n",
      "E⎢────────(education)⎥\n",
      " ⎣dvoucher           ⎦\n",
      "Estimand assumption 1, As-if-random: If U→→income then ¬(U →→{voucher})\n",
      "Estimand assumption 2, Exclusion: If we remove {voucher}→{education}, then ¬({voucher}→income)\n",
      "Estimand assumption 3, treatment_effect_homogeneity: Each unit's treatment ['education'] is affected in the same way by common causes of ['education'] and ['income']\n",
      "Estimand assumption 4, outcome_effect_homogeneity: Each unit's outcome ['income'] is affected in the same way by common causes of ['education'] and ['income']\n",
      "\n",
      "Target units: ate\n",
      "\n",
      "## Estimate\n",
      "Mean value: 0.10009910368894469\n",
      "p-value: [0, 0.001]\n",
      "\n",
      "Refute: Use a Placebo Treatment\n",
      "Estimated effect:0.10009910368894469\n",
      "New effect:0.0005138507118665585\n",
      "p value:0.98\n",
      "\n"
     ]
    }
   ],
   "source": [
    "# Choose the second estimand: using IV\n",
    "\n",
    "# Step 3: Estimate\n",
    "estimate = model.estimate_effect(identified_estimand,\n",
    "        method_name=\"iv.instrumental_variable\", test_significance=True)\n",
    "\n",
    "print(estimate)\n",
    "\n",
    "# Step 4: Refute\n",
    "ref = model.refute_estimate(identified_estimand, estimate, method_name=\"placebo_treatment_refuter\", placebo_type=\"permute\")\n",
    "print(ref)\n"
   ]
  },
  {
   "cell_type": "markdown",
   "metadata": {},
   "source": [
    "## Basic Confounder Example\n",
    "\n",
    "<center><img src=\"./figures/image-1.png\"></center>"
   ]
  },
  {
   "cell_type": "markdown",
   "metadata": {},
   "source": [
    "### Binary Treatment and Outcome, Discrete Confounder"
   ]
  },
  {
   "cell_type": "code",
   "execution_count": 245,
   "metadata": {},
   "outputs": [
    {
     "data": {
      "text/html": [
       "<div>\n",
       "<style scoped>\n",
       "    .dataframe tbody tr th:only-of-type {\n",
       "        vertical-align: middle;\n",
       "    }\n",
       "\n",
       "    .dataframe tbody tr th {\n",
       "        vertical-align: top;\n",
       "    }\n",
       "\n",
       "    .dataframe thead th {\n",
       "        text-align: right;\n",
       "    }\n",
       "</style>\n",
       "<table border=\"1\" class=\"dataframe\">\n",
       "  <thead>\n",
       "    <tr style=\"text-align: right;\">\n",
       "      <th></th>\n",
       "      <th>X1</th>\n",
       "      <th>X2</th>\n",
       "      <th>U1</th>\n",
       "    </tr>\n",
       "  </thead>\n",
       "  <tbody>\n",
       "    <tr>\n",
       "      <th>0</th>\n",
       "      <td>0</td>\n",
       "      <td>0</td>\n",
       "      <td>0</td>\n",
       "    </tr>\n",
       "    <tr>\n",
       "      <th>1</th>\n",
       "      <td>0</td>\n",
       "      <td>0</td>\n",
       "      <td>0</td>\n",
       "    </tr>\n",
       "    <tr>\n",
       "      <th>2</th>\n",
       "      <td>0</td>\n",
       "      <td>0</td>\n",
       "      <td>0</td>\n",
       "    </tr>\n",
       "    <tr>\n",
       "      <th>3</th>\n",
       "      <td>0</td>\n",
       "      <td>0</td>\n",
       "      <td>0</td>\n",
       "    </tr>\n",
       "    <tr>\n",
       "      <th>4</th>\n",
       "      <td>0</td>\n",
       "      <td>0</td>\n",
       "      <td>0</td>\n",
       "    </tr>\n",
       "    <tr>\n",
       "      <th>...</th>\n",
       "      <td>...</td>\n",
       "      <td>...</td>\n",
       "      <td>...</td>\n",
       "    </tr>\n",
       "    <tr>\n",
       "      <th>95</th>\n",
       "      <td>1</td>\n",
       "      <td>1</td>\n",
       "      <td>3</td>\n",
       "    </tr>\n",
       "    <tr>\n",
       "      <th>96</th>\n",
       "      <td>1</td>\n",
       "      <td>1</td>\n",
       "      <td>3</td>\n",
       "    </tr>\n",
       "    <tr>\n",
       "      <th>97</th>\n",
       "      <td>1</td>\n",
       "      <td>1</td>\n",
       "      <td>3</td>\n",
       "    </tr>\n",
       "    <tr>\n",
       "      <th>98</th>\n",
       "      <td>1</td>\n",
       "      <td>1</td>\n",
       "      <td>3</td>\n",
       "    </tr>\n",
       "    <tr>\n",
       "      <th>99</th>\n",
       "      <td>1</td>\n",
       "      <td>1</td>\n",
       "      <td>3</td>\n",
       "    </tr>\n",
       "  </tbody>\n",
       "</table>\n",
       "<p>100 rows × 3 columns</p>\n",
       "</div>"
      ],
      "text/plain": [
       "    X1  X2  U1\n",
       "0    0   0   0\n",
       "1    0   0   0\n",
       "2    0   0   0\n",
       "3    0   0   0\n",
       "4    0   0   0\n",
       "..  ..  ..  ..\n",
       "95   1   1   3\n",
       "96   1   1   3\n",
       "97   1   1   3\n",
       "98   1   1   3\n",
       "99   1   1   3\n",
       "\n",
       "[100 rows x 3 columns]"
      ]
     },
     "execution_count": 245,
     "metadata": {},
     "output_type": "execute_result"
    }
   ],
   "source": [
    "# Parsing the UAI file\n",
    "model_uai = UAIParser(\"../uai_examples/example-lcn3.uai\", [\"X1\", \"X2\", \"U1\"])\n",
    "model_uai.parse()\n",
    "\n",
    "# Load the data\n",
    "data = model_uai.generate_data()\n",
    "data"
   ]
  },
  {
   "cell_type": "code",
   "execution_count": 250,
   "metadata": {},
   "outputs": [
    {
     "data": {
      "image/png": "[encoded data removed]",
      "text/plain": [
       "<Figure size 800x600 with 1 Axes>"
      ]
     },
     "metadata": {},
     "output_type": "display_data"
    }
   ],
   "source": [
    "# Modeling\n",
    "model = CausalModel(\n",
    "    data=data,\n",
    "    treatment=\"X1\",\n",
    "    outcome=\"X2\",\n",
    "    graph=model_uai.graph\n",
    ")\n",
    "\n",
    "model.view_model()"
   ]
  },
  {
   "cell_type": "code",
   "execution_count": null,
   "metadata": {},
   "outputs": [],
   "source": []
  }
 ],
 "metadata": {
  "kernelspec": {
   "display_name": "Python 3",
   "language": "python",
   "name": "python3"
  },
  "language_info": {
   "codemirror_mode": {
    "name": "ipython",
    "version": 3
   },
   "file_extension": ".py",
   "mimetype": "text/x-python",
   "name": "python",
   "nbconvert_exporter": "python",
   "pygments_lexer": "ipython3",
   "version": "3.10.7"
  }
 },
 "nbformat": 4,
 "nbformat_minor": 2
}
