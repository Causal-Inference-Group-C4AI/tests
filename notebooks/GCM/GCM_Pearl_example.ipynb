{
 "cells": [
  {
   "cell_type": "markdown",
   "metadata": {},
   "source": [
    "# Using GCM to solve a simplified version of Pearl's example"
   ]
  },
  {
   "cell_type": "code",
   "execution_count": 223,
   "metadata": {},
   "outputs": [],
   "source": [
    "from dowhy import gcm\n",
    "import networkx as nx\n",
    "import matplotlib.pyplot as plt\n",
    "import pandas as pd"
   ]
  },
  {
   "cell_type": "markdown",
   "metadata": {},
   "source": [
    "### Creating the GCM"
   ]
  },
  {
   "cell_type": "markdown",
   "metadata": {},
   "source": [
    "#### Setting the DAG"
   ]
  },
  {
   "cell_type": "code",
   "execution_count": 224,
   "metadata": {},
   "outputs": [
    {
     "data": {
      "image/png": "[encoded data removed]",
      "text/plain": [
       "<Figure size 640x480 with 1 Axes>"
      ]
     },
     "metadata": {},
     "output_type": "display_data"
    }
   ],
   "source": [
    "causal_graph = nx.DiGraph([\n",
    "    ('Z', 'D'),\n",
    "    ('D', 'Y')\n",
    "])\n",
    "\n",
    "causal_model = gcm.StructuralCausalModel(causal_graph)\n",
    "\n",
    "nx.draw(causal_graph, with_labels=True, node_size=2000, node_color='lightblue', font_size=10, font_weight='bold')\n",
    "plt.show()"
   ]
  },
  {
   "cell_type": "markdown",
   "metadata": {},
   "source": [
    "#### Setting the causal mechanisms"
   ]
  },
  {
   "cell_type": "code",
   "execution_count": 225,
   "metadata": {},
   "outputs": [],
   "source": [
    "# Since Z is an exogenous variable, we can set its distribution to be empirical\n",
    "# For D and Y, we can set their causal mechanisms to be classifiers, which can be trained on data\n",
    "\n",
    "#From the documentation:\n",
    "#ClassifierGCM represents the categorical functional causal model of the form\n",
    "#Y = f(D, N),\n",
    "#where D is the input (typically, direct causal parents of Y) and the noise N here is uniform on [0, 1]. \n",
    "#The model is mostly based on a standard classification model that outputs probabilities. \n",
    "#In order to generate a new random sample given an input x, the return value y is uniformly sampled based on the class probabilities p(y | x). \n",
    "#Here, the noise is used to make this sampling process deterministic by using the cumulative distribution functions defined by the given inputs.\n",
    "\n",
    "causal_model.set_causal_mechanism('Z', gcm.EmpiricalDistribution())\n",
    "causal_model.set_causal_mechanism('D', gcm.ClassifierFCM())\n",
    "causal_model.set_causal_mechanism('Y', gcm.ClassifierFCM())"
   ]
  },
  {
   "cell_type": "markdown",
   "metadata": {},
   "source": [
    "#### Retrieving data"
   ]
  },
  {
   "cell_type": "code",
   "execution_count": 226,
   "metadata": {},
   "outputs": [
    {
     "name": "stdout",
     "output_type": "stream",
     "text": [
      "   Z  D  Y\n",
      "0  0  0  0\n",
      "1  0  0  0\n",
      "2  0  0  0\n",
      "3  0  0  0\n",
      "4  0  0  0\n"
     ]
    }
   ],
   "source": [
    "data = pd.read_csv(\"../../data/balke_pearl.csv\")\n",
    "data.rename(columns={'X': 'D'}, inplace=True)\n",
    "data = data.astype(str)\n",
    "print(data.head())"
   ]
  },
  {
   "cell_type": "markdown",
   "metadata": {},
   "source": [
    "#### Fitting the model and generating new data"
   ]
  },
  {
   "cell_type": "code",
   "execution_count": 227,
   "metadata": {},
   "outputs": [
    {
     "name": "stderr",
     "output_type": "stream",
     "text": [
      "Fitting causal mechanism of node Y: 100%|██████████| 3/3 [00:00<00:00, 25.13it/s]"
     ]
    },
    {
     "name": "stdout",
     "output_type": "stream",
     "text": [
      "   Z  D  Y\n",
      "0  0  1  1\n",
      "1  0  0  0\n",
      "2  0  1  0\n",
      "3  0  1  0\n",
      "4  0  1  1\n"
     ]
    },
    {
     "name": "stderr",
     "output_type": "stream",
     "text": [
      "\n"
     ]
    }
   ],
   "source": [
    "gcm.fit(causal_model, data)\n",
    "generated_data = gcm.draw_samples(causal_model, num_samples=1000)\n",
    "print(generated_data.head())"
   ]
  },
  {
   "cell_type": "markdown",
   "metadata": {},
   "source": [
    "### Calculating the ACE"
   ]
  },
  {
   "cell_type": "code",
   "execution_count": 228,
   "metadata": {},
   "outputs": [
    {
     "data": {
      "image/png": "[encoded data removed]",
      "text/latex": [
       "$\\displaystyle 0.241$"
      ],
      "text/plain": [
       "np.float64(0.241)"
      ]
     },
     "execution_count": 228,
     "metadata": {},
     "output_type": "execute_result"
    }
   ],
   "source": [
    "gcm.average_causal_effect(causal_model,\n",
    "                         'Y',\n",
    "                         interventions_alternative={'D': lambda x: '1'},\n",
    "                         interventions_reference={'D': lambda x: '0'},\n",
    "                         num_samples_to_draw=1000)\n"
   ]
  },
  {
   "cell_type": "markdown",
   "metadata": {},
   "source": [
    "### Estimating confidence intervals (Confidence level = 0.95)"
   ]
  },
  {
   "cell_type": "code",
   "execution_count": 229,
   "metadata": {},
   "outputs": [
    {
     "name": "stderr",
     "output_type": "stream",
     "text": [
      "Estimating bootstrap interval...: 100%|██████████| 20/20 [00:00<00:00, 33.50it/s]\n"
     ]
    },
    {
     "data": {
      "text/plain": [
       "(array([0.23471357]), array([[0.20545, 0.27   ]]))"
      ]
     },
     "execution_count": 229,
     "metadata": {},
     "output_type": "execute_result"
    }
   ],
   "source": [
    "gcm.confidence_intervals(lambda: gcm.average_causal_effect(causal_model,\n",
    "                         'Y',\n",
    "                         interventions_alternative={'D': lambda x: '1'},\n",
    "                         interventions_reference={'D': lambda x: '0'},\n",
    "                         num_samples_to_draw=1000))"
   ]
  },
  {
   "cell_type": "markdown",
   "metadata": {},
   "source": [
    "Since we removed the unobserved confounder, we can say:\n",
    "$$ E[Y| do(D=0)] = P(Y=1|D=0) $$\n",
    "$$ E[Y| do(D=1)] = P(Y=1|D=1) $$\n",
    "So we can calculate the ACE by doing:\n",
    "$$ P(Y=1|D=1) - P(Y=1|D=0) = 0.5 - 0.26 = 0.24 $$"
   ]
  },
  {
   "cell_type": "markdown",
   "metadata": {},
   "source": [
    "Since we found a value close to 0.24, the result can be considered satisfactory."
   ]
  }
 ],
 "metadata": {
  "kernelspec": {
   "display_name": "Python 3",
   "language": "python",
   "name": "python3"
  },
  "language_info": {
   "codemirror_mode": {
    "name": "ipython",
    "version": 3
   },
   "file_extension": ".py",
   "mimetype": "text/x-python",
   "name": "python",
   "nbconvert_exporter": "python",
   "pygments_lexer": "ipython3",
   "version": "3.11.5"
  }
 },
 "nbformat": 4,
 "nbformat_minor": 2
}
