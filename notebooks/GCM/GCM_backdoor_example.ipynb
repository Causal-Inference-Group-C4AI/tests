{
 "cells": [
  {
   "cell_type": "markdown",
   "metadata": {},
   "source": [
    "# Testing GCM's perfomance when there's a backdoor"
   ]
  },
  {
   "cell_type": "code",
   "execution_count": 92,
   "metadata": {},
   "outputs": [],
   "source": [
    "from dowhy import gcm\n",
    "import networkx as nx\n",
    "import matplotlib.pyplot as plt\n",
    "import pandas as pd\n",
    "import numpy as np"
   ]
  },
  {
   "cell_type": "markdown",
   "metadata": {},
   "source": [
    "### Creating the GCM"
   ]
  },
  {
   "cell_type": "markdown",
   "metadata": {},
   "source": [
    "#### Setting the DAG"
   ]
  },
  {
   "cell_type": "code",
   "execution_count": 93,
   "metadata": {},
   "outputs": [
    {
     "data": {
      "image/png": "[encoded data removed]",
      "text/plain": [
       "<Figure size 640x480 with 1 Axes>"
      ]
     },
     "metadata": {},
     "output_type": "display_data"
    }
   ],
   "source": [
    "causal_graph = nx.DiGraph([\n",
    "    ('C', 'X'),\n",
    "    ('X', 'Y'),\n",
    "    ('C', 'Y'),\n",
    "])\n",
    "\n",
    "causal_model = gcm.StructuralCausalModel(causal_graph)\n",
    "\n",
    "nx.draw(causal_graph, with_labels=True, node_size=2000, node_color='lightblue', font_size=10, font_weight='bold')\n",
    "plt.show()"
   ]
  },
  {
   "cell_type": "markdown",
   "metadata": {},
   "source": [
    "In this example, $C$ is a confounder and the path $X \\leftarrow C \\rightarrow Y$ forms a backdoor path between X and Y, which could compromise the causal effect estimation between the two if it isn't accounted for."
   ]
  },
  {
   "cell_type": "markdown",
   "metadata": {},
   "source": [
    "#### Generating data"
   ]
  },
  {
   "cell_type": "code",
   "execution_count": 94,
   "metadata": {},
   "outputs": [
    {
     "data": {
      "text/html": [
       "<div>\n",
       "<style scoped>\n",
       "    .dataframe tbody tr th:only-of-type {\n",
       "        vertical-align: middle;\n",
       "    }\n",
       "\n",
       "    .dataframe tbody tr th {\n",
       "        vertical-align: top;\n",
       "    }\n",
       "\n",
       "    .dataframe thead th {\n",
       "        text-align: right;\n",
       "    }\n",
       "</style>\n",
       "<table border=\"1\" class=\"dataframe\">\n",
       "  <thead>\n",
       "    <tr style=\"text-align: right;\">\n",
       "      <th></th>\n",
       "      <th>C</th>\n",
       "      <th>X</th>\n",
       "      <th>Y</th>\n",
       "    </tr>\n",
       "  </thead>\n",
       "  <tbody>\n",
       "    <tr>\n",
       "      <th>0</th>\n",
       "      <td>0.496714</td>\n",
       "      <td>1.693106</td>\n",
       "      <td>5.149211</td>\n",
       "    </tr>\n",
       "    <tr>\n",
       "      <th>1</th>\n",
       "      <td>-0.138264</td>\n",
       "      <td>0.185788</td>\n",
       "      <td>0.205450</td>\n",
       "    </tr>\n",
       "    <tr>\n",
       "      <th>2</th>\n",
       "      <td>0.647689</td>\n",
       "      <td>1.325192</td>\n",
       "      <td>4.154690</td>\n",
       "    </tr>\n",
       "    <tr>\n",
       "      <th>3</th>\n",
       "      <td>1.523030</td>\n",
       "      <td>2.722591</td>\n",
       "      <td>10.144357</td>\n",
       "    </tr>\n",
       "    <tr>\n",
       "      <th>4</th>\n",
       "      <td>-0.234153</td>\n",
       "      <td>-0.119195</td>\n",
       "      <td>-2.602430</td>\n",
       "    </tr>\n",
       "  </tbody>\n",
       "</table>\n",
       "</div>"
      ],
      "text/plain": [
       "          C         X          Y\n",
       "0  0.496714  1.693106   5.149211\n",
       "1 -0.138264  0.185788   0.205450\n",
       "2  0.647689  1.325192   4.154690\n",
       "3  1.523030  2.722591  10.144357\n",
       "4 -0.234153 -0.119195  -2.602430"
      ]
     },
     "execution_count": 94,
     "metadata": {},
     "output_type": "execute_result"
    }
   ],
   "source": [
    "# Set a random seed for reproducibility\n",
    "np.random.seed(42)\n",
    "\n",
    "# Number of samples\n",
    "n_samples = 1000\n",
    "\n",
    "# Step 1: Generate C as a continuous variable (e.g., from a normal distribution)\n",
    "C = np.random.normal(loc=0, scale=1, size=n_samples)  # Mean 0, standard deviation 1\n",
    "\n",
    "# Step 2: Generate X as a function of C with added noise\n",
    "X = 2 * C + np.random.normal(loc=0, scale=0.5, size=n_samples)  # Linear function of C with noise\n",
    "\n",
    "# Step 3: Generate Y as a function of both X and C with added noise\n",
    "Y = 3 * X + 1.5 * C + np.random.normal(loc=0, scale=1, size=n_samples)  # Linear combination of X and C with noise\n",
    "\n",
    "# Create a DataFrame to store the generated data\n",
    "data = pd.DataFrame({'C': C, 'X': X, 'Y': Y})\n",
    "\n",
    "# Display the first few rows of the generated data\n",
    "data.head()\n"
   ]
  },
  {
   "cell_type": "markdown",
   "metadata": {},
   "source": [
    "#### Setting the causal mechanisms"
   ]
  },
  {
   "cell_type": "markdown",
   "metadata": {},
   "source": [
    "We will automatically assign a causal mechanism to each of the variables, given the graph and the generated data. For the exogenous variable $C$, it should assign an Empirical Distribution. For the endogenous variables $X$ and $Y$, since they are continuous, it should assign an Additive Noise Model. "
   ]
  },
  {
   "cell_type": "code",
   "execution_count": 95,
   "metadata": {},
   "outputs": [
    {
     "data": {
      "text/plain": [
       "<dowhy.gcm.auto.AutoAssignmentSummary at 0x1ec9b367e90>"
      ]
     },
     "execution_count": 95,
     "metadata": {},
     "output_type": "execute_result"
    }
   ],
   "source": [
    "gcm.auto.assign_causal_mechanisms(causal_model, data)"
   ]
  },
  {
   "cell_type": "markdown",
   "metadata": {},
   "source": [
    "#### Fitting the model and generating new data"
   ]
  },
  {
   "cell_type": "code",
   "execution_count": 96,
   "metadata": {},
   "outputs": [
    {
     "name": "stderr",
     "output_type": "stream",
     "text": [
      "Fitting causal mechanism of node Y: 100%|██████████| 3/3 [00:00<00:00, 429.66it/s]"
     ]
    },
    {
     "name": "stdout",
     "output_type": "stream",
     "text": [
      "          C         X          Y\n",
      "0 -0.637387 -0.710887  -3.621693\n",
      "1  0.538910  1.869126   4.570256\n",
      "2 -2.025143 -3.972251 -13.599728\n",
      "3 -2.025143 -3.581597 -13.368358\n",
      "4 -0.485364 -1.025866  -2.634138\n"
     ]
    },
    {
     "name": "stderr",
     "output_type": "stream",
     "text": [
      "\n"
     ]
    }
   ],
   "source": [
    "gcm.fit(causal_model, data)\n",
    "generated_data = gcm.draw_samples(causal_model, num_samples=1000)\n",
    "print(generated_data.head())"
   ]
  },
  {
   "cell_type": "markdown",
   "metadata": {},
   "source": [
    "### Calculating the ACE"
   ]
  },
  {
   "cell_type": "code",
   "execution_count": 97,
   "metadata": {},
   "outputs": [
    {
     "data": {
      "image/png": "[encoded data removed]",
      "text/latex": [
       "$\\displaystyle 3.09458507642919$"
      ],
      "text/plain": [
       "3.094585076429189"
      ]
     },
     "execution_count": 97,
     "metadata": {},
     "output_type": "execute_result"
    }
   ],
   "source": [
    "gcm.average_causal_effect(causal_model,\n",
    "                         'Y',\n",
    "                         interventions_alternative={'X': lambda x: '1'},\n",
    "                         interventions_reference={'X': lambda x: '0'},\n",
    "                         num_samples_to_draw=1000)"
   ]
  },
  {
   "cell_type": "markdown",
   "metadata": {},
   "source": [
    "### Estimating confidence intervals (Confidence level = 0.95)"
   ]
  },
  {
   "cell_type": "code",
   "execution_count": 98,
   "metadata": {},
   "outputs": [
    {
     "name": "stderr",
     "output_type": "stream",
     "text": [
      "Estimating bootstrap interval...: 100%|██████████| 20/20 [00:00<00:00, 106.59it/s]\n"
     ]
    },
    {
     "data": {
      "text/plain": [
       "(array([2.98649596]), array([[2.94055752, 3.01028812]]))"
      ]
     },
     "execution_count": 98,
     "metadata": {},
     "output_type": "execute_result"
    }
   ],
   "source": [
    "gcm.confidence_intervals(lambda: gcm.average_causal_effect(causal_model,\n",
    "                         'Y',\n",
    "                         interventions_alternative={'X': lambda x: '1'},\n",
    "                         interventions_reference={'X': lambda x: '0'},\n",
    "                         num_samples_to_draw=1000))"
   ]
  },
  {
   "cell_type": "markdown",
   "metadata": {},
   "source": [
    "Considering $Y = 3X + 1.5C + \\epsilon (\\epsilon: Noise)$, the value we were looking for was 3, the causal effect of $X$ on $Y$. In that case, the result seems satisfactory.\n"
   ]
  }
 ],
 "metadata": {
  "kernelspec": {
   "display_name": "Python 3",
   "language": "python",
   "name": "python3"
  },
  "language_info": {
   "codemirror_mode": {
    "name": "ipython",
    "version": 3
   },
   "file_extension": ".py",
   "mimetype": "text/x-python",
   "name": "python",
   "nbconvert_exporter": "python",
   "pygments_lexer": "ipython3",
   "version": "3.11.0"
  }
 },
 "nbformat": 4,
 "nbformat_minor": 2
}
