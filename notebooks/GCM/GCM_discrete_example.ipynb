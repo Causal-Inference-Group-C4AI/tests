{
 "cells": [
  {
   "cell_type": "markdown",
   "metadata": {},
   "source": [
    "# Testing GCM's perfomance while handling discrete variables"
   ]
  },
  {
   "cell_type": "code",
   "execution_count": 420,
   "metadata": {},
   "outputs": [],
   "source": [
    "from dowhy import gcm\n",
    "import networkx as nx\n",
    "import matplotlib.pyplot as plt\n",
    "import pandas as pd\n",
    "import numpy as np\n",
    "from sklearn.ensemble import RandomForestClassifier"
   ]
  },
  {
   "cell_type": "markdown",
   "metadata": {},
   "source": [
    "### Creating the GCM"
   ]
  },
  {
   "cell_type": "markdown",
   "metadata": {},
   "source": [
    "#### Setting the DAG"
   ]
  },
  {
   "cell_type": "code",
   "execution_count": 421,
   "metadata": {},
   "outputs": [
    {
     "data": {
      "image/png": "[encoded data removed]",
      "text/plain": [
       "<Figure size 640x480 with 1 Axes>"
      ]
     },
     "metadata": {},
     "output_type": "display_data"
    }
   ],
   "source": [
    "causal_graph = nx.DiGraph([\n",
    "    ('X', 'Y'),\n",
    "    ('Z', 'X')\n",
    "])\n",
    "\n",
    "causal_model = gcm.StructuralCausalModel(causal_graph)\n",
    "\n",
    "nx.draw(causal_graph, with_labels=True, node_size=2000, node_color='lightblue', font_size=10, font_weight='bold')\n",
    "plt.show()"
   ]
  },
  {
   "cell_type": "markdown",
   "metadata": {},
   "source": [
    "#### Generating data"
   ]
  },
  {
   "cell_type": "markdown",
   "metadata": {},
   "source": [
    "$Z$ is a discrete variable with probabilities:\n",
    "$$ P(Z=0) = 0.3 $$\n",
    "$$ P(Z=1) = 0.4 $$\n",
    "$$ P(Z=2) = 0.3 $$\n",
    "\n",
    "$X$ is a binary variable that depends on $Z$ with probabilities:\n",
    "$$ P(X = 1| Z = 0) = 0.2 $$\n",
    "$$ P(X = 1| Z = 1) = 0.5 $$\n",
    "$$ P(X = 1| Z = 2) = 0.8 $$\n",
    "\n",
    "$Y$ is a binary variable that depends directly on $X$ with probabilities:\n",
    "$$ P(Y=1|X=0) = 0.3 $$\n",
    "$$ P(Y=1|X=1) = 0.7 $$"
   ]
  },
  {
   "cell_type": "code",
   "execution_count": 422,
   "metadata": {},
   "outputs": [
    {
     "data": {
      "text/html": [
       "<div>\n",
       "<style scoped>\n",
       "    .dataframe tbody tr th:only-of-type {\n",
       "        vertical-align: middle;\n",
       "    }\n",
       "\n",
       "    .dataframe tbody tr th {\n",
       "        vertical-align: top;\n",
       "    }\n",
       "\n",
       "    .dataframe thead th {\n",
       "        text-align: right;\n",
       "    }\n",
       "</style>\n",
       "<table border=\"1\" class=\"dataframe\">\n",
       "  <thead>\n",
       "    <tr style=\"text-align: right;\">\n",
       "      <th></th>\n",
       "      <th>Z</th>\n",
       "      <th>X</th>\n",
       "      <th>Y</th>\n",
       "    </tr>\n",
       "  </thead>\n",
       "  <tbody>\n",
       "    <tr>\n",
       "      <th>0</th>\n",
       "      <td>0</td>\n",
       "      <td>0</td>\n",
       "      <td>0</td>\n",
       "    </tr>\n",
       "    <tr>\n",
       "      <th>1</th>\n",
       "      <td>2</td>\n",
       "      <td>1</td>\n",
       "      <td>0</td>\n",
       "    </tr>\n",
       "    <tr>\n",
       "      <th>2</th>\n",
       "      <td>1</td>\n",
       "      <td>0</td>\n",
       "      <td>1</td>\n",
       "    </tr>\n",
       "    <tr>\n",
       "      <th>3</th>\n",
       "      <td>1</td>\n",
       "      <td>0</td>\n",
       "      <td>1</td>\n",
       "    </tr>\n",
       "    <tr>\n",
       "      <th>4</th>\n",
       "      <td>0</td>\n",
       "      <td>1</td>\n",
       "      <td>1</td>\n",
       "    </tr>\n",
       "  </tbody>\n",
       "</table>\n",
       "</div>"
      ],
      "text/plain": [
       "   Z  X  Y\n",
       "0  0  0  0\n",
       "1  2  1  0\n",
       "2  1  0  1\n",
       "3  1  0  1\n",
       "4  0  1  1"
      ]
     },
     "execution_count": 422,
     "metadata": {},
     "output_type": "execute_result"
    }
   ],
   "source": [
    "# Number of samples to generate\n",
    "n_samples = 1000\n",
    "\n",
    "# Generate Z as a discrete variable (e.g., values 0, 1, 2)\n",
    "Z_values = np.array([0, 1, 2])\n",
    "Z_probs = np.array([0.3, 0.4, 0.3])  # Probabilities for Z=0,1,2\n",
    "Z = np.random.choice(Z_values, size=n_samples, p=Z_probs)\n",
    "\n",
    "# Generate X conditional on Z\n",
    "# X is binary: 0 or 1\n",
    "# Define P(X=1 | Z)\n",
    "P_X_given_Z = np.array([0.2, 0.5, 0.8])  # For Z=0,1,2 respectively\n",
    "\n",
    "X = np.zeros(n_samples, dtype=int)\n",
    "for idx, z in enumerate(Z):\n",
    "    p_x_given_z = P_X_given_Z[z]\n",
    "    X[idx] = np.random.binomial(1, p_x_given_z)\n",
    "\n",
    "# Generate Y conditional on X\n",
    "# Y is binary: 0 or 1\n",
    "# Define P(Y=1 | X)\n",
    "P_Y_given_X = np.array([0.3, 0.7])  # For X=0,1 respectively\n",
    "\n",
    "Y = np.zeros(n_samples, dtype=int)\n",
    "for idx, x in enumerate(X):\n",
    "    p_y_given_x = P_Y_given_X[x]\n",
    "    Y[idx] = np.random.binomial(1, p_y_given_x)\n",
    "\n",
    "# Create a DataFrame to store the data\n",
    "data = pd.DataFrame({\n",
    "    'Z': Z,\n",
    "    'X': X,\n",
    "    'Y': Y\n",
    "})\n",
    "data = data.astype(str)\n",
    "\n",
    "# Display the first few rows of the data\n",
    "data.head()\n"
   ]
  },
  {
   "cell_type": "markdown",
   "metadata": {},
   "source": [
    "#### Setting the causal mechanisms"
   ]
  },
  {
   "cell_type": "markdown",
   "metadata": {},
   "source": [
    "In this example, we will set $Z$'s causal mechanism to be an Empirical Distribution, since it's an exogenous variable, and $X$'s and $Y$'s to be a ClassifierFCM, since it's they are binary variables. "
   ]
  },
  {
   "cell_type": "code",
   "execution_count": 423,
   "metadata": {},
   "outputs": [],
   "source": [
    "causal_model.set_causal_mechanism('Z', gcm.EmpiricalDistribution())\n",
    "causal_model.set_causal_mechanism('X', gcm.ClassifierFCM(gcm.ml.SklearnClassificationModel(RandomForestClassifier())))\n",
    "causal_model.set_causal_mechanism('Y', gcm.ClassifierFCM(gcm.ml.SklearnClassificationModel(RandomForestClassifier())))"
   ]
  },
  {
   "cell_type": "markdown",
   "metadata": {},
   "source": [
    "It's also important to note that we DoWhy supports using models from the scikit-learn library. In this case, we will be using their Random Forest Classifier."
   ]
  },
  {
   "cell_type": "markdown",
   "metadata": {},
   "source": [
    "#### Fitting the model and generating new data"
   ]
  },
  {
   "cell_type": "code",
   "execution_count": 424,
   "metadata": {},
   "outputs": [
    {
     "name": "stderr",
     "output_type": "stream",
     "text": [
      "Fitting causal mechanism of node Z: 100%|██████████| 3/3 [00:00<00:00, 18.73it/s]\n"
     ]
    },
    {
     "data": {
      "text/html": [
       "<div>\n",
       "<style scoped>\n",
       "    .dataframe tbody tr th:only-of-type {\n",
       "        vertical-align: middle;\n",
       "    }\n",
       "\n",
       "    .dataframe tbody tr th {\n",
       "        vertical-align: top;\n",
       "    }\n",
       "\n",
       "    .dataframe thead th {\n",
       "        text-align: right;\n",
       "    }\n",
       "</style>\n",
       "<table border=\"1\" class=\"dataframe\">\n",
       "  <thead>\n",
       "    <tr style=\"text-align: right;\">\n",
       "      <th></th>\n",
       "      <th>Z</th>\n",
       "      <th>X</th>\n",
       "      <th>Y</th>\n",
       "    </tr>\n",
       "  </thead>\n",
       "  <tbody>\n",
       "    <tr>\n",
       "      <th>0</th>\n",
       "      <td>0</td>\n",
       "      <td>0</td>\n",
       "      <td>0</td>\n",
       "    </tr>\n",
       "    <tr>\n",
       "      <th>1</th>\n",
       "      <td>1</td>\n",
       "      <td>0</td>\n",
       "      <td>1</td>\n",
       "    </tr>\n",
       "    <tr>\n",
       "      <th>2</th>\n",
       "      <td>1</td>\n",
       "      <td>0</td>\n",
       "      <td>0</td>\n",
       "    </tr>\n",
       "    <tr>\n",
       "      <th>3</th>\n",
       "      <td>0</td>\n",
       "      <td>0</td>\n",
       "      <td>1</td>\n",
       "    </tr>\n",
       "    <tr>\n",
       "      <th>4</th>\n",
       "      <td>0</td>\n",
       "      <td>0</td>\n",
       "      <td>1</td>\n",
       "    </tr>\n",
       "  </tbody>\n",
       "</table>\n",
       "</div>"
      ],
      "text/plain": [
       "   Z  X  Y\n",
       "0  0  0  0\n",
       "1  1  0  1\n",
       "2  1  0  0\n",
       "3  0  0  1\n",
       "4  0  0  1"
      ]
     },
     "execution_count": 424,
     "metadata": {},
     "output_type": "execute_result"
    }
   ],
   "source": [
    "gcm.fit(causal_model, data)\n",
    "generated_data = gcm.draw_samples(causal_model, num_samples=1000)\n",
    "generated_data.head()"
   ]
  },
  {
   "cell_type": "markdown",
   "metadata": {},
   "source": [
    "### Calculating the ACE"
   ]
  },
  {
   "cell_type": "code",
   "execution_count": 425,
   "metadata": {},
   "outputs": [
    {
     "data": {
      "image/png": "[encoded data removed]",
      "text/latex": [
       "$\\displaystyle 0.401$"
      ],
      "text/plain": [
       "np.float64(0.40099999999999997)"
      ]
     },
     "execution_count": 425,
     "metadata": {},
     "output_type": "execute_result"
    }
   ],
   "source": [
    "gcm.average_causal_effect(causal_model,\n",
    "                         'Y',\n",
    "                         interventions_alternative={'X': lambda x: '1'},\n",
    "                         interventions_reference={'X': lambda x: '0'},\n",
    "                         num_samples_to_draw=1000)"
   ]
  },
  {
   "cell_type": "markdown",
   "metadata": {},
   "source": [
    "### Estimating confidence intervals (Confidence level = 0.95)"
   ]
  },
  {
   "cell_type": "code",
   "execution_count": 426,
   "metadata": {},
   "outputs": [
    {
     "name": "stderr",
     "output_type": "stream",
     "text": [
      "Estimating bootstrap interval...: 100%|██████████| 20/20 [00:00<00:00, 43.28it/s]\n"
     ]
    },
    {
     "data": {
      "text/plain": [
       "(array([0.38778328]), array([[0.34895, 0.42225]]))"
      ]
     },
     "execution_count": 426,
     "metadata": {},
     "output_type": "execute_result"
    }
   ],
   "source": [
    "gcm.confidence_intervals(lambda: gcm.average_causal_effect(causal_model,\n",
    "                         'Y',\n",
    "                         interventions_alternative={'X': lambda x: '1'},\n",
    "                         interventions_reference={'X': lambda x: '0'},\n",
    "                         num_samples_to_draw=1000))"
   ]
  },
  {
   "cell_type": "markdown",
   "metadata": {},
   "source": [
    "The ACE can be calculated by doing:\n",
    "$$ ACE = E[Y=1|do(X=1)] - E[Y=1|do(X=0)] = P(Y=1|X=1) - P(Y=1|X=0) = 0.7 - 0.3 = 0.4"
   ]
  },
  {
   "cell_type": "markdown",
   "metadata": {},
   "source": [
    "Considering we found a value close to 0.4, it's possible to say the results are satisfactory."
   ]
  }
 ],
 "metadata": {
  "kernelspec": {
   "display_name": "Python 3",
   "language": "python",
   "name": "python3"
  },
  "language_info": {
   "codemirror_mode": {
    "name": "ipython",
    "version": 3
   },
   "file_extension": ".py",
   "mimetype": "text/x-python",
   "name": "python",
   "nbconvert_exporter": "python",
   "pygments_lexer": "ipython3",
   "version": "3.11.5"
  }
 },
 "nbformat": 4,
 "nbformat_minor": 2
}
