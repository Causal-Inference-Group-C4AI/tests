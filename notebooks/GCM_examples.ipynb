{
 "cells": [
  {
   "cell_type": "markdown",
   "metadata": {},
   "source": [
    "# Graphical Causal Models (GCMs)"
   ]
  },
  {
   "cell_type": "markdown",
   "metadata": {},
   "source": [
    "A graphical causal model consists of a causal direct acyclic graph (DAG) of variables and a causal mechanism for each of the variables. In other words, GCM aims at representing the true data generation process."
   ]
  },
  {
   "cell_type": "markdown",
   "metadata": {},
   "source": [
    "![Image](https://www.pywhy.org/dowhy/v0.11.1/_images/scm.png)"
   ]
  },
  {
   "cell_type": "markdown",
   "metadata": {},
   "source": [
    "### Creating a GCM"
   ]
  },
  {
   "cell_type": "code",
   "execution_count": 111,
   "metadata": {},
   "outputs": [
    {
     "name": "stdout",
     "output_type": "stream",
     "text": [
      "Requirement already satisfied: dowhy in c:\\users\\davic\\appdata\\local\\programs\\python\\python311\\lib\\site-packages (0.11.1)Note: you may need to restart the kernel to use updated packages.\n",
      "\n",
      "Requirement already satisfied: causal-learn>=0.1.3.0 in c:\\users\\davic\\appdata\\local\\programs\\python\\python311\\lib\\site-packages (from dowhy) (0.1.3.8)\n",
      "Requirement already satisfied: cvxpy<2.0.0,>=1.2.2 in c:\\users\\davic\\appdata\\local\\programs\\python\\python311\\lib\\site-packages (from dowhy) (1.5.3)\n",
      "Requirement already satisfied: cython>=0.29.32 in c:\\users\\davic\\appdata\\local\\programs\\python\\python311\\lib\\site-packages (from dowhy) (3.0.11)\n",
      "Requirement already satisfied: joblib>=1.1.0 in c:\\users\\davic\\appdata\\local\\programs\\python\\python311\\lib\\site-packages (from dowhy) (1.4.2)\n",
      "Requirement already satisfied: networkx>=2.8.5 in c:\\users\\davic\\appdata\\local\\programs\\python\\python311\\lib\\site-packages (from dowhy) (3.3)\n",
      "Requirement already satisfied: numpy>=1.20 in c:\\users\\davic\\appdata\\local\\programs\\python\\python311\\lib\\site-packages (from dowhy) (2.1.1)\n",
      "Requirement already satisfied: pandas>=1.4.3 in c:\\users\\davic\\appdata\\local\\programs\\python\\python311\\lib\\site-packages (from dowhy) (2.2.2)\n",
      "Requirement already satisfied: scikit-learn>1.0 in c:\\users\\davic\\appdata\\local\\programs\\python\\python311\\lib\\site-packages (from dowhy) (1.5.2)\n",
      "Requirement already satisfied: scipy>=1.4.1 in c:\\users\\davic\\appdata\\local\\programs\\python\\python311\\lib\\site-packages (from dowhy) (1.14.1)\n",
      "Requirement already satisfied: statsmodels>=0.13.5 in c:\\users\\davic\\appdata\\local\\programs\\python\\python311\\lib\\site-packages (from dowhy) (0.14.3)\n",
      "Requirement already satisfied: sympy>=1.10.1 in c:\\users\\davic\\appdata\\local\\programs\\python\\python311\\lib\\site-packages (from dowhy) (1.13.3)\n",
      "Requirement already satisfied: tqdm>=4.64.0 in c:\\users\\davic\\appdata\\local\\programs\\python\\python311\\lib\\site-packages (from dowhy) (4.66.5)\n",
      "Requirement already satisfied: graphviz in c:\\users\\davic\\appdata\\local\\programs\\python\\python311\\lib\\site-packages (from causal-learn>=0.1.3.0->dowhy) (0.20.3)\n",
      "Requirement already satisfied: matplotlib in c:\\users\\davic\\appdata\\local\\programs\\python\\python311\\lib\\site-packages (from causal-learn>=0.1.3.0->dowhy) (3.9.2)\n",
      "Requirement already satisfied: pydot in c:\\users\\davic\\appdata\\local\\programs\\python\\python311\\lib\\site-packages (from causal-learn>=0.1.3.0->dowhy) (3.0.1)\n",
      "Requirement already satisfied: osqp>=0.6.2 in c:\\users\\davic\\appdata\\local\\programs\\python\\python311\\lib\\site-packages (from cvxpy<2.0.0,>=1.2.2->dowhy) (0.6.7.post1)\n",
      "Requirement already satisfied: ecos>=2 in c:\\users\\davic\\appdata\\local\\programs\\python\\python311\\lib\\site-packages (from cvxpy<2.0.0,>=1.2.2->dowhy) (2.0.14)\n",
      "Requirement already satisfied: clarabel>=0.5.0 in c:\\users\\davic\\appdata\\local\\programs\\python\\python311\\lib\\site-packages (from cvxpy<2.0.0,>=1.2.2->dowhy) (0.9.0)\n",
      "Requirement already satisfied: scs>=3.2.4.post1 in c:\\users\\davic\\appdata\\local\\programs\\python\\python311\\lib\\site-packages (from cvxpy<2.0.0,>=1.2.2->dowhy) (3.2.7)\n",
      "Requirement already satisfied: python-dateutil>=2.8.2 in c:\\users\\davic\\appdata\\roaming\\python\\python311\\site-packages (from pandas>=1.4.3->dowhy) (2.9.0.post0)\n",
      "Requirement already satisfied: pytz>=2020.1 in c:\\users\\davic\\appdata\\local\\programs\\python\\python311\\lib\\site-packages (from pandas>=1.4.3->dowhy) (2024.2)\n",
      "Requirement already satisfied: tzdata>=2022.7 in c:\\users\\davic\\appdata\\local\\programs\\python\\python311\\lib\\site-packages (from pandas>=1.4.3->dowhy) (2024.1)\n",
      "Requirement already satisfied: threadpoolctl>=3.1.0 in c:\\users\\davic\\appdata\\local\\programs\\python\\python311\\lib\\site-packages (from scikit-learn>1.0->dowhy) (3.5.0)\n",
      "Requirement already satisfied: patsy>=0.5.6 in c:\\users\\davic\\appdata\\local\\programs\\python\\python311\\lib\\site-packages (from statsmodels>=0.13.5->dowhy) (0.5.6)\n",
      "Requirement already satisfied: packaging>=21.3 in c:\\users\\davic\\appdata\\roaming\\python\\python311\\site-packages (from statsmodels>=0.13.5->dowhy) (24.1)\n",
      "Requirement already satisfied: mpmath<1.4,>=1.1.0 in c:\\users\\davic\\appdata\\local\\programs\\python\\python311\\lib\\site-packages (from sympy>=1.10.1->dowhy) (1.3.0)\n",
      "Requirement already satisfied: colorama in c:\\users\\davic\\appdata\\roaming\\python\\python311\\site-packages (from tqdm>=4.64.0->dowhy) (0.4.6)\n",
      "Requirement already satisfied: qdldl in c:\\users\\davic\\appdata\\local\\programs\\python\\python311\\lib\\site-packages (from osqp>=0.6.2->cvxpy<2.0.0,>=1.2.2->dowhy) (0.1.7.post4)\n",
      "Requirement already satisfied: six in c:\\users\\davic\\appdata\\roaming\\python\\python311\\site-packages (from patsy>=0.5.6->statsmodels>=0.13.5->dowhy) (1.16.0)\n",
      "Requirement already satisfied: contourpy>=1.0.1 in c:\\users\\davic\\appdata\\local\\programs\\python\\python311\\lib\\site-packages (from matplotlib->causal-learn>=0.1.3.0->dowhy) (1.3.0)\n",
      "Requirement already satisfied: cycler>=0.10 in c:\\users\\davic\\appdata\\local\\programs\\python\\python311\\lib\\site-packages (from matplotlib->causal-learn>=0.1.3.0->dowhy) (0.12.1)\n",
      "Requirement already satisfied: fonttools>=4.22.0 in c:\\users\\davic\\appdata\\local\\programs\\python\\python311\\lib\\site-packages (from matplotlib->causal-learn>=0.1.3.0->dowhy) (4.53.1)\n",
      "Requirement already satisfied: kiwisolver>=1.3.1 in c:\\users\\davic\\appdata\\local\\programs\\python\\python311\\lib\\site-packages (from matplotlib->causal-learn>=0.1.3.0->dowhy) (1.4.7)\n",
      "Requirement already satisfied: pillow>=8 in c:\\users\\davic\\appdata\\local\\programs\\python\\python311\\lib\\site-packages (from matplotlib->causal-learn>=0.1.3.0->dowhy) (10.4.0)\n",
      "Requirement already satisfied: pyparsing>=2.3.1 in c:\\users\\davic\\appdata\\local\\programs\\python\\python311\\lib\\site-packages (from matplotlib->causal-learn>=0.1.3.0->dowhy) (3.1.4)\n"
     ]
    },
    {
     "name": "stderr",
     "output_type": "stream",
     "text": [
      "\n",
      "[notice] A new release of pip is available: 23.2.1 -> 24.2\n",
      "[notice] To update, run: python.exe -m pip install --upgrade pip\n"
     ]
    }
   ],
   "source": [
    "%pip install dowhy\n",
    "from dowhy import gcm\n",
    "import networkx as nx\n",
    "import matplotlib.pyplot as plt\n",
    "from dowhy.utils import plot\n",
    "from dowhy.gcm.causal_mechanisms import FunctionalCausalModel\n",
    "import numpy as np\n",
    "import pandas as pd\n"
   ]
  },
  {
   "cell_type": "markdown",
   "metadata": {},
   "source": [
    "#### Setting the DAG"
   ]
  },
  {
   "cell_type": "code",
   "execution_count": 112,
   "metadata": {},
   "outputs": [
    {
     "data": {
      "image/png": "[encoded data removed]",
      "text/plain": [
       "<Figure size 640x480 with 1 Axes>"
      ]
     },
     "metadata": {},
     "output_type": "display_data"
    }
   ],
   "source": [
    "causal_graph = nx.DiGraph([\n",
    "    (\"U1\", \"X1\"),\n",
    "    (\"U2\", \"X1\"),\n",
    "    (\"U3\", \"X1\"),\n",
    "    (\"X1\", \"X2\"),\n",
    "    (\"U1\", \"X2\")\n",
    "])\n",
    "causal_model = gcm.StructuralCausalModel(causal_graph)\n",
    "\n",
    "nx.draw(causal_graph, with_labels=True, node_size=2000, node_color='lightblue', font_size=10, font_weight='bold')\n",
    "plt.show()"
   ]
  },
  {
   "cell_type": "markdown",
   "metadata": {},
   "source": [
    "#### Setting the causal mechanisms"
   ]
  },
  {
   "cell_type": "code",
   "execution_count": 113,
   "metadata": {},
   "outputs": [],
   "source": [
    "causal_model.set_causal_mechanism('U1', gcm.EmpiricalDistribution())\n",
    "causal_model.set_causal_mechanism('U2', gcm.EmpiricalDistribution())\n",
    "causal_model.set_causal_mechanism('U3', gcm.EmpiricalDistribution())\n",
    "\n",
    "class X1Model(FunctionalCausalModel):\n",
    "    def fit(self, X, Y):\n",
    "        # No parameters to fit for this deterministic function\n",
    "        pass\n",
    "\n",
    "    def predict(self, X):\n",
    "        # Use evaluate and draw_noise_samples to generate predictions\n",
    "        noise = self.draw_noise_samples(len(X))\n",
    "        return self.evaluate(X, noise)\n",
    "\n",
    "    def evaluate(self, X, noise):\n",
    "        # X[:, 0], X[:, 1], X[:, 2] correspond to U1, U2, U3 respectively\n",
    "        U1 = X[:, 0]\n",
    "        U2 = X[:, 1]\n",
    "        U3 = X[:, 2]\n",
    "        return np.round(((1 - U1) * U2 * U3 + noise)).astype(int)\n",
    "\n",
    "    def draw_noise_samples(self, num_samples):\n",
    "        # Generate noise samples\n",
    "        return np.random.normal(loc=0, scale=0.0001, size=num_samples)\n",
    "\n",
    "    def clone(self):\n",
    "        # Return a new instance of this model\n",
    "        return X1Model()\n",
    "\n",
    "class X2Model(FunctionalCausalModel):\n",
    "    def fit(self, X, Y):\n",
    "        # No parameters to fit for this deterministic function\n",
    "        pass\n",
    "\n",
    "    def predict(self, X):\n",
    "        # Use evaluate and draw_noise_samples to generate predictions\n",
    "        noise = self.draw_noise_samples(len(X))\n",
    "        return self.evaluate(X, noise)\n",
    "\n",
    "    def evaluate(self, X, noise):\n",
    "        # X[:, 0], X[:, 1] correspond to X1 and U1 respectively\n",
    "        X1 = X[:, 0]\n",
    "        U1 = X[:, 1]\n",
    "        return np.round((X1 + U1 - X1 * U1 + noise)).astype(int)\n",
    "\n",
    "    def draw_noise_samples(self, num_samples):\n",
    "        # Generate noise samples\n",
    "        return np.random.normal(loc=0, scale=0.0001, size=num_samples)\n",
    "\n",
    "    def clone(self):\n",
    "        # Return a new instance of this model\n",
    "        return X2Model()\n",
    "\n",
    "# Set custom causal mechanisms for X1 and X2\n",
    "causal_model.set_causal_mechanism('X1', X1Model())\n",
    "causal_model.set_causal_mechanism('X2', X2Model())\n",
    "\n",
    "# Generate synthetic data\n",
    "n_samples = 1000\n",
    "\n",
    "# Generate U1, U2, U3 as random binary variables (Bernoulli with p=0.5)\n",
    "U1 = np.random.binomial(1, 0.5, n_samples)\n",
    "U2 = np.random.binomial(1, 0.5, n_samples)\n",
    "U3 = np.random.binomial(1, 0.5, n_samples)"
   ]
  },
  {
   "cell_type": "markdown",
   "metadata": {},
   "source": [
    "#### Generating data"
   ]
  },
  {
   "cell_type": "code",
   "execution_count": 114,
   "metadata": {},
   "outputs": [
    {
     "name": "stdout",
     "output_type": "stream",
     "text": [
      "   U1  U2  U3  X1  X2\n",
      "0   1   1   0   0   1\n",
      "1   0   1   1   1   1\n",
      "2   0   1   0   0   0\n",
      "3   0   0   1   0   0\n",
      "4   0   0   0   0   0\n"
     ]
    }
   ],
   "source": [
    "# Number of samples to generate\n",
    "n_samples = 1000\n",
    "\n",
    "# Generate U1, U2, U3 as random binary variables (Bernoulli with p=0.5)\n",
    "U1 = np.random.binomial(1, 0.5, n_samples)\n",
    "U2 = np.random.binomial(1, 0.5, n_samples)\n",
    "U3 = np.random.binomial(1, 0.5, n_samples)\n",
    "\n",
    "# Define X1 and X2 according to the causal mechanisms\n",
    "X1 = (1 - U1.astype(int)) * U2.astype(int) * U3.astype(int)\n",
    "X2 = X1 + U1.astype(int) - X1 * U1.astype(int)\n",
    "\n",
    "# Convert boolean values to integers (0 or 1)\n",
    "X1 = X1.astype(int)\n",
    "X2 = X2.astype(int)\n",
    "\n",
    "# Create a DataFrame to store the dataset\n",
    "data = pd.DataFrame({\n",
    "    'U1': U1,\n",
    "    'U2': U2,\n",
    "    'U3': U3,\n",
    "    'X1': X1,\n",
    "    'X2': X2\n",
    "})\n",
    "data = data.astype(int)\n",
    "\n",
    "# Display the first few rows of the dataset\n",
    "print(data.head())\n",
    "\n"
   ]
  },
  {
   "cell_type": "markdown",
   "metadata": {},
   "source": [
    "#### Fitting the model and generating new data"
   ]
  },
  {
   "cell_type": "code",
   "execution_count": 115,
   "metadata": {},
   "outputs": [
    {
     "name": "stderr",
     "output_type": "stream",
     "text": [
      "Fitting causal mechanism of node X2: 100%|██████████| 5/5 [00:00<00:00, 655.34it/s]"
     ]
    },
    {
     "name": "stdout",
     "output_type": "stream",
     "text": [
      "   U1  U2  U3  X1  X2\n",
      "0   1   0   0   0   1\n",
      "1   1   0   0   0   1\n",
      "2   1   0   0   0   1\n",
      "3   0   0   0   0   0\n",
      "4   1   0   0   0   1\n"
     ]
    },
    {
     "name": "stderr",
     "output_type": "stream",
     "text": [
      "\n"
     ]
    }
   ],
   "source": [
    "gcm.fit(causal_model, data)\n",
    "generated_data = gcm.draw_samples(causal_model, num_samples=1000)\n",
    "print(generated_data.head())"
   ]
  },
  {
   "cell_type": "markdown",
   "metadata": {},
   "source": [
    "#### Calculating the ATE"
   ]
  },
  {
   "cell_type": "code",
   "execution_count": 116,
   "metadata": {},
   "outputs": [
    {
     "data": {
      "image/png": "[encoded data removed]",
      "text/latex": [
       "$\\displaystyle 0.504$"
      ],
      "text/plain": [
       "np.float64(0.504)"
      ]
     },
     "execution_count": 116,
     "metadata": {},
     "output_type": "execute_result"
    }
   ],
   "source": [
    "gcm.average_causal_effect(causal_model,\n",
    "                         'X2',\n",
    "                         interventions_alternative={'X1': lambda x: 1},\n",
    "                         interventions_reference={'X1': lambda x: 0},\n",
    "                         num_samples_to_draw=1000)"
   ]
  }
 ],
 "metadata": {
  "kernelspec": {
   "display_name": "Python 3",
   "language": "python",
   "name": "python3"
  },
  "language_info": {
   "codemirror_mode": {
    "name": "ipython",
    "version": 3
   },
   "file_extension": ".py",
   "mimetype": "text/x-python",
   "name": "python",
   "nbconvert_exporter": "python",
   "pygments_lexer": "ipython3",
   "version": "3.11.5"
  }
 },
 "nbformat": 4,
 "nbformat_minor": 2
}
