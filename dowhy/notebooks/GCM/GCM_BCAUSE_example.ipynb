{
 "cells": [
  {
   "cell_type": "markdown",
   "metadata": {},
   "source": [
    "# Using both DoWhy and BCAUSE to solve example 7"
   ]
  },
  {
   "cell_type": "markdown",
   "metadata": {},
   "source": [
    "In another example we used GCM to solve a version of example 7 in which the confounder variables were observable. In this notebook, we will integrate the BCAUSE library to solve the same problem but this time with latent confounders."
   ]
  },
  {
   "cell_type": "markdown",
   "metadata": {},
   "source": [
    "![title](<example7.png>)"
   ]
  },
  {
   "cell_type": "markdown",
   "metadata": {},
   "source": [
    "In this example, $U_1, U_2, U_3$ won't be included in the dataset, but will have a considerable effect on the endogenous variables."
   ]
  },
  {
   "cell_type": "code",
   "execution_count": 58,
   "metadata": {},
   "outputs": [],
   "source": [
    "from dowhy import gcm\n",
    "from dowhy.utils import plot\n",
    "from dowhy.gcm.causal_mechanisms import FunctionalCausalModel\n",
    "from bcause.factors import DeterministicFactor, MultinomialFactor\n",
    "from bcause.models.cmodel import StructuralCausalModel\n",
    "from bcause.inference.causal.elimination import CausalVariableElimination\n",
    "from bcause.inference.causal.multi import EMCC\n",
    "from bcause.util import randomUtil\n",
    "from scipy.stats import bernoulli\n",
    "import networkx as nx\n",
    "import matplotlib.pyplot as plt\n",
    "import numpy as np\n",
    "import pandas as pd\n",
    "import warnings\n",
    "import logging\n",
    "warnings.simplefilter(action='ignore')\n",
    "logging.getLogger().setLevel(logging.ERROR)"
   ]
  },
  {
   "cell_type": "markdown",
   "metadata": {},
   "source": [
    "## Creating the model"
   ]
  },
  {
   "cell_type": "markdown",
   "metadata": {},
   "source": [
    "### Setting the DAG"
   ]
  },
  {
   "cell_type": "code",
   "execution_count": 2,
   "metadata": {},
   "outputs": [
    {
     "data": {
      "image/png": "[encoded data removed]",
      "text/plain": [
       "<Figure size 640x480 with 1 Axes>"
      ]
     },
     "metadata": {},
     "output_type": "display_data"
    }
   ],
   "source": [
    "causal_graph = nx.DiGraph([\n",
    "    (\"U1\", \"X1\"),\n",
    "    (\"U2\", \"X1\"),\n",
    "    (\"U3\", \"X1\"),\n",
    "    (\"X1\", \"X2\"),\n",
    "    (\"U1\", \"X2\")\n",
    "])\n",
    "causal_model = gcm.StructuralCausalModel(causal_graph)\n",
    "\n",
    "nx.draw(causal_graph, with_labels=True, node_size=2000, node_color='lightblue', font_size=10, font_weight='bold')\n",
    "plt.show()"
   ]
  },
  {
   "cell_type": "markdown",
   "metadata": {},
   "source": [
    "### Setting causal mechanisms"
   ]
  },
  {
   "cell_type": "markdown",
   "metadata": {},
   "source": [
    "At first, we will assign a binomial distribution with probability $p=0.5$ to each confounder. Later, with the help of BCAUSE, we will overwrite these values."
   ]
  },
  {
   "cell_type": "code",
   "execution_count": 3,
   "metadata": {},
   "outputs": [],
   "source": [
    "causal_model.set_causal_mechanism('U1', gcm.ScipyDistribution('binom', n=1, p=0.5))\n",
    "causal_model.set_causal_mechanism('U2', gcm.ScipyDistribution('binom', n=1, p=0.5))\n",
    "causal_model.set_causal_mechanism('U3', gcm.ScipyDistribution('binom', n=1, p=0.5))\n",
    "\n",
    "class X1Model(FunctionalCausalModel):\n",
    "    def fit(self, X, Y):\n",
    "        # No parameters to fit for this deterministic function\n",
    "        pass\n",
    "\n",
    "    def predict(self, X):\n",
    "        # Use evaluate and draw_noise_samples to generate predictions\n",
    "        noise = self.draw_noise_samples(len(X))\n",
    "        return self.evaluate(X, noise)\n",
    "\n",
    "    def evaluate(self, X, noise):\n",
    "        # X[:, 0], X[:, 1], X[:, 2] correspond to U1, U2, U3 respectively\n",
    "        U1 = X[:, 0]\n",
    "        U2 = X[:, 1]\n",
    "        U3 = X[:, 2]\n",
    "        return np.round(((1 - U1) * U2 * U3 + noise)).astype(int)\n",
    "\n",
    "    def draw_noise_samples(self, num_samples):\n",
    "        # Generate noise samples\n",
    "        return np.random.normal(loc=0, scale=0.0001, size=num_samples)\n",
    "\n",
    "    def clone(self):\n",
    "        # Return a new instance of this model\n",
    "        return X1Model()\n",
    "\n",
    "class X2Model(FunctionalCausalModel):\n",
    "    def fit(self, X, Y):\n",
    "        # No parameters to fit for this deterministic function\n",
    "        pass\n",
    "\n",
    "    def predict(self, X):\n",
    "        # Use evaluate and draw_noise_samples to generate predictions\n",
    "        noise = self.draw_noise_samples(len(X))\n",
    "        return self.evaluate(X, noise)\n",
    "\n",
    "    def evaluate(self, X, noise):\n",
    "        # X[:, 0], X[:, 1] correspond to X1 and U1 respectively\n",
    "        X1 = X[:, 0]\n",
    "        U1 = X[:, 1]\n",
    "        return np.round((X1 + U1 - X1 * U1 + noise)).astype(int)\n",
    "\n",
    "    def draw_noise_samples(self, num_samples):\n",
    "        # Generate noise samples\n",
    "        return np.random.normal(loc=0, scale=0.0001, size=num_samples)\n",
    "\n",
    "    def clone(self):\n",
    "        # Return a new instance of this model\n",
    "        return X2Model()\n",
    "\n",
    "# Set custom causal mechanisms for X1 and X2\n",
    "causal_model.set_causal_mechanism('X1', X1Model())\n",
    "causal_model.set_causal_mechanism('X2', X2Model())"
   ]
  },
  {
   "cell_type": "markdown",
   "metadata": {},
   "source": [
    "## Converting the model designed in DoWhy to BCAUSE"
   ]
  },
  {
   "cell_type": "markdown",
   "metadata": {},
   "source": [
    "We will just use the same DAG defined previously."
   ]
  },
  {
   "cell_type": "code",
   "execution_count": 4,
   "metadata": {},
   "outputs": [],
   "source": [
    "dag = causal_graph"
   ]
  },
  {
   "cell_type": "markdown",
   "metadata": {},
   "source": [
    "Since all variables are binary, they will all present 2 possible values."
   ]
  },
  {
   "cell_type": "code",
   "execution_count": 5,
   "metadata": {},
   "outputs": [],
   "source": [
    "domains = dict(X1=[\"x11\", \"x22\"], X2=[\"x21\",\"x22\"], U1=[\"u11\", \"u12\"], U2=[\"u21\", \"u22\"], U3=[\"u31\", \"u32\"])"
   ]
  },
  {
   "cell_type": "markdown",
   "metadata": {},
   "source": [
    "Now, to determine the deterministic factors, we will use the models we already defined."
   ]
  },
  {
   "cell_type": "code",
   "execution_count": 6,
   "metadata": {},
   "outputs": [
    {
     "name": "stdout",
     "output_type": "stream",
     "text": [
      "['x11', 'x11', 'x11', 'x12', 'x11', 'x11', 'x11', 'x11']\n"
     ]
    }
   ],
   "source": [
    "# Define the domains\n",
    "domains = dict(X1=[\"x11\", \"x22\"], U1=[\"u11\", \"u12\"], U2=[\"u21\", \"u22\"], U3=[\"u31\", \"u32\"])\n",
    "\n",
    "# Initialize the list of lists\n",
    "values_x1 = []\n",
    "\n",
    "# Define the model\n",
    "x1_model = X1Model()\n",
    "\n",
    "# Populate the list of lists based on the conditions\n",
    "for u1 in domains['U1']:\n",
    "    for u2 in domains['U2']:\n",
    "        for u3 in domains['U3']:\n",
    "            u_values = np.array([[0 if u1[-1] == '1' else 1, \n",
    "                                  0 if u2[-1] == '1' else 1, \n",
    "                                  0 if u3[-1] == '1' else 1]])\n",
    "            x1_value = x1_model.evaluate(u_values, x1_model.draw_noise_samples(1))[0]\n",
    "            values_x1.append(f\"x1{x1_value + 1}\")\n",
    "\n",
    "# Print the results\n",
    "print(values_x1)"
   ]
  },
  {
   "cell_type": "code",
   "execution_count": 7,
   "metadata": {},
   "outputs": [
    {
     "name": "stdout",
     "output_type": "stream",
     "text": [
      "['x21', 'x22', 'x22', 'x22']\n"
     ]
    }
   ],
   "source": [
    "# Define the domains\n",
    "domains = dict(X1=[\"x11\", \"x12\"], X2=[\"x21\", \"x22\"], U1=[\"u11\", \"u12\"], U2=[\"u21\", \"u22\"], U3=[\"u31\", \"u32\"])\n",
    "\n",
    "# Initialize the list of lists\n",
    "values_x2 = []\n",
    "\n",
    "# Define the model\n",
    "x2_model = X2Model()\n",
    "\n",
    "# Populate the list of lists based on the conditions\n",
    "for u1 in domains['U1']:\n",
    "    for x1 in domains['X1']:\n",
    "        u_values = np.array([[0 if u1[-1] == '1' else 1, \n",
    "                                0 if x1[-1] == '1' else 1]])\n",
    "        x2_value = x2_model.evaluate(u_values, x2_model.draw_noise_samples(1))[0]\n",
    "        values_x2.append(f\"x2{x2_value + 1}\")\n",
    "\n",
    "# Print the results\n",
    "print(values_x2)"
   ]
  },
  {
   "cell_type": "code",
   "execution_count": 8,
   "metadata": {},
   "outputs": [
    {
     "name": "stdout",
     "output_type": "stream",
     "text": [
      "<DeterministicFactor fX1(U1,U2,U3), cardinality = (U1:2,U2:2,U3:2,X1:2), values=[x11,x11,x11,x12,...,x11]>\n"
     ]
    }
   ],
   "source": [
    "domx1 = {'U1': domains['U1'],  'U2': domains['U2'], 'U3': domains['U3'], 'X1': domains['X1']}\n",
    "fx1 = DeterministicFactor(domx1, left_vars=['X1'], right_vars=['U1', 'U2', 'U3'], values=values_x1)\n",
    "print(fx1)"
   ]
  },
  {
   "cell_type": "code",
   "execution_count": 9,
   "metadata": {},
   "outputs": [
    {
     "name": "stdout",
     "output_type": "stream",
     "text": [
      "<DeterministicFactor fX2(U1,X1), cardinality = (U1:2,X1:2,X2:2), values=[x21,x22,x22,x22]>\n"
     ]
    }
   ],
   "source": [
    "domx2 = {'U1': domains['U1'], 'X1': domains['X1'], 'X2': domains['X2']}\n",
    "fx2 = DeterministicFactor(domx2, right_vars=['U1', 'X1'], values=values_x2)\n",
    "print(fx2)"
   ]
  },
  {
   "cell_type": "markdown",
   "metadata": {},
   "source": [
    "For the exogenous variables, we will use same $p$ we previously defined, but they will be overwritten in the future anyways."
   ]
  },
  {
   "cell_type": "code",
   "execution_count": 10,
   "metadata": {},
   "outputs": [
    {
     "data": {
      "text/plain": [
       "<MultinomialFactor P(U1), cardinality = (U1:2), values=[0.5,0.5]>"
      ]
     },
     "execution_count": 10,
     "metadata": {},
     "output_type": "execute_result"
    }
   ],
   "source": [
    "domu1 =  {\"U1\": domains[\"U1\"]}\n",
    "pu1 = MultinomialFactor(domu1, values=[.5, .5])\n",
    "pu1"
   ]
  },
  {
   "cell_type": "code",
   "execution_count": 11,
   "metadata": {},
   "outputs": [
    {
     "data": {
      "text/plain": [
       "<MultinomialFactor P(U2), cardinality = (U2:2), values=[0.5,0.5]>"
      ]
     },
     "execution_count": 11,
     "metadata": {},
     "output_type": "execute_result"
    }
   ],
   "source": [
    "domu2 =  {\"U2\": domains[\"U2\"]}\n",
    "pu2 = MultinomialFactor(domu2, values=[.5, .5])\n",
    "pu2"
   ]
  },
  {
   "cell_type": "code",
   "execution_count": 12,
   "metadata": {},
   "outputs": [
    {
     "data": {
      "text/plain": [
       "<MultinomialFactor P(U3), cardinality = (U3:2), values=[0.5,0.5]>"
      ]
     },
     "execution_count": 12,
     "metadata": {},
     "output_type": "execute_result"
    }
   ],
   "source": [
    "domu3 =  {\"U3\": domains[\"U3\"]}\n",
    "pu3 = MultinomialFactor(domu3, values=[.5, .5])\n",
    "pu3"
   ]
  },
  {
   "cell_type": "code",
   "execution_count": 13,
   "metadata": {},
   "outputs": [
    {
     "data": {
      "text/plain": [
       "<StructuralCausalModel (X1:2,X2:2|U1:2,U2:2,U3:2), dag=[U1][X1|U1:U2:U3][U2][U3][X2|X1:U1]>"
      ]
     },
     "execution_count": 13,
     "metadata": {},
     "output_type": "execute_result"
    }
   ],
   "source": [
    "model = StructuralCausalModel(dag, [fx1, fx2, pu1, pu2, pu3])\n",
    "model"
   ]
  },
  {
   "cell_type": "code",
   "execution_count": 14,
   "metadata": {},
   "outputs": [
    {
     "data": {
      "image/png": "[encoded data removed]",
      "text/plain": [
       "<Figure size 640x480 with 1 Axes>"
      ]
     },
     "metadata": {},
     "output_type": "display_data"
    }
   ],
   "source": [
    "model.draw()"
   ]
  },
  {
   "cell_type": "code",
   "execution_count": 15,
   "metadata": {},
   "outputs": [
    {
     "data": {
      "text/plain": [
       "(['X1', 'X2'], ['U1', 'U2', 'U3'])"
      ]
     },
     "execution_count": 15,
     "metadata": {},
     "output_type": "execute_result"
    }
   ],
   "source": [
    "model.endogenous, model.exogenous"
   ]
  },
  {
   "cell_type": "code",
   "execution_count": 16,
   "metadata": {},
   "outputs": [
    {
     "data": {
      "text/plain": [
       "{'U1': <MultinomialFactor P(U1), cardinality = (U1:2), values=[0.5,0.5]>,\n",
       " 'X1': <MultinomialFactor P(X1|U1,U2,U3), cardinality = (U1:2,U2:2,U3:2,X1:2), values=[1.0,0.0,1.0,0.0,...,0.0]>,\n",
       " 'U2': <MultinomialFactor P(U2), cardinality = (U2:2), values=[0.5,0.5]>,\n",
       " 'U3': <MultinomialFactor P(U3), cardinality = (U3:2), values=[0.5,0.5]>,\n",
       " 'X2': <MultinomialFactor P(X2|U1,X1), cardinality = (U1:2,X1:2,X2:2), values=[1.0,0.0,0.0,1.0,...,1.0]>}"
      ]
     },
     "execution_count": 16,
     "metadata": {},
     "output_type": "execute_result"
    }
   ],
   "source": [
    "model.factors"
   ]
  },
  {
   "cell_type": "markdown",
   "metadata": {},
   "source": [
    "We can run queries using the arbitrary probabilities we defined, even without data. "
   ]
  },
  {
   "cell_type": "code",
   "execution_count": 17,
   "metadata": {},
   "outputs": [
    {
     "data": {
      "text/plain": [
       "<MultinomialFactor P(X2), cardinality = (X2:2), values=[0.0,1.0]>"
      ]
     },
     "execution_count": 17,
     "metadata": {},
     "output_type": "execute_result"
    }
   ],
   "source": [
    "# Run causal inference with Variable Elimination\n",
    "cve = CausalVariableElimination(model)\n",
    "cve.causal_query(\"X2\", do=dict(X1=\"x12\"))"
   ]
  },
  {
   "cell_type": "code",
   "execution_count": 18,
   "metadata": {},
   "outputs": [
    {
     "data": {
      "text/plain": [
       "<MultinomialFactor P(X2_1), cardinality = (X2_1:2), values=[0.0,1.0]>"
      ]
     },
     "execution_count": 18,
     "metadata": {},
     "output_type": "execute_result"
    }
   ],
   "source": [
    "# Run a counterfactual query\n",
    "cve.counterfactual_query(\"X2\",do=dict(X1=\"x12\"), evidence=dict(X1=\"x11\"))"
   ]
  },
  {
   "cell_type": "markdown",
   "metadata": {},
   "source": [
    "### Generating data"
   ]
  },
  {
   "cell_type": "code",
   "execution_count": 19,
   "metadata": {},
   "outputs": [
    {
     "data": {
      "text/html": [
       "<div>\n",
       "<style scoped>\n",
       "    .dataframe tbody tr th:only-of-type {\n",
       "        vertical-align: middle;\n",
       "    }\n",
       "\n",
       "    .dataframe tbody tr th {\n",
       "        vertical-align: top;\n",
       "    }\n",
       "\n",
       "    .dataframe thead th {\n",
       "        text-align: right;\n",
       "    }\n",
       "</style>\n",
       "<table border=\"1\" class=\"dataframe\">\n",
       "  <thead>\n",
       "    <tr style=\"text-align: right;\">\n",
       "      <th></th>\n",
       "      <th>X1</th>\n",
       "      <th>X2</th>\n",
       "    </tr>\n",
       "  </thead>\n",
       "  <tbody>\n",
       "    <tr>\n",
       "      <th>0</th>\n",
       "      <td>x11</td>\n",
       "      <td>x21</td>\n",
       "    </tr>\n",
       "    <tr>\n",
       "      <th>1</th>\n",
       "      <td>x11</td>\n",
       "      <td>x22</td>\n",
       "    </tr>\n",
       "    <tr>\n",
       "      <th>2</th>\n",
       "      <td>x11</td>\n",
       "      <td>x22</td>\n",
       "    </tr>\n",
       "    <tr>\n",
       "      <th>3</th>\n",
       "      <td>x11</td>\n",
       "      <td>x22</td>\n",
       "    </tr>\n",
       "    <tr>\n",
       "      <th>4</th>\n",
       "      <td>x11</td>\n",
       "      <td>x21</td>\n",
       "    </tr>\n",
       "  </tbody>\n",
       "</table>\n",
       "</div>"
      ],
      "text/plain": [
       "    X1   X2\n",
       "0  x11  x21\n",
       "1  x11  x22\n",
       "2  x11  x22\n",
       "3  x11  x22\n",
       "4  x11  x21"
      ]
     },
     "execution_count": 19,
     "metadata": {},
     "output_type": "execute_result"
    }
   ],
   "source": [
    "# Number of samples to generate\n",
    "n_samples = 1000\n",
    "\n",
    "# Generate U1, U2, U3 as random binary variables (Bernoulli with p=0.5)\n",
    "U1 = np.random.binomial(1, 0.5, n_samples)\n",
    "U2 = np.random.binomial(1, 0.5, n_samples)\n",
    "U3 = np.random.binomial(1, 0.5, n_samples)\n",
    "\n",
    "# Define X1 and X2 according to the causal mechanisms\n",
    "X1 = (1 - U1.astype(int)) * U2.astype(int) * U3.astype(int)\n",
    "X2 = X1 + U1.astype(int) - X1 * U1.astype(int)\n",
    "\n",
    "# Convert boolean values to integers (0 or 1)\n",
    "X1 = X1.astype(str)\n",
    "X2 = X2.astype(str)\n",
    "\n",
    "for i in range(len(X1)):\n",
    "    X1[i] = f'x1{int(X1[i])+1}'\n",
    "    X2[i] = f'x2{int(X2[i])+1}'\n",
    "\n",
    "# Create a DataFrame to store the dataset\n",
    "data = pd.DataFrame({\n",
    "    'X1': X1,\n",
    "    'X2': X2\n",
    "})\n",
    "\n",
    "# Display the first few rows of the dataset\n",
    "data.head()"
   ]
  },
  {
   "cell_type": "markdown",
   "metadata": {},
   "source": [
    "We can see that the exogenous variables weren't included in the data."
   ]
  },
  {
   "cell_type": "code",
   "execution_count": 20,
   "metadata": {},
   "outputs": [],
   "source": [
    "inf = EMCC(model, data, max_iter=100, num_runs=20)"
   ]
  },
  {
   "cell_type": "markdown",
   "metadata": {},
   "source": [
    "We can now perform all sorts of causal and conterfactual queries."
   ]
  },
  {
   "cell_type": "code",
   "execution_count": 21,
   "metadata": {},
   "outputs": [
    {
     "data": {
      "text/plain": [
       "<IntervalProbFactor P(X2), cardinality = (X2:2), values_low=[0.0,1.0], values_up=[0.0,1.0]>"
      ]
     },
     "execution_count": 21,
     "metadata": {},
     "output_type": "execute_result"
    }
   ],
   "source": [
    "p = inf.causal_query(\"X2\", do=dict(X1=\"x12\"))\n",
    "p"
   ]
  },
  {
   "cell_type": "code",
   "execution_count": 22,
   "metadata": {},
   "outputs": [
    {
     "data": {
      "text/plain": [
       "<IntervalProbFactor P(X2), cardinality = (X2:2), values_low=[0.507,0.493], values_up=[0.507,0.493]>"
      ]
     },
     "execution_count": 22,
     "metadata": {},
     "output_type": "execute_result"
    }
   ],
   "source": [
    "p = inf.causal_query(\"X2\", do=dict(X1=\"x11\"))\n",
    "p"
   ]
  },
  {
   "cell_type": "code",
   "execution_count": 23,
   "metadata": {},
   "outputs": [
    {
     "data": {
      "text/plain": [
       "<IntervalProbFactor P(X2_1), cardinality = (X2_1:2), values_low=[1.0,0.0], values_up=[1.0,0.0]>"
      ]
     },
     "execution_count": 23,
     "metadata": {},
     "output_type": "execute_result"
    }
   ],
   "source": [
    "p = inf.counterfactual_query(\"X2\", do=dict(X1=\"x11\"), evidence=dict(X1=\"x12\"))\n",
    "p"
   ]
  },
  {
   "cell_type": "markdown",
   "metadata": {},
   "source": [
    "If we check the factors atribute again, we can see that the probabilities for the exogenous variables were really overwritten."
   ]
  },
  {
   "cell_type": "code",
   "execution_count": 24,
   "metadata": {},
   "outputs": [
    {
     "data": {
      "text/plain": [
       "{'U1': <MultinomialFactor P(U1), cardinality = (U1:2), values=[0.507,0.493]>,\n",
       " 'X1': <MultinomialFactor P(X1|U1,U2,U3), cardinality = (U1:2,U2:2,U3:2,X1:2), values=[1.0,0.0,1.0,0.0,...,0.0]>,\n",
       " 'U2': <MultinomialFactor P(U2), cardinality = (U2:2), values=[0.44523599886575566,0.5547640011342444]>,\n",
       " 'U3': <MultinomialFactor P(U3), cardinality = (U3:2), values=[0.5555798087703613,0.4444201912296388]>,\n",
       " 'X2': <MultinomialFactor P(X2|U1,X1), cardinality = (U1:2,X1:2,X2:2), values=[1.0,0.0,0.0,1.0,...,1.0]>}"
      ]
     },
     "execution_count": 24,
     "metadata": {},
     "output_type": "execute_result"
    }
   ],
   "source": [
    "inf.model.factors"
   ]
  },
  {
   "cell_type": "markdown",
   "metadata": {},
   "source": [
    "### Calculating the ACE"
   ]
  },
  {
   "cell_type": "markdown",
   "metadata": {},
   "source": [
    "We will now calculate the both the lower and the upper bounds for the ACE:"
   ]
  },
  {
   "cell_type": "code",
   "execution_count": 25,
   "metadata": {},
   "outputs": [
    {
     "name": "stdout",
     "output_type": "stream",
     "text": [
      "--------------------\n",
      "0.507 <= ACE <= 0.507\n",
      "--------------------\n"
     ]
    }
   ],
   "source": [
    "# Calculate causal query for both interventions\n",
    "doX11 = inf.causal_query(\"X2\", do=dict(X1=\"x11\"))\n",
    "doX12 = inf.causal_query(\"X2\", do=dict(X1=\"x12\"))\n",
    "\n",
    "# Extract values from the dictionaries for both interventions (low bounds)\n",
    "prob_doX11_low = doX11.store_low.values_dict\n",
    "prob_doX12_low = doX12.store_low.values_dict\n",
    "\n",
    "# Extract values from the dictionaries for both interventions (high bounds)\n",
    "prob_doX11_high = doX11.store_up.values_dict\n",
    "prob_doX12_high = doX12.store_up.values_dict\n",
    "\n",
    "# Find the probability values corresponding to 'x22' in each dictionary for store_low\n",
    "value_doX11_x22_low = prob_doX11_low.get((('X2', 'x22'),), 0)\n",
    "value_doX12_x22_low = prob_doX12_low.get((('X2', 'x22'),), 0)\n",
    "\n",
    "# Find the probability values corresponding to 'x22' in each dictionary for store_up\n",
    "value_doX11_x22_high = prob_doX11_high.get((('X2', 'x22'),), 0)\n",
    "value_doX12_x22_high = prob_doX12_high.get((('X2', 'x22'),), 0)\n",
    "\n",
    "# Calculate the ACE bounds using the low and high values\n",
    "ace_low = value_doX12_x22_low - value_doX11_x22_low\n",
    "ace_high = value_doX12_x22_high - value_doX11_x22_high\n",
    "\n",
    "# Print the ACE bounds\n",
    "print(\"--------------------\")\n",
    "print(f\"{ace_low} <= ACE <= {ace_high}\")\n",
    "print(\"--------------------\")\n",
    "\n"
   ]
  },
  {
   "cell_type": "markdown",
   "metadata": {},
   "source": [
    "We can observe that:\n",
    "For $E[X_2|do(X_1 = 1)]$, $X_2$ becomes: \n",
    "$$ X_1 \\lor U_1 = 1 \\lor U_1 = 1 $$\n",
    "So $E[X_2|do(X_1 = 1)] = 1$.\n",
    "\n",
    "For $E[X_1|do(X_1 = 1)]$, $X_2$ becomes:\n",
    "$$ E[X_2|do(X_1 = 0)] = X_1 \\lor U_1 = 0 \\lor U_1 = U_1 $$\n",
    "So $X_2$ equals $U_1$, which is a binary variable with $P(U_1=1) = 0.5$.\n",
    "Therefore:\n",
    "$$ E[X_2|do(X_1 = 0)] = E[U_1] = (0)(0.5) + (1)(0.5) = 0.5 $$\n",
    "\n",
    "We can now calculate the ACE:\n",
    "$$ ACE = E[X_2|do(X_1 = 1)] - E[X_2|do(X_1 = 0)] = 1 - 0.5 = 0.5 $$"
   ]
  },
  {
   "cell_type": "markdown",
   "metadata": {},
   "source": [
    "Since we found a value close to 0.5, the result can be considered satisfactory.\n"
   ]
  },
  {
   "cell_type": "markdown",
   "metadata": {},
   "source": [
    "## Going back to DoWhy"
   ]
  },
  {
   "cell_type": "markdown",
   "metadata": {},
   "source": [
    "Now we will overwrite the probabilities for the exogenous variables using the ones that were estimated by BCAUSE. "
   ]
  },
  {
   "cell_type": "code",
   "execution_count": 62,
   "metadata": {},
   "outputs": [
    {
     "name": "stdout",
     "output_type": "stream",
     "text": [
      "[0.493, 0.5547640011342444, 0.4444201912296388]\n"
     ]
    }
   ],
   "source": [
    "# Extract the factors from the model\n",
    "factors = inf.model.factors.values()\n",
    "\n",
    "# Initialize a list to store the second probability from each factor\n",
    "second_probabilities = []\n",
    "\n",
    "# Loop through each factor and extract the second probability\n",
    "for factor in factors:\n",
    "    values_list = factor.values  # Access the list of values in the factor\n",
    "    if len(values_list) == 2:  # Ensure there are at least two values in the list\n",
    "        second_probabilities.append(values_list[1])\n",
    "\n",
    "# Print the second probabilities\n",
    "print(second_probabilities)\n",
    "\n",
    "causal_model.set_causal_mechanism('U1', gcm.ScipyDistribution(bernoulli, p=second_probabilities[0]))\n",
    "causal_model.set_causal_mechanism('U2', gcm.ScipyDistribution(bernoulli, p=second_probabilities[1]))\n",
    "causal_model.set_causal_mechanism('U3', gcm.ScipyDistribution(bernoulli, p=second_probabilities[2]))"
   ]
  },
  {
   "cell_type": "markdown",
   "metadata": {},
   "source": [
    "We can now include $U1, U2, U3$ in the dataset, in a way that allows DoWhy to operate normally."
   ]
  },
  {
   "cell_type": "code",
   "execution_count": 64,
   "metadata": {},
   "outputs": [
    {
     "name": "stdout",
     "output_type": "stream",
     "text": [
      "   U1  U2  U3  X1  X2\n",
      "0   1   1   1   0   1\n",
      "1   1   1   0   0   1\n",
      "2   1   1   1   0   1\n",
      "3   1   1   0   0   1\n",
      "4   0   1   1   1   1\n"
     ]
    }
   ],
   "source": [
    "# Number of samples to generate\n",
    "n_samples = 1000\n",
    "\n",
    "# Generate U1, U2, U3 as random binary variables (Bernoulli with p=0.5)\n",
    "U1 = np.random.binomial(1, second_probabilities[0], n_samples)\n",
    "U2 = np.random.binomial(1, second_probabilities[1], n_samples)\n",
    "U3 = np.random.binomial(1, second_probabilities[2], n_samples)\n",
    "\n",
    "# Define X1 and X2 according to the causal mechanisms\n",
    "X1 = (1 - U1.astype(int)) * U2.astype(int) * U3.astype(int)\n",
    "X2 = X1 + U1.astype(int) - X1 * U1.astype(int)\n",
    "\n",
    "# Convert boolean values to integers (0 or 1)\n",
    "X1 = X1.astype(int)\n",
    "X2 = X2.astype(int)\n",
    "\n",
    "# Create a DataFrame to store the dataset\n",
    "data = pd.DataFrame({\n",
    "    'U1': U1,\n",
    "    'U2': U2,\n",
    "    'U3': U3,\n",
    "    'X1': X1,\n",
    "    'X2': X2\n",
    "})\n",
    "data = data.astype(int)\n",
    "\n",
    "# Display the first few rows of the dataset\n",
    "print(data.head())"
   ]
  },
  {
   "cell_type": "markdown",
   "metadata": {},
   "source": [
    "### Fitting the model"
   ]
  },
  {
   "cell_type": "code",
   "execution_count": 65,
   "metadata": {},
   "outputs": [
    {
     "name": "stderr",
     "output_type": "stream",
     "text": [
      "Fitting causal mechanism of node X2: 100%|██████████| 5/5 [00:00<00:00, 1651.95it/s]"
     ]
    },
    {
     "name": "stdout",
     "output_type": "stream",
     "text": [
      "   U1  U2  U3  X1  X2\n",
      "0   0   1   1   1   1\n",
      "1   1   1   0   0   1\n",
      "2   1   1   0   0   1\n",
      "3   0   1   0   0   0\n",
      "4   1   0   0   0   1\n"
     ]
    },
    {
     "name": "stderr",
     "output_type": "stream",
     "text": [
      "\n"
     ]
    }
   ],
   "source": [
    "gcm.fit(causal_model, data)\n",
    "generated_data = gcm.draw_samples(causal_model, num_samples=1000)\n",
    "print(generated_data.head())"
   ]
  },
  {
   "cell_type": "markdown",
   "metadata": {},
   "source": [
    "### Calculating the ACE one more time"
   ]
  },
  {
   "cell_type": "code",
   "execution_count": 66,
   "metadata": {},
   "outputs": [
    {
     "data": {
      "image/png": "[encoded data removed]",
      "text/latex": [
       "$\\displaystyle 0.498$"
      ],
      "text/plain": [
       "0.498"
      ]
     },
     "execution_count": 66,
     "metadata": {},
     "output_type": "execute_result"
    }
   ],
   "source": [
    "gcm.average_causal_effect(causal_model,\n",
    "                         'X2',\n",
    "                         interventions_alternative={'X1': lambda x: 1},\n",
    "                         interventions_reference={'X1': lambda x: 0},\n",
    "                         num_samples_to_draw=1000)"
   ]
  },
  {
   "cell_type": "markdown",
   "metadata": {},
   "source": [
    "### Estimating confidence intervals (Confidence level = 0.95)"
   ]
  },
  {
   "cell_type": "code",
   "execution_count": 67,
   "metadata": {},
   "outputs": [
    {
     "name": "stderr",
     "output_type": "stream",
     "text": [
      "Estimating bootstrap interval...: 100%|██████████| 20/20 [00:00<00:00, 216.25it/s]\n"
     ]
    },
    {
     "data": {
      "text/plain": [
       "(array([0.50865]), array([[0.49045, 0.53405]]))"
      ]
     },
     "execution_count": 67,
     "metadata": {},
     "output_type": "execute_result"
    }
   ],
   "source": [
    "gcm.confidence_intervals(lambda: gcm.average_causal_effect(causal_model,\n",
    "                         'X2',\n",
    "                         interventions_alternative={'X1': lambda x: 1},\n",
    "                         interventions_reference={'X1': lambda x: 0},\n",
    "                         num_samples_to_draw=1000))"
   ]
  },
  {
   "cell_type": "markdown",
   "metadata": {},
   "source": [
    "## Conclusion"
   ]
  },
  {
   "cell_type": "markdown",
   "metadata": {},
   "source": [
    "As we can see, we're able to translate an input from DoWhy directly into BCAUSE and perform partial identification methods from there. In this notebook, we did every step manually, but we believe it's possible to automate this process in the future."
   ]
  }
 ],
 "metadata": {
  "kernelspec": {
   "display_name": "Python 3",
   "language": "python",
   "name": "python3"
  },
  "language_info": {
   "codemirror_mode": {
    "name": "ipython",
    "version": 3
   },
   "file_extension": ".py",
   "mimetype": "text/x-python",
   "name": "python",
   "nbconvert_exporter": "python",
   "pygments_lexer": "ipython3",
   "version": "3.11.5"
  }
 },
 "nbformat": 4,
 "nbformat_minor": 2
}
